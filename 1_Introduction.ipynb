{
 "cells": [
  {
   "cell_type": "markdown",
   "metadata": {},
   "source": [
    "%%latex\n",
    "\\tableofcontents \n",
    "\\setcounter{section}{0}\n",
    "\\setcounter{page}{1}\n",
    "\\newpage"
   ]
  },
  {
   "cell_type": "markdown",
   "metadata": {},
   "source": [
    "# Introduction\n",
    "\n",
    "## Motivation\n",
    "\n",
    "In the beginning of my academical career I was aiming an educational degree i math and physics. While studying at the University of Tübingen I was also worked as a research assistant in the Institute of Physical Chemistry.\n",
    "In the course of my studies I was allowed to spend 4 month in a school to gain first experiences in teaching physics and math to students between 12 and 20 years. Even though it was a great experience and I enjoyed it a lot to bring new ideas and concepts to the students, I also felt a strong urge to continue learning and explore. At this time the possibilities I saw in focusing on scientific research and development seemed more attractive to me. My reasoning was, that I might be able to combine my preference for teaching and research rather at the university than at school.\n",
    "Long story short, after some years I started my doctoral thesis in the \"Institute of Theoretical and Physical Chemistry\" at the University of Tübingen. I directly got the possibility to work in a project with an industrial partner. The focus was on building a new state of the art gas sensors. Besides the benefits of working in a great teams, having enough financial support for research activities and learning to present and report my results on a regular basis,  it also imposed some new problems needed to be solved.\n",
    "One of the biggest challenges was the continuous increase of experimental data in always shorter intervals. With the increasing industrialization and automatization of sensor production and testing, the quantity of high quality data increased dramatically.\n",
    "\n",
    "With the increased global interest in \"data science\", I was not the only one facing problems with the increasing amount of data needed to be processed and analyzed. In the beginning of each analysis, the specific task was not fully defined. It was rather an exploratory research to gain an idea about possible hidden opportunities. In this case the the traditional way of creating well defined software algorithms for a specific tasks did not fit too well.\n",
    "\n",
    "I rather had the need for efficient tools to reduce time consuming parts regarding the data analysis, which had been performed manually until now.  I was looking for a platform to combine multiple of these tools efficiently.  So at this point of my career with my very basic knowledge in the area of programming and the need to solve urgent tasks, I was looking for efficient solutions with a steep learning curve.\n",
    "\n",
    "Until then my standard procedure (and some others in our lab) of working with data was mainly based on manual feature extraction and analysis.\n",
    "When Working with a limited amount of samples, manually doing these steps was acceptable and efficient. With the industrial cooperation accelerated, the number of samples increased also rapidly. Soon we reached the point where the pre-processing of the data would easily consume a large amount of time. And that without even having started with a deeper analysis. In parallel to this, a project from the Python community gained more and more interest. Articles like <cite data-cite=\"Unpingco2014\">(Python for signal processing: Featuring IPython notebooks)</cite> pointed me to a new way of dealing with data and indicated, that the Python programming language might be very helpful. Regarding the fact, that Python was already a well established programming language, the introduction of the \"I(nteractive)Ptyhon notebook ecosystem\" was making the use of Python for in an scientific work flow very attractive.\n",
    "\n",
    "As mentioned in this article related to IPython: <cite data-cite=\"Osipov2016\">(The Rise of Data Science Notebooks, 2016)</cite>\n",
    "\n",
    ">\"... what they do offer is an environment for exploration, collaboration, and visualization.\"\n",
    "\n",
    "[\"Python at Cern\"](https://cds.cern.ch/record/2274794) describes for instance the use of Python at the Large Hadron Collider (LHC) at Cern. As the article mentions, \"The interesting bits of data have to be stored, analyzed, shared and published\". \"The ease of use and a very low learning curve makes Python a perfect programming language for many physicists and other people without the computer science background\". Python has been used at the LHC now for more than 20 years.\n",
    "Now in 2020 the general technological improvements allows also smaller institutions to work in a comparable way as for instance at the LHC. High computational power combined with large data storage facilities do not require a large financial investment anymore. As a consequence, in many research fields this \"data driven scientific research\" gains more and more interest. Nevertheless this is a slow process, and this work intends to help improving it.\n",
    "\n",
    "Already the initial attempts of using Python, the large potential also for my working field was clear. By learning Python I got efficient tools for calculations, analysis and representations. Additionally the new tools have been build focusing on an simple way of reporting result while including the way they have been gained. The environment around the so called \"IPython notebooks\" was the ideal piece, which I experienced as a missing block in the scientific work I was doing. In 2015 toolset around IPython notebooks have been unified along with other programming languages in a project called [Jupyter](https://en.wikipedia.org/wiki/Project_Jupyter). In the following part of this work, IPython and Jupyter will be treaded as synonyms.\n",
    "\n",
    "Besides my work for our industrial partner I also did fundamental research about semiconducting metaloxide gas sensors. Based on great research done before my time on gas sensors, my focus was now on numerical calculations of the gas sensors. Typically a theoretical model of a gas sensor is developed and the predictions are compared with experimental results. When publishing the results the peer review system assures, that the publications are well written, documented the on a solid and proven basis. But when reading such papers, I had the experience, many of them presented excellent ideas, but unfortunately practical instructions on how to implement the presented models were often not given.\n",
    "\n",
    "The work of rebuilding the model and recalculating the results was therefore often not possible in a reasonable amount of time. In my experience this limits the direct comparison of new model with experimental data from other sensors. It is also worth to mention, that in my experience the average experimental oriented researcher does not have the required programming knowledge to easily implement algorithm based on the presented work. But I am confident, that if an algorithm was given in an appropriate way, most research would benefit from the presented code.\n",
    "\n",
    "With the results I gained while my Phd. thesis, I was facing the same problem. Others understood the value of my work but could not transfer it to their particular problem.  At this point my graphical representation in the form of presentations, my detailed description and the corresponding algorithms of my work had been three separated parts. An appropriated way of representing those results in unified matter did not exists yet. Facing this problem more and more, I decided not to ignore it anymore. I made the choice to try to combine representation, description and algorithm in one unified way.\n",
    "\n",
    "I decided to orient myself back to my \"educational roots\" and use the powerful ecosystem around the \"Jupyter notebooks\" to calculate, represent and describe the results for my thesis for this task. This is why my thesis is written with the large focus on suppling a introduction to this excellent toolbox.\n",
    "\n",
    "This work will (hopefully) allow more people to gain insides in the sensing properties of semi conducting metal oxide sensors (SMOX).Additionally this thesis is intended to be a useful introduction into Python, specially IPython notebooks, for scientific work. \n",
    "\n",
    "These hopes are not unfunded. In my time working at the \"Eberhard Karls University of Tübingen\" i was also assigned to give multiple lectures and classes. One lecture branch has been the introduction to data mining. Often the lack of programming knowledge and the limited amount of lecture time did not allow a usage of Python as a supporting programming language. In these cases classical tools like Excel (tm)\n",
    " or Origin (tm) have been used to analyze example datasets for hidden facts. Most attendees have been very fast and understood the general concept of data mining. Simply not being able to translate the general concept into machine understandable instructions stopped them from using more advanced tools.\n",
    "\n",
    "In cases, where enough time was available, a short introduction into programming with Python gained a lot of interest and was generally seen as a positive experience. With just a short introduction already many advanced tasks can be performed, which would often even have been possible with the \"traditional\" tools.\n",
    "\n",
    "This thesis is therefore structured in such a way, that I will present my research results from the past years in a condensed form. Additionally I will use this opportunity to introduce and explain the importance of applying programming tools in the common work flow of scientific work. \n",
    "\n",
    "The potential of \"outsourcing\" repetitive tasks to machine executable scripts is huge. By focusing on investing more time in creativity and intelligence solutions, the overall quality of the results will increase. My hope is to bring with this thesis not only a deeper insight in the understanding of SMOX based gas sensors, but also help others to start a interesting journey into the wide area of data mining and machine learning with python. This work is intentionally structured in a way, to encourage modifications of the original work and simplify this process. The supplied program code is based entirely on well establish standard tools available for all operation systems. This makes this work easy reproducible for others.\n",
    "\n",
    "The thesis is structured in three major \"work packages\", each of them dealing with discrete elements of a typical scientific tasks. In a condensed form the following areas will be covered:\n",
    "\n",
    "1. Solving differential equations and integral numerically\n",
    "2. Using numerical models for simulation\n",
    "3. Fitting numerical results with experimental data\n",
    "\n",
    "\n",
    "I typically finish my introductions to Python by letting the students run their first commands. For other introductions found around the globe, this is a program which outputs \"Hello World.\". \n",
    "For Python I prefer to execute an other commands with boils almost down to the philosophical essence on how \"instructions\" should be.\n",
    "In a \"Jupyter notebook\", the next cell represents a \"code block\" and can be executed along the text of the document. The output of the executed code is then visible along with the text of the document.\n",
    "The `import` statement in Python is used to add functionality or features to the current programming environment. `import this` is a special \"easter egg\" hidden in every Python version. It adds some Zen to the work space.\n"
   ]
  },
  {
   "cell_type": "code",
   "execution_count": 1,
   "metadata": {},
   "outputs": [
    {
     "name": "stdout",
     "output_type": "stream",
     "text": [
      "The Zen of Python, by Tim Peters\n",
      "\n",
      "Beautiful is better than ugly.\n",
      "Explicit is better than implicit.\n",
      "Simple is better than complex.\n",
      "Complex is better than complicated.\n",
      "Flat is better than nested.\n",
      "Sparse is better than dense.\n",
      "Readability counts.\n",
      "Special cases aren't special enough to break the rules.\n",
      "Although practicality beats purity.\n",
      "Errors should never pass silently.\n",
      "Unless explicitly silenced.\n",
      "In the face of ambiguity, refuse the temptation to guess.\n",
      "There should be one-- and preferably only one --obvious way to do it.\n",
      "Although that way may not be obvious at first unless you're Dutch.\n",
      "Now is better than never.\n",
      "Although never is often better than *right* now.\n",
      "If the implementation is hard to explain, it's a bad idea.\n",
      "If the implementation is easy to explain, it may be a good idea.\n",
      "Namespaces are one honking great idea -- let's do more of those!\n"
     ]
    }
   ],
   "source": [
    "import this"
   ]
  },
  {
   "cell_type": "markdown",
   "metadata": {},
   "source": [
    "##  Jupyter Notebooks ![Juypter](media/Jupyter_logo.png)\n",
    "\n",
    "\"The Zen of Python\" might not always be the primary directive of each scientist, but the Python community consists most probably of many people how would consider the latter points as important. So did also the inventors of the IPython and Jupyter. A quick search will reveal multiple sources in the world wide web giving a detailed picture about what \"IPython Notebooks\" are and how Jupyter in connected with them. Here I will not try to give an general overview about this tool and rather stick to the phrase \"Learning by doing.\". A minimal understanding of working with Python will definitely be helpful for this thesis, but in not necessarily required. I will try to explain the used features this notebooks to guide an interested reader to the point where:\n",
    "\n",
    "* understanding the fundamental instructions of Python\n",
    "* using the basic functionality of the Notebooks\n",
    "* fundamental understanding of SMOX based gas sensors\n",
    "\n",
    "is gained.\n",
    "\n",
    "It is worth mentioning, that the intention of such notebooks is to merge the essential tools of scientific work flows together. Data acquisition, preparation, analysis, representation and documentation all available in one place. The strength of not just sharing final conclusions in a nicely formatted way, but also being able to share the full stack of steps necessary to reach the final conclusion is essentially the strength of the Jupyter notebooks. This feature is already changing the way how scientific results are shared/published and was intentionally designed this way <cite data-cite=\"Randles2017\"></cite>.\n",
    "\n",
    "The default format of representing anything in a notebook is based on \"Markdown\". Wikipedia summarizes Markdown like this:\n",
    "\n",
    ">Markdown is a lightweight markup language with plain text formatting syntax. Wikipedia\n",
    "\n",
    "This means a document is formatted by writing plain text and special text blocks are interpreted as formatting commands. E.g. **BOLD** letters are generated by encapsulating the text with `** Text here **`, headings are generated by starting the heading with `#`. Depending on the number of `#`, subsections are created. I will not go into detail here about the features of Markdown. Many features are used in this notebook and are directly accessible by double-clicking the text element. By doing this, the formatted text will switch back to the \"plain text representation\" and will reveal the way it was created. By again executing the cell with `CTRL+ENTER`, its Markdown formatted representation is again rendered.\n",
    "\n",
    "One other handy feature of the Jupyter ecosystem I use is the ability to transform notebooks into multiple other formats. Just to name some: HTML, WORD (DOC, DOCX), Latex. The tool `nbconvert` is used internally to convert the Markdown formatted representation into other formats. For this thesis the default option \"Export as PDF\" under the File option generates a Latex based PDF file.\n",
    "[Mastering-markdown](https://guides.github.com/features/mastering-markdown/) is a web page, where I found some hints on how to format my notebook. This example on web page demonstrates for instance how to generate block quotes:\n",
    "\n",
    "As Kanye West said:\n",
    "\n",
    "> We're living the future so\n",
    "> the present is our past.\n",
    "\n",
    "To learn how to use notebooks it is best to use them in an interactive environment. The next section will explain how to obtain one for free!"
   ]
  },
  {
   "cell_type": "markdown",
   "metadata": {},
   "source": [
    "### Installation guide\n",
    "The easiest way to get started would be to use the Anaconda distribution. Anaconda bundles multiple different tools and installs them in the operation system. Anaconda will take care of cross dependencies and handle the update process of the software. This is not the only way to get started with \"Jupyter Notebooks\" but surely an very fast and easy one. [HERE](media/presentations/InstallAnaconda/Anaconda-Python.pdf) are the slides I use for my lectures to guide students into the world of Python and [here one example](media/presentations/InstallAnaconda/PythonÜbung.zip) of it's usage.\n"
   ]
  },
  {
   "cell_type": "markdown",
   "metadata": {},
   "source": [
    "### Example Notebook - Sneak preview\n",
    "Besides the first example `import this`, here is a very basic example to demonstrate some features of the notebook."
   ]
  },
  {
   "cell_type": "markdown",
   "metadata": {},
   "source": [
    "#### \"Simple is better than complex.\"\n",
    "\n",
    "The Jupyter environment is equipped with \"magic commands\", which are not part of the base programming language (i.e. Python), but rather a helper instructions to simplify common tasks. Magic commands always start with `%` and are followed with an instruction. I will demonstrate in this example the use of the `%pylab inline` instruction. This modifies the current programming space to become a lab nicely equipped for scientific work tasks. For instance like a chemistry lab is commonly equipped with a balance, a water tab and a fire extinguisher, in this case a \"pylab\" is equipped with a data handing, a plotting and a calculation tool (besides many others). The additional parameter `inline` makes sure, that the figures will be along with this document. So let's setup a \"pylab\" and run some lines of code. (The plotting is handled in the background by Matplotlib <cite data-cite=Hunter2007></cite>)"
   ]
  },
  {
   "cell_type": "code",
   "execution_count": 18,
   "metadata": {},
   "outputs": [
    {
     "name": "stdout",
     "output_type": "stream",
     "text": [
      "Populating the interactive namespace from numpy and matplotlib\n"
     ]
    },
    {
     "data": {
      "image/png": "[encoded data removed]",
      "text/plain": [
       "<Figure size 1152x576 with 1 Axes>"
      ]
     },
     "metadata": {
      "needs_background": "light"
     },
     "output_type": "display_data"
    }
   ],
   "source": [
    "%pylab inline\n",
    "\n",
    "#get a list of 5000 points between -50 and 50\n",
    "xs = linspace(start=-50, stop=50, num=5000)\n",
    "\n",
    "# Python way of adding a comment is the '#' character\n",
    "# Python way of writer 'x to the power of y' is x**y\n",
    "# here I am calculating the third power of x for 5000 points between -50 and 50\n",
    "ys = xs**3\n",
    "\n",
    "#plot it\n",
    "fig = figure(figsize=(16,8))\n",
    "plt.plot(xs,ys,'b');\n",
    "\n",
    "#name axes\n",
    "plt.xlabel('X')\n",
    "plt.ylabel('Y');\n"
   ]
  },
  {
   "cell_type": "markdown",
   "metadata": {},
   "source": [
    "The `linspace` function generates a 5000 linear distributed points in the interval \\[-50,50) and saves those points in the xs variable. ys is a list holding the third power of each point in xs.\n",
    "`plt.` is a submodule defined by the magic command `%pylab` which handels data plotting in a very simple way. \n",
    "`plt.plot(x,y,'r-')` for example plots x vs. y with a red line. The thesis is done in the notebook to offer the reader the possibility to directly work with newly gained knowledge.\n",
    "Therefore the upper block is a good opportunity to do the fist steps in Python. For instance change the line format to 'b' (blue). Or to 'b-.'. Change the exponent from 3 to 3.1.\n",
    "To do so:\n",
    "\n",
    "* click on the code box above\n",
    "* edit the code\n",
    "* Add the following line `plt.title('The power law')`\n",
    "* go back with CTRL-Z to correct your mistakes\n",
    "* hit CTRL-ENTER to execute the code\n"
   ]
  },
  {
   "cell_type": "markdown",
   "metadata": {},
   "source": [
    "## SMOX based gas sensors\n",
    "In this section a very short summary about **S**emi conducting **M**etal **OX**ide (SMOX) based gas sensors is provided. Relevant aspects for this thesis will be presented in a general way and additional literature references are be provided. The intention is to provided the minimum amount of information needed to follow the this work. The supplied references are a good staring point to gain a detailed understanding of SMOX based gas sensors.\n",
    "\n",
    "### SMOX material\n",
    "\n",
    "A typical definition of a sensors describes two elements. The receptor and the transducer. The receptor interacts with the external stimulus, while the transducer translates this stimulus into a measurable response. \n",
    "In the case of SMOX sensors those two \"parts\" can't be separated directly, since the SMOX material takes over the role of both. Generally the gas sensing with SMOX materials is based on the interaction of target molecules at its surface and a resulting change of the semiconductor itself <cite data-cite=\"Barsan2003\"></cite>.\n",
    "\n",
    "\n",
    "Nevertheless the chemistry at the surface, like the adsorption/desorption of molecules, may be seen as the receptor of the sensor.\n",
    "In the process of adsorption/desorption at the surfaces, typically charges from the inside of the material are involved. In general this results in a modification of the charge distribution inside the semiconductor. As a consequence of an increase/decrease of the free charge carrier concentration the overall resistance of the material changes. The processes related to changes inside the semiconductor and hence the resistance, could be associated to the \"transducer\" part of the sensor. A detailed description of the physical and chemical properties that make tin oxide a suitable material gas sensing is described here:\"<cite data-cite=\"Batzill2005\">ref</cite>.\n",
    "\n",
    "For most SMOX the intrinsic electrical conductivity is very low due to a high band gab of the semiconductor. Typical preparation methods of the SMOX material generate defects inside the crystal structure due to missing oxygen atoms. For $SnO_2$, these defects act as additional electron donors and increase the number of free charge carriers and hence increase the conductivity.\n",
    "\n",
    "Typically density of additional donors $N_D$ of acceptors $N_A$ plays a significant role in the sensing properties. The availability of additional free charge carries resulting from such defects depend also on the overall temperature of the sensor. Typical operation temperatures are around 300°C, but also higher and lower operations temperatures may be suitable depending on the use case.\n",
    "Besides effecting the semiconductors properties, the reactions at the surface of the sensor are also strongly dependent on the temperature.\n",
    "\n",
    "### SMOX based thick film sensors\n",
    "\n",
    "The model of this work focuses on describing thick film SMOX gas sensors. In the case of such sensors the SMOX material is deposited as an porous thick film on top of a electric structure suitable to measure the resistance of the film. The film itself consists of multiple nano-sized grains in direct contact with each other. To measure the resistance of the film, a bias voltage is applied and the resulting current which passes through the network of multiple grains is measured. Depending on the percolation path, the total resistance of the sensor $R_{Sensor}$ can be approximated as the product of a geometrical factor $G$ associated to the film morphology and the resistance of one grain $R_{Grain}$ as:\n",
    "\n",
    "\\begin{align}\n",
    "R_{Sensor}  = G * R_{Grain} \\label{r_sensor_r_grain}\\tag{Resistance of sensor}\n",
    "\\end{align}\n",
    "The following sketch represents the typical setup of a thick film sensor:\n",
    "\n",
    "![/media/grains_sensor.png](media/grains_sensor.png)\n",
    "\n",
    "\n",
    "\n",
    "\n",
    "### Surface potential\n",
    "\n",
    "To better understand the processes related to the changes in the free charge carrier concentration inside the semiconductor, the semiconductor is typically described in a energy bands representation. For instance for $SnO_2$, trapping electrons at the surface results in an upward bending of the conduction band. The position of the conduction band at the surface is typically expresses in units $E_S = -eV_S$ ($e$ is the charge of an electron). $V_S$ is called the surface potential. In regard to a non-bended conduction band, the number of electrons are reduced in regions, where the band in elevated. \n",
    "\n",
    "Experimentally the Kelvin probe method can be used to measure the change in the surface potential $\\Delta V_S$. The experimental setup and the requirements to obtain the value of $\\Delta V_S$ are described in detail here: <cite data-cite=\"Oprea2009a\"></cite>\n",
    "\n",
    "The relation between $\\Delta V_S$ and the resulting change in the resistance of the semiconductor $R$ is then only determined by the semiconductor. The relation between $\\Delta V_S$ and the resistance $R$ of the semiconductor is defined independently of the actual surface chemistry. The relation depends strongly on the temperature $T$, the defect concentration $N_D$ and the shape of the underlaying material. This work focuses on the deriving a model to predict the theoretical value of $\\Delta R_{V_S} = \\frac {R_{V_S}} {R_{V_S=0}}$ from a change in the surface potential $\\Delta V_S$.\n",
    "\n",
    "With the definition of (\\ref{r_sensor_r_grain}) the value of $\\Delta R_{V_S}$ of one grain can be directly calculated by the ratio of the experimentally measured value of the sensors $R_{Sensor}$.\n",
    "\\begin{align}\n",
    "\\frac{R_{Sensor_{V_S}}}{R_{Sensor_{V_S=0}}}  = \\frac{G*R_{Grain_{V_S}}}{G*R_{Grain_{V_S=0}}} = \\Delta R_{V_S}\n",
    "\\end{align}\n",
    "\n",
    "### Numerical model\n",
    "\n",
    "\n",
    "Based on the example of $SnO_2$ as SMOX material, a numerical model describing effects of shape, size, defect concentration and temperature is developed for spherical grains. With such a model multiple conclusions about the dependency of these parameters on the sensitivity and performance of a sensor can be derived. Additionally the numerical model is able to provide the number of charges involved in the sensing process. This number is a important parameter involved in the description of the chemical reaction at the surface. \n",
    "\n",
    "When solving this problem numerically, some assumptions will need to be introduction. These assumptions simplify the problem to a level where a numerical calculation is possible, but will reduce the validity of the results only to a small subset of all possible situations.\n",
    "The calculations in this thesis are also packed with assumptions and boundary conditions. My intention is to supply enough information to understand the relevance of the assumption and it's implications along with the supplied code.\n",
    "The way of presenting this knowledge should lead/motivate others to adapt the presented work to individual other cases with different boundary conditions."
   ]
  },
  {
   "cell_type": "markdown",
   "metadata": {},
   "source": [
    "# Summary\n",
    "Since the motivation for this \"interactive\" thesis should be clear now, I would like to come in the next section now to my actual research topic:\n",
    "\"Numerical calculation of semiconducting metal oxide (SMOX) based gas sensors\".\n",
    "In the [next chapter](2-Grain-SMOX.ipynb) I will demonstrate how theoretical numerical calculations are used to for chemical sensors are used to better understand experimental results. In the [following chapter](3-Applying_theorie-to-practice.ipynb) I will demonstrate how such knowledge could be used to improve the performance of a sensor regarding it's sensitivity and selectivity.\n",
    "\n",
    "[Follow this link to come to the next section.](2-Grain-SMOX.ipynb)"
   ]
  },
  {
   "cell_type": "markdown",
   "metadata": {},
   "source": [
    "# About the PDF-Version of this work\n",
    "This notebook was not intended to be used as a printed hard copy or as a PDF. Its main intention is to serve as an easy entry point to Python supported science.\n",
    "Many of the implemented features in these notebooks like interactive widgets, animated data representations and live code examples will not work in the PDF-version. Only a static snapshot of the interactive  representation can be represented outside the Jupyter notebook, at best.\n",
    "The benefits of interacting with the presented work in a notebook should motivate the reader to use the notebook.\n",
    "\n",
    "Nevertheless the integrated function to export a notebook to a latex based version offers a very nice way to publish results in a printable way. So please keep in mind, that the PDF-verison may not be able to represent all the features of the notebook as intended and some links might not work as expected. You are strongly encouraged to switch to the Jupyter presentation of this work and experience the full potential of such notebooks. A snapshot of the current folder can be downloaded here: [Num_smox_sensor.zip](https://ipfs.io/ipfs/QmPVMUbbgEnBTNeusJf71eRsDqp3s6ivPjuXbigu8Pv5W1/Num_calc_smox_sensor.zip)\n",
    "\n",
    "## Equations\n",
    "In a typical scientific thesis and textbook, relevant equations are referred by numbers of identifiers. In Latex this is done, by assigning a label and a tag to an equation. If this equation needs to be referred to, a pointer to the reference is added, and the tag is used for the representation of this equation.\n",
    "As an example, an arbitrary equation from this thesis is used. The (internal) reference of this equation is 'example', while the printed representation (tag) is \"Example Equation\".\n",
    "\n",
    "\\begin{align}\n",
    "\\frac{d²V^{*}}{dr^{*2}}=1-n^{*}(V^{*})-\\frac{2}{r^{*}}\\frac{dV^{*}}{dr^{*}}\\label{example}\\tag{Example Equation}\n",
    "\\end{align}\n",
    "\n",
    "To refer to this equation a reference can be added which will look like this (\\ref{example}). The underlying mechanisms will link the reference with the equation, print the label, and add an hyperlink allowing to directly jump to the equation. This feature works either in notebook or PDF representations.\n",
    "One drawback of the notebook representation is, that the equation and reference need to be in the same code block/cell. Otherwise the reference is not working. Instead of linking the equation correctly, ??? will be represented. My opinion is, that this will change with future versions of Jupyter. Since the PDF version is processed by a Latex interpreter in total, the \"one code block\" limitation does not exist there. To demonstrate this, I will try to reference the equation in the next code block."
   ]
  },
  {
   "cell_type": "markdown",
   "metadata": {},
   "source": [
    "Here the same reference to the equation: \\ref{second_derivative}. In the PDF-Version this will work correctly and in the Notebook-Version only ??? should be visible (until now)."
   ]
  },
  {
   "cell_type": "markdown",
   "metadata": {},
   "source": [
    "## Tables\n",
    "With the numerical calculations performed in this thesis, data will need to be represented also. One way of doing this is by plotting the the data. This is also suitable for a static PDF-Version of this thesis, which often is useful/necessary to have. This feature is well implemented and the transfer from Notebook to PDF version works well.\n",
    "Another way to display data are tables. Similar to the well known, omnipresent tool for working with tables, Microsoft Excel (tm), the Python universe has its own, but similar, tool.\n",
    "It's called Pandas. As a primer I will give here a very short introduction to Pandas. What sheets are for Excel, are Dataframes for Pandas. Here a simple example how to create  a Dataframe in analogy to the previous programming example:"
   ]
  },
  {
   "cell_type": "code",
   "execution_count": 6,
   "metadata": {},
   "outputs": [
    {
     "name": "stdout",
     "output_type": "stream",
     "text": [
      "Using matplotlib backend: Qt5Agg\n",
      "Populating the interactive namespace from numpy and matplotlib\n"
     ]
    }
   ],
   "source": [
    "%pylab\n",
    "import pandas\n",
    "\n",
    "#create some x values\n",
    "x = linspace(start=0,stop=5,num = 10)\n",
    "\n",
    "#the y values will the the square of the x values\n",
    "y = x**2\n",
    "\n",
    "#Put them in a Dataframe and reference this new Dataframe with the variable `dF`\n",
    "dF = pandas.DataFrame({'x':x, 'y':y})"
   ]
  },
  {
   "cell_type": "markdown",
   "metadata": {},
   "source": [
    "This simple example of a Dataframe should demonstrate the basic concept of Dataframes. Once data is in the `DataFrame` format, the are infinit ways to transform/slice/merge/... it, to bring it into the desired shape. Along this thesis, some of the functionalities of Dataframes will be used and explained. \n",
    "Since the Jupyter environment is still \"under construction\", the transfer from Juypter to PDF for notebooks does not work to well until now. This does not mean, that is is not possible, it is just not yet implemented in the default/vanilla environment. This is way I want to highlight the small tweak that is at this point still needed to have a comparable output in Juypter notebooks and printed PDFs.\n",
    "To bypass this obstacle the default behavior of pandas needs to be altered ( similar to this post: [Latex-Tables Monkey Patch](https://stackoverflow.com/a/24167756)). This following patch brings DataFrames in the appropriate shape to by nicely represented in both representations."
   ]
  },
  {
   "cell_type": "markdown",
   "metadata": {},
   "source": [
    "### Before the patch"
   ]
  },
  {
   "cell_type": "code",
   "execution_count": 7,
   "metadata": {},
   "outputs": [
    {
     "data": {
      "text/html": [
       "<div>\n",
       "<style scoped>\n",
       "    .dataframe tbody tr th:only-of-type {\n",
       "        vertical-align: middle;\n",
       "    }\n",
       "\n",
       "    .dataframe tbody tr th {\n",
       "        vertical-align: top;\n",
       "    }\n",
       "\n",
       "    .dataframe thead th {\n",
       "        text-align: right;\n",
       "    }\n",
       "</style>\n",
       "<table border=\"1\" class=\"dataframe\">\n",
       "  <thead>\n",
       "    <tr style=\"text-align: right;\">\n",
       "      <th></th>\n",
       "      <th>x</th>\n",
       "      <th>y</th>\n",
       "    </tr>\n",
       "  </thead>\n",
       "  <tbody>\n",
       "    <tr>\n",
       "      <th>0</th>\n",
       "      <td>0.000000</td>\n",
       "      <td>0.000000</td>\n",
       "    </tr>\n",
       "    <tr>\n",
       "      <th>1</th>\n",
       "      <td>0.555556</td>\n",
       "      <td>0.308642</td>\n",
       "    </tr>\n",
       "    <tr>\n",
       "      <th>2</th>\n",
       "      <td>1.111111</td>\n",
       "      <td>1.234568</td>\n",
       "    </tr>\n",
       "    <tr>\n",
       "      <th>3</th>\n",
       "      <td>1.666667</td>\n",
       "      <td>2.777778</td>\n",
       "    </tr>\n",
       "    <tr>\n",
       "      <th>4</th>\n",
       "      <td>2.222222</td>\n",
       "      <td>4.938272</td>\n",
       "    </tr>\n",
       "    <tr>\n",
       "      <th>5</th>\n",
       "      <td>2.777778</td>\n",
       "      <td>7.716049</td>\n",
       "    </tr>\n",
       "    <tr>\n",
       "      <th>6</th>\n",
       "      <td>3.333333</td>\n",
       "      <td>11.111111</td>\n",
       "    </tr>\n",
       "    <tr>\n",
       "      <th>7</th>\n",
       "      <td>3.888889</td>\n",
       "      <td>15.123457</td>\n",
       "    </tr>\n",
       "    <tr>\n",
       "      <th>8</th>\n",
       "      <td>4.444444</td>\n",
       "      <td>19.753086</td>\n",
       "    </tr>\n",
       "    <tr>\n",
       "      <th>9</th>\n",
       "      <td>5.000000</td>\n",
       "      <td>25.000000</td>\n",
       "    </tr>\n",
       "  </tbody>\n",
       "</table>\n",
       "</div>"
      ],
      "text/plain": [
       "          x          y\n",
       "0  0.000000   0.000000\n",
       "1  0.555556   0.308642\n",
       "2  1.111111   1.234568\n",
       "3  1.666667   2.777778\n",
       "4  2.222222   4.938272\n",
       "5  2.777778   7.716049\n",
       "6  3.333333  11.111111\n",
       "7  3.888889  15.123457\n",
       "8  4.444444  19.753086\n",
       "9  5.000000  25.000000"
      ]
     },
     "metadata": {},
     "output_type": "display_data"
    }
   ],
   "source": [
    "display(dF)"
   ]
  },
  {
   "cell_type": "markdown",
   "metadata": {},
   "source": [
    "### The patch"
   ]
  },
  {
   "cell_type": "code",
   "execution_count": 8,
   "metadata": {},
   "outputs": [],
   "source": [
    "import pandas\n",
    "pandas.set_option('display.notebook_repr_html', True)\n",
    "\n",
    "def _repr_latex_(self):\n",
    "    return r\"\"\"\n",
    "    \\begin{center}\n",
    "    {%s}\n",
    "    \\end{center}\n",
    "    \"\"\" % self.to_latex()\n",
    "\n",
    "pandas.DataFrame._repr_latex_ = _repr_latex_  # monkey patch pandas DataFrame"
   ]
  },
  {
   "cell_type": "markdown",
   "metadata": {},
   "source": [
    "### Prettier tables after the patch"
   ]
  },
  {
   "cell_type": "code",
   "execution_count": 9,
   "metadata": {},
   "outputs": [
    {
     "data": {
      "text/html": [
       "<div>\n",
       "<style scoped>\n",
       "    .dataframe tbody tr th:only-of-type {\n",
       "        vertical-align: middle;\n",
       "    }\n",
       "\n",
       "    .dataframe tbody tr th {\n",
       "        vertical-align: top;\n",
       "    }\n",
       "\n",
       "    .dataframe thead th {\n",
       "        text-align: right;\n",
       "    }\n",
       "</style>\n",
       "<table border=\"1\" class=\"dataframe\">\n",
       "  <thead>\n",
       "    <tr style=\"text-align: right;\">\n",
       "      <th></th>\n",
       "      <th>x</th>\n",
       "      <th>y</th>\n",
       "    </tr>\n",
       "  </thead>\n",
       "  <tbody>\n",
       "    <tr>\n",
       "      <th>0</th>\n",
       "      <td>0.000000</td>\n",
       "      <td>0.000000</td>\n",
       "    </tr>\n",
       "    <tr>\n",
       "      <th>1</th>\n",
       "      <td>0.555556</td>\n",
       "      <td>0.308642</td>\n",
       "    </tr>\n",
       "    <tr>\n",
       "      <th>2</th>\n",
       "      <td>1.111111</td>\n",
       "      <td>1.234568</td>\n",
       "    </tr>\n",
       "    <tr>\n",
       "      <th>3</th>\n",
       "      <td>1.666667</td>\n",
       "      <td>2.777778</td>\n",
       "    </tr>\n",
       "    <tr>\n",
       "      <th>4</th>\n",
       "      <td>2.222222</td>\n",
       "      <td>4.938272</td>\n",
       "    </tr>\n",
       "    <tr>\n",
       "      <th>5</th>\n",
       "      <td>2.777778</td>\n",
       "      <td>7.716049</td>\n",
       "    </tr>\n",
       "    <tr>\n",
       "      <th>6</th>\n",
       "      <td>3.333333</td>\n",
       "      <td>11.111111</td>\n",
       "    </tr>\n",
       "    <tr>\n",
       "      <th>7</th>\n",
       "      <td>3.888889</td>\n",
       "      <td>15.123457</td>\n",
       "    </tr>\n",
       "    <tr>\n",
       "      <th>8</th>\n",
       "      <td>4.444444</td>\n",
       "      <td>19.753086</td>\n",
       "    </tr>\n",
       "    <tr>\n",
       "      <th>9</th>\n",
       "      <td>5.000000</td>\n",
       "      <td>25.000000</td>\n",
       "    </tr>\n",
       "  </tbody>\n",
       "</table>\n",
       "</div>"
      ],
      "text/latex": [
       "\n",
       "    \\begin{center}\n",
       "    {\\begin{tabular}{lrr}\n",
       "\\toprule\n",
       "{} &         x &          y \\\\\n",
       "\\midrule\n",
       "0 &  0.000000 &   0.000000 \\\\\n",
       "1 &  0.555556 &   0.308642 \\\\\n",
       "2 &  1.111111 &   1.234568 \\\\\n",
       "3 &  1.666667 &   2.777778 \\\\\n",
       "4 &  2.222222 &   4.938272 \\\\\n",
       "5 &  2.777778 &   7.716049 \\\\\n",
       "6 &  3.333333 &  11.111111 \\\\\n",
       "7 &  3.888889 &  15.123457 \\\\\n",
       "8 &  4.444444 &  19.753086 \\\\\n",
       "9 &  5.000000 &  25.000000 \\\\\n",
       "\\bottomrule\n",
       "\\end{tabular}\n",
       "}\n",
       "    \\end{center}\n",
       "    "
      ],
      "text/plain": [
       "          x          y\n",
       "0  0.000000   0.000000\n",
       "1  0.555556   0.308642\n",
       "2  1.111111   1.234568\n",
       "3  1.666667   2.777778\n",
       "4  2.222222   4.938272\n",
       "5  2.777778   7.716049\n",
       "6  3.333333  11.111111\n",
       "7  3.888889  15.123457\n",
       "8  4.444444  19.753086\n",
       "9  5.000000  25.000000"
      ]
     },
     "metadata": {},
     "output_type": "display_data"
    }
   ],
   "source": [
    "display(dF)\n",
    "#\"Test Tabel\""
   ]
  },
  {
   "cell_type": "markdown",
   "metadata": {},
   "source": [
    "In Jupyter notebooks the output will look very similar. In the PDF version of this thesis, those two output will differ(, unless a newer version of Jupyter fixed this issue.) To have this thesis in a PDF printable form, I will use the presented patch to unify the output. On the other side I suggest not to use this patch, and rather work with the Jupyter notebooks and its default representation, since the patch has also its downsides. But this would go beyond the scope of this remark about the patch.\n"
   ]
  },
  {
   "cell_type": "markdown",
   "metadata": {},
   "source": [
    "# Bibliography section"
   ]
  },
  {
   "cell_type": "markdown",
   "metadata": {},
   "source": [
    "%%latex\n",
    "\\bibliographystyle{alphadin}\n",
    "\\bibliography{ipython}"
   ]
  }
 ],
 "metadata": {
  "kernelspec": {
   "display_name": "Python 3",
   "language": "python",
   "name": "python3"
  },
  "language_info": {
   "codemirror_mode": {
    "name": "ipython",
    "version": 3
   },
   "file_extension": ".py",
   "mimetype": "text/x-python",
   "name": "python",
   "nbconvert_exporter": "python",
   "pygments_lexer": "ipython3",
   "version": "3.8.1"
  },
  "title": "Jupyter for scientific research"
 },
 "nbformat": 4,
 "nbformat_minor": 4
}
