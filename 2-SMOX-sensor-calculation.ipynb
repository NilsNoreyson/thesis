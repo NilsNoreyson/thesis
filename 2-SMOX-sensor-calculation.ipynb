{
 "cells": [
  {
   "cell_type": "markdown",
   "metadata": {},
   "source": [
    "%%latex\n",
    "\\tableofcontents \n",
    "\\setcounter{section}{0}"
   ]
  },
  {
   "cell_type": "markdown",
   "metadata": {},
   "source": [
    "# Abstract\n",
    "\n",
    "The investigation of thick film semiconducting metaloxide gas sensors (SMOX) offers for a scientist many secrets to reveal. Hidden in the mystery of semiconductors most process are not available by simple measuring techniques. The general procedure of investigating a material follows the following lines:\n",
    "\n",
    "A measuring technique is applied and based on the state-of-the-art understanding of the transduction mechanism the results are interpreted. The risk of getting to wrong conclusions are fairly high since the amount of assumption in the logical conclusion-path are quit high.\n",
    "\n",
    "A major key figure measured is often the resistance of the sensor. Therefore one important elements in this logical path of conclusion is how electrical properties of the semiconductor result in a resistance. Further more the how (relative) changes of the properties result in changes in the resistance. With this knowledge other processes related i.e. to chemical surface reaction my be understood better. "
   ]
  },
  {
   "cell_type": "markdown",
   "metadata": {},
   "source": [
    "# General Aspects of $SnO_2$ based gas sensors\n",
    "\n",
    "\n",
    "\n",
    "## Common preparation routes of $SnO_{2}$ materials \n",
    "\n",
    "### SOl gel\n",
    "\n",
    "#### Morphologies and shape\n",
    "\n",
    "### Flame spray pyrolysis\n",
    "\n",
    "\n",
    "\n",
    "#### Morphologies and shape\n",
    "\n",
    "## Bulk properties of the SnO_{2}\n",
    "\n",
    "## Work function\n",
    "\n",
    "### Kelvin Probe \n",
    "\n",
    "## Surface reactions\n",
    "\n",
    "## Modelling for the transduction and reaction\n",
    "\n",
    "### General principle of measurement \n",
    "\n",
    "### Schottky approximation\n",
    "\n",
    "### Boltzmann Approximation\n",
    "\n",
    "### Effective density of states N_{C}\n",
    "\n",
    "### Current models, State of the art\n"
   ]
  },
  {
   "cell_type": "markdown",
   "metadata": {},
   "source": [
    "# Motivation\n",
    "The research on semiconducting metal oxide gas sensors was focusing in the past mostly on scenarios, where oxygen is the most dominant reactive, gaseous, species in the proximity of the sensor. The adsorbed oxygen at the surface of the semiconductor lead to an interaction with the charges inside the thick film grains. Due to the trapping of the charge carrier by oxygen, a depletion layer is formed in the surface region of the semiconductor. Based on this depletion layer assumption, many investigations have successfully lead to a deep understanding of the sensing mechanism. \n",
    "\n",
    "Nevertheless, the assumption the existence of an depletion layer is not always valid. Recent experimental results have shown, that even under atmospheric conditions which are common in real live, the dominant impact of oxygen may be gone. It could be shown, that under conditions of 50% r.h. and low concentrations of CO (>1 ppm) in synthetic air, the depletion layer was gone and a accumulation layer manifested. The results are shown in Figure \n",
    "\n",
    "![Nitrogen switch](media/pics/external_plots/nitroline_switch_julia.jpg)\n",
    "\n",
    "With the absence of the depletion layer also most simplifications are not valid anymore. Mainly the validity of the Schottky and Boltzmann approximation are not given anymore. Facing those facts the equations to describe the transduction mechanism for a specific electrical band configurations needed a more general descriptions, which includes a depletion and accumulation layer controlled transduction mechanism.\n",
    "\n",
    "To describe such a semiconductor the set of differential equations is available in literature. Since the previously used simplifications for such problems are not valid in the generalized case, finding an analytically solution exceeded by far my intellectual capabilities.This is why a I chose to go a different. Find a numerical solution for the problem by using computational power\n",
    "\n",
    "While working in the field of SMOX allready some years, I was used to describe transduction processes by assigning different parts of an analytical solution to properties of the sensor. With a numerical solution this is not possible anymore and this was certainly a drawback of this method. But on the other side the relation between an effect and a intrinsic property can be studied also in detail, when numerically solving the equations for multiple values of the intrinsic property. The influence of may be studied and an insight about the principles can be gained. Therefore the goal was first to break the problem of describing a SMOX sensor into smaller parts discreet parts and second trying to solve each of it individually.\n",
    "\n",
    "In the upcoming chapters I will describe the different part and how they have been simplified, solved individually and combined again. Each part will also hold a section where experimental data is compared with the numerically gained results."
   ]
  },
  {
   "cell_type": "markdown",
   "metadata": {},
   "source": [
    "# Numerical calculation of semiconductors gas sensors"
   ]
  },
  {
   "cell_type": "markdown",
   "metadata": {},
   "source": [
    "## Introduction\n",
    "\n",
    "To elaborate the modeling of sensing, different equations, many of which are described in [sec:current models] such as the shape dependent Poisson equation or the combination between the Poisson equation, the electro-neutrality equation and the geometry dependent electrical current path, must be solved. In most cases, this is an extensive mathematical effort and therefore, the numerical computing environments Python will be used to derive numerical solutions for equations, which cannot be solved analytically, as shown below. Depending on the grains size the charge trapping at the surface has different impact on the potential and charge distribution inside the grain. For large grains compared to their Debye length ($L_D$), a charge transfer at the surface may be leave the bulk unaffected. In contrast to large grains, relative small grains may be affected through the whole grain (Figure [fig:Potential-for-spheriacal,small_1ld]). \n",
    "\n",
    "To understand the influence of a the charge transfer at the surface the resulting potential distribution which propagates inside the grain is from main importance. With this knowledge the free charge carrier concentration and a position dependent resistivity can be defined. \n",
    "\n",
    "When investigating the total resistance of one grain, the pathway through the grain plays a major role. The total resistance may vary a lot based on the an-isotropic resistivity distribution. \n",
    "\n",
    "In the simplest case of symmetric contacts on opposite sites, a graphical representation of the results from a numerical simulation of one grain with a small depletion layer is shown in (Figure 3). The resulting total resistance of one grain as a function of the surface potential can then be used as an approximation for the resistance of a full multi-grain - sensor. (Figure [fig:grain_simulation_small_depl]). The relation between surface potential change and resistance change may also be obtained experimentally as described in the previous paragraph with the Kelvin-Probe-Method (REF).By comparing the Kelvin-Probe-Data with the results from the numerical simulation a better understanding of the influence of the grain size on the performance can be gained. The fitting of the numerical parameters of the simulation to experimental data or generally fitting of data with an appropriate function can easily be performed in the presented environment. "
   ]
  },
  {
   "cell_type": "markdown",
   "metadata": {},
   "source": [
    "## Semiconductor properties of the SMOX grains\n",
    "\n",
    "The advantages of industrialized production techniques are inline with general advantages of the SMOX-based sensor technologie. Both are:\n",
    "\n",
    "• upscalable\n",
    "\n",
    "• highly reproducible \n",
    "\n",
    "• low cost\n",
    "\n",
    "Besides the benefits for the industrialization of such a material, also the resulting morphological are beneficial for a good sensor performance. The typical spherical grains with a narrow size distribution result in high surface to volume ration. Besides the high surface area, the high number of grain-grain contacts have a positive effect on the sensitivity of the sensor, due to the high number of back to back Schottky barriers. As described in [sec:current models]such barriers are of major importance for the sensing properties.\n",
    "\n",
    "In the literature other geometries claim exceptional performances for multiple other shapes. As from hollow spheres to nano-rods, often the mechanism which explains the measured increase in performance is not explained. Since the aim is to gain a fundamental understanding of the shape influence while staying close to a industrialize material such exotic shapes I will keep the focus in this work on spherical grains, which are commonly used in commercial products. Nevertheless the techniques described in my work should be transferable to arbitrary and more complex shapes. \n",
    "\n",
    "Besides the shape also the defect concentration and stochastic composition varies a lot with the preparation process. One additional goal of this thesis is to gain a better understanding about the relation of these two properties and the sensor performance.\n"
   ]
  },
  {
   "cell_type": "markdown",
   "metadata": {},
   "source": [
    "## Choice of geometric model\n",
    "\n",
    "Both favorable preparation methods mentioned in the latter paragraph have been investigated under a REM (Figure [fig:REM_grain_SMOX]). The SMOX grains can be well approximated as spherical grains. The typical diameters of the grains are from 5nm to 200nm. The benefit by choosing of such a shape with a the rotational symmetry is the reduction of the complexity for the numerical calculation. Therefore the approximation of the SMOX particles as spheres was chosen. The second benefit of choosing materials prepared by rather standardized preparation routes is the availability of multiple different materials form varying laboratories around the world. These materials may vary in sizes and defect concentration but are often similar in shape. This fact is favorable when the numerical results are compared and validated with experimental data. \n",
    "\n",
    "[Picture of a typical SMOX-Sensor with the grains visible](WHAT!)\n",
    "\n",
    "Other available materials with more specialized shapes as hallow spheres or fibers do exist, but will not be investigated in the research. In the first place the complex numerical description of such geometries will increase the calculation duration. Also the limited availability and variety in parameters as diameter, doping level, band gap, material composition are not favorable for to check the numerical model with experimental data."
   ]
  },
  {
   "cell_type": "markdown",
   "metadata": {},
   "source": [
    "## Poisson's equation\n",
    "\n",
    "Reactions at the surface (see [sec:Surface-reactions]) result in a charge transfer between the bulk of a grain and the surface. This modification of the charge density distribution inside the grain causes again a change in resistivity . By moving charges to/away from the surface, electrical potentials through the grain are generated. The electrical potential at the surface and therefore the work function of the semiconductor changes (see [subsec:Work-function]). \n",
    "\n",
    "Previous studies have shown, that a direct relation between surface potential, surface charge and resistance exists. The latter studies initially define certain approximations which have been adapted and reasonable for the investigated cases, but do not allow a predictions outside the boundaries of the pre-assumption. Also the direct impact of size and geometric on the transduction is not taken fully into consideration. In order to have a more general model of the SMOX materials and to include the geometric effects, the charge distribution has to be solved in a more general way.\n",
    "\n",
    "Identical to the previous studies the relation between surface potential and charge distribution has to be solved initially. This relation is defined by the Poisson-Law: \n",
    "\n",
    "\\begin{align}\n",
    "\\nabla\\phi=-\\frac{\\rho}{\\epsilon\\epsilon_{0}} \\label{eq1}\\tag{Poisson}\n",
    "\\end{align}\n",
    "\n",
    "$\\phi$=electrical potential, $\\rho$=free charge density, $\\epsilon$=vacuum permittivity, $\\epsilon_{0}$=relative permittivity.\n",
    "\n",
    "TODO TEM analysis of the crystal quality of one grain indicate a high crystalline quality. Therefore one can assume that $\\epsilon$ does not vary inside the grain. The charge destiny $\\rho$ on the other side is directly influenced by the charge transfer. Since the transfer of charges to the surface influences the work function and the energetic position of the conduction band, $\\rho$ is a function of $\\phi$. $\\phi$ again depends on the position in the grain. At the surface $\\phi(r=r_{S})$ corresponds to the surface potential $\\phi_s$, while in the center $\\phi(r=0)=\\phi_b$ may have a different value. The exact shape of $\\phi(r)$ is gained from solving the Poisson equation $(\\ref{eq1})$.\n",
    "\n",
    "It will be assumed, that the reactions take place a the surface of the crystal and bulk diffusion will be neglected. Even if there are reports of oxygen bulk diffusion for certain materials (Quelle), this is not the general behavior and does not apply apply for $SnO_{2}$. Since all surface sites will be accessible by the gas, the solution of [eq:poisson_eq]should have a rotational symmetry. In the case of multiple grains with grain-grain contacts this assumptions needs to be validated again.\n",
    "\n",
    "In case of an rotational symmetric shape of a SMOX grain, equation [eq:poisson_eq]can be expressed as a ordinary differential equation of only the radius:\n",
    "\n",
    "$(\\frac{1}{r²})\\frac{d}{dr}\\frac{r²d\\phi(r)}{dr}=-\\frac{\\rho(r)}{\\epsilon\\epsilon_{0}}$\n",
    "\n",
    "Description of the coordinate system of one spherical symmetric SMOX grain...."
   ]
  },
  {
   "cell_type": "markdown",
   "metadata": {},
   "source": [
    "## Charge density\n",
    "\n",
    "As mentioned, the scope of my work was to investigate the transduction mechanism. Specially including the phenomena of a switch from a depletion- to accumulation layer controlled transduction mechanism. The previously shown conduction mechanism switch an experiment is shown, where such a switch occurs under application relevant environmental conditions (50% r.h. and ~3 ppm CO). The findings are described in detail in <cite data-cite=\"Barsan2015\">\"Conduction mechanism switch for SnO2 based sensors during operation in application relevant conditions; implications for modeling of sensing\"</cite>.\n",
    "\n",
    "\n",
    "To summarize the findings it can be said, that the resistance drops below the level obtained under inert conditions in nitrogen, which means that the material is getting more conductive that it is initially. The root cause of the higher conductivity is the increased number of free charge carrier in the conduction band. In contrast to a depletion layer controlled transduction mechanism a accumulation layer is formed while charges are pushed into the conduction band. \n",
    "\n",
    "In cases of depletion layer controlled transduction the Schottky-Approximation as described in the beginning was proven to be a effective way to describe and simplify the Poisson equation. In the case of a accumulation layer the assumption of a fully depleted space charge layer is not valid anymore. \n",
    "\n",
    "It should be mentioned, that a common second approximation often used together with Schottky's approximation is Boltzmann's approximation. The Boltzmann approximation is valid if the energetic difference between the energy E and the Fermi level energy $E_{Fermi}$ is high enough:\n",
    "\\begin{align}\n",
    "E-E_{Fermi}\\gg3k_{B}T\n",
    "\\end{align}\n",
    "Then the Fermi-Dirac distibution $f(E)$ can be expressed with the Boltzmann distribution b(E):\n",
    "\n",
    "\\begin{align}\n",
    "f(E)=\\frac{1}{exp(\\frac{E-E_{Fermi}}{k_{B}T})+1}\\xrightarrow{Boltzmann\\,Conditions}b(E)=exp(-\\frac{(E-E_{Fermi})}{k_{B}T})\n",
    "\\end{align}\n",
    "\n",
    "Based on the findings, that the flat band situation is reached in application relevant conditions, the Boltzmann approximation i not valid anymore. Operando Kelvin Probe (see: [subsec:Kelvin-Probe]) experiments indicate, that the surface potential may drop up to 1eV below the nitrogen level <cite data-cite=\"Barsan2015\">\"Conduction mechanism switch for SnO2 based sensors during operation in application relevant conditions; implications for modeling of sensing\"</cite>. The typical difference $E_{Conduction}-E_{Fermi}$ is between 50meV and 300meV. It is reasonable to expect, that the conduction band may even cross the Fermi level and therefore also the conditions necessary for the Boltzmann approximation do not exist. In the upcomming calculations I will calculate and show relative error, when using the Boltzmann approximation for a relevant range of energy bendings of the conduction band. \n",
    "\n",
    "<cite data-cite=\"Barsan2011a\">{Conduction mechanisms in SnO2 based polycrystalline thick film gas sensors exposed to CO and H2 in different oxygen backgrounds}</cite> and its validity for the case of an accumulation layer will be shown in the upcoming calculations.\n",
    "\n",
    "To unify all transduction mechanisms into on numerical calculation the Fermi-Dirac distribution, without further simplification, is used to calculate the charge distributions. \n",
    "\n",
    "We will begin by rewrite the Fermi-Dirac equation to a suitable format, which will reflect the the occupation probability at energies relative to the initial conduction band position $E_C$:\n",
    "\n",
    "Ferimi-Dirac:\n",
    "\\begin{align}\n",
    "f(E)=\\frac{1}{exp(\\frac{E-E_{Fermi}}{k_{B}T})+1}=\\frac{1}{exp(\\frac{E-E_{C}+E_{C}-E_{Fermi}}{k_{B}T})+1}=\\frac{1}{exp(\\frac{E_{C}-E_{Fermi}}{k_{B}T})*exp(\\frac{E-E_{C}}{k_{B}T})+1}\n",
    "\\end{align}\n",
    "\n",
    "The density of states is given by [#Sze2007]for and electron in the conduction band with the effective mass m^{*}as followed: DERIVE NUMERICALLY!\n",
    "\n",
    "\\begin{align}\n",
    "N_{E_{C}}\\left(E\\right)=\\frac{\\sqrt{2}}{\\Pi^{^{2}}}\\frac{\\sqrt{E-E_{C}}}{\\hbar^{3}}m^{*^{\\frac{3}{2}}}=4\\Pi*\\frac{\\left(2*m^{*}\\right)^{\\frac{3}{2}}}{h^{3}}*\\sqrt{E-E_{C}}\n",
    "\\end{align}\n",
    "\n",
    "With the occupation probability $f(E)$ and the density of states $N(E)$ the number of charges in the conduction band can be calculated:\n",
    "\\begin{align}\n",
    "n\\left(E_{C}\\right)=\\intop_{E_{C}}^{inf}N_{E_{C}}\\left(E\\right)*f\\left(E\\right)dE\n",
    "\\end{align}\n",
    "\n",
    "Typically this equation is simplified to the following form. Such an analytical equation is useful for further alaytical calculations but is not  necessary for our numerical approach:\n",
    "\n",
    "\\begin{align}\n",
    "n(E_{C})=N_{C}exp\\left(\\frac{E_{F}-E_{C}}{k_{B}T}\\right)\\label{n}\\tag{$n(E_C)$}\n",
    "\\end{align}\n",
    "\n",
    "with $N_{C}=2\\left(\\frac{2\\Pi m_{e}^{*}k_{B}T}{h²}\\right)^{\\frac{3}{2}}$, the effective density of states in the conduction band.\n",
    "It is worth-wise to mention, that this simplification is only valid if also the Boltzmann approximation is valid. \n",
    "\n",
    "Equation [eq:integral_n] was solved numerically and compared with the results obtained with the common approximations( $m_{e}^{*}=0.3m_{e}$ for $SnO_{2}$ <cite data-cite=\"Batzill2005\">(The surface and materials science of tin oxide)</cite> was chosen .\n",
    "\n",
    "Previous publications prove, that above a operation temperature of 300°C, all donors are ionized and available as free charge carriers in the conduction band <cite data-cite=\"Barsan2015\">\"Conduction mechanism switch for SnO2 based sensors during operation in application relevant conditions; implications for modeling of sensing\"</cite>. If some of those electrons are trapped at the surface due to surface reaction, a positive charge remains localized in the crystal at the donors position. Additionally the energetic position of the conduction band increases with electron trapped at the surface. Out of the combination of conduction band shift $E=E_{C}-E_{C_{b}}$ and equation \\ref{n}, one can calculate now the free charge carrier density $\\rho$ from Poisson's equation.\n",
    "\n",
    "In the case of an unaffected bulk, $n(E_{C_{b}})\\equiv n_{b}$ is the density of electrons in the conduction band. In case of a charge transfer to/from the surface, the number of electrons in the conduction band will change. The relation between the density of charges in the conduction band $n(E_{C})$ and the shifted, new energetic position of the conduction band $E_{C}$ is fixed by equation \\ref{n}. The difference between $n_{b}$ and $n(E_{C})$ is the density of the positive, ionized donors remaining in the crystal. Those remaining donors are the cause of the electrical screening of the surface potential. The decay of the energetic conduction band position from the surface energy back to the 'bulk position' depends directly on that number. With this relation a energy dependent charge density can be formulated as followed:\n",
    "\n",
    "\\begin{align}\n",
    "\\frac{\\rho(E)}{e}=n(E_{C_b})-n(E) = n_{b}-n(E)\n",
    "\\end{align}\n",
    "\n",
    "Equation \\ref{n} becomes then:\n",
    "\n",
    "\\begin{align}\n",
    "\\left(\\frac{1}{r²}\\right)\\frac{d}{dr}\\frac{r²d\\phi}{dr}=-\\frac{\\rho\\left(E\\left(r\\right)\\right)}{\\epsilon\\epsilon_{0}}=-\\frac{e\\left(n\\left(E_{C_{b}}\\right)-n\\left(E\\right)\\right)}{\\epsilon\\epsilon_{0}}=-\\frac{e\\left(n_{b}-n\\left(E\\right)\\right)}{\\epsilon\\epsilon_{0}}\\label{poisson_spherical}\\tag{Poisson spherical}\n",
    "\\end{align}\n",
    "\n",
    "With $E=V*e=(\\Phi_{0}-\\Phi)*e$\n",
    "\n",
    "“In discussions of semiconductos, it is useful to define a \"band bending\" function $V$ such that $eV$ is related to the potential energy of an electron”<cite data-cite=\"S.RoyMorrison1977\"> The Chemical Physics of Surfaces, Morrison, 1977</cite>::\n",
    "\n",
    "$V=\\phi_{b}-\\phi,\\;E=V*e$\n",
    "\n",
    "With this relation equation (\\ref{poisson_spherical}) becomes:\n",
    "\n",
    "\\begin{align}\n",
    "\\left(\\frac{1}{r²}\\right)\\frac{d}{dr}\\frac{r²dV}{dr}=\\frac{e\\left(n_{b}-n\\left(E\\right)\\right)}{\\epsilon\\epsilon_{0}}\\label{poisson_spher_v}\\tag{Poisson spherical (V)}\n",
    "\\end{align}\n",
    "\n",
    "The goal will be to calculate how potential at the surface is electrically screen by the remaining positive charges in side the grain. An important parameter for such calculations is the Debye length. In cases where the Boltzmann approximation is valid, the Debye length can be approximated with the following formula. In this case the given length is the distance needed to screen a potential $V$ until its value reaches $\\frac{V}{e}$\n",
    "\n",
    "\\begin{align}\n",
    "L_{D}=\\sqrt{\\frac{\\epsilon\\epsilon_{0}k_{B}T}{n_{b}e^{2}}}\n",
    "\\end{align}\n",
    "\n",
    "With the definition of the Debye length I can now transform the relevant variables of the calculation.\n",
    "\n",
    "* The distance inside the grain r is expressed in units of the Debye length $L_{D}$ :\n",
    "\n",
    "    $r^{*}=\\frac{r}{L_{D}}, \\frac{dr^{*}}{dr}=\\frac{1}{L_{D}}\\longrightarrow dr=dr^{*}*L_{D}$\n",
    "    \n",
    "* The position of the conduction band inside the grain in units of the $\\frac{k_{B}T}{e}$:\n",
    "\n",
    "    $V^{*}=\\frac{e}{k_{B}T}*V, \\frac{dV^{*}}{dV}=\\frac{e}{k_{B}T}\\longrightarrow dV=dV^{*}*\\frac{k_{B}T}{e}$\n",
    "\n",
    "\n",
    "* And the number of free charge carries in units of the intrinsic number of charges $n_b$:\n",
    "\n",
    "    $n^{*}(V^{*})=\\frac{n(V)}{n_{b}}$\n",
    "    \n",
    "\n",
    "By substituting those unit-less parameters in equation (\\ref{poisson_spher_v}), one obtains the a unit-less Poisson equation suitable for the numerical calculations:\n",
    "\n",
    "\\begin{align}\n",
    "\\frac{1}{r^{*2}}\\frac{d}{dr^{*}}{r^{*}}^{2}\\frac{dV^{*}}{dr^{*}}=1-n^{*}(V^{*})\\label{poisson_no_units}\\tag{Unitless Poisson equation}\n",
    "\\end{align}\n",
    "\n",
    "This step of substituting the equation with unit less parameters is not obligatory for the the numerical calculations. As I will show in the next part of the thesis, the numerical calculation is also be possible with the initial spherical Poisson equation (\\ref{poisson_spher_v}). Therefore the material specific parameters need to be given to the algorithm. The downside would be, that for every new material with any parameter changing, the calculation would need to be redone.\n",
    "The benefit of the latter derived equation is that it is valid for multiple combinations of intrinsic parameters. The solution would only depend on three parameters:\n",
    "* Grainsize $R$ in units of $L_{D}$\n",
    "* Temperature $T$ as in $\\frac{k_{B}T}{e}$\n",
    "* The doping level of the semiconductor described with $n_b$\n",
    "\n",
    "The advantage of the numerical approch is now, that for typical values of these parameters the solution are computed and used for further understanding of their influence on sensing with SMOX material. Typical values of the relevant parameters are:\n",
    "* Typical grainsizes reach from 0.1 to 100 $L_D$\n",
    "* Typical temperatures are in the range of 100°C to 400°C\n",
    "* The doping level $n_b$ range from $10^{19}\\frac{1}{m^3}$ to $10^{25}\\frac{1}{m^3}$\n",
    "This indicates just the typical materials, but solutions for other parameters are alos possible. For the scope of my work I will nevertheless concentrate on the gives ranges.\n",
    "\n",
    "## Poisson equation as system of ODEs\n",
    "\n",
    "The Python SciPy package <cite data-cite=Jones>(SciPy)</cite>  will now be used to numerically solve the derived equations. The odesolvers of scipy solve first order ODEs, or systems of first order ODES. To solve a second order ODE, we must convert it by changes of variables to a system of first order ODES.\n",
    "\n",
    "Equation (\\ref{poisson_no_units}) is an ODE of second order, so it first had to be converted by changes of variables to a system of first order ODES. \n",
    "\n",
    "Practically a functions needs to be written, which gets as input an array of values and returns returns an array of the derived values:\n",
    "\n",
    "EXPLAIN HOW OED SOLVER WORKS\n",
    "\n",
    "\n",
    "\\begin{align}\n",
    "derive\\_func\\left(V^{*},\\frac{dV^{*}}{dr^{*}}\\right)\\longrightarrow\\frac{dV^{*}}{dr^{*}},\\frac{dV^{*2}}{dr^{*2}}\n",
    "\\end{align}\n",
    "\n",
    "The the second input term $\\frac{dV^{*}}{dr^{*}}$ corresponds already to the first output term. So no special work needs to be done here. But also the second output parameter can be calculated with the given input parameters by using unitless poisson equation (\\ref{poisson_no_units}).\n",
    "\n",
    "\\begin{align}\n",
    "\\frac{1}{r^{*2}}\\frac{d}{dr^{*}}{r^{*}}^{2}\\frac{dV^{*}}{dr^{*}}=1-n^{*}(V^{*})=\\frac{2r^{*}}{r^{*2}}\\frac{dV^{*}}{dr^{*}}+\\frac{r^{*2}}{r^{*2}}\\frac{d²V^{*}}{dr^{*2}}=\\frac{2}{r^{*}}\\frac{dV^{*}}{dr^{*}}+\\frac{d²V^{*}}{dr^{*2}}=1-n^{*}(V^{*}) \n",
    "\\end{align}\n",
    "\n",
    "\\begin{align}\n",
    "\\frac{d²V^{*}}{dr^{*2}}=1-n^{*}(V^{*})-\\frac{2}{r^{*}}\\frac{dV^{*}}{dr^{*}}\\label{second_derivative}\\tag{Second derivative}\n",
    "\\end{align}\n",
    "\n",
    "The odesolver needs beside the derive-function additional parameters. Namely a set of initial start values for $V^{*}$ and $\\frac{dV^{*}}{dr^{*}}$ and boundaries between the solver should calcualte the solution. Since we first want to calculate the shape of the conduction band for different surface potentials $V^{*}$, the initial parameter is already defined $V^{*}$ .  Also the boundaries should be the boundaries of the grain, r^* between 0 and the grainsize R^*.\n",
    "\n",
    "$odesolver(derive\\_func,[V^{*}{}_{init},\\frac{dV^{*}}{dr^{*}}_{init}],r)\\longrightarrow V^{*}(r^{*}),\\frac{dV^{*}}{dr*}(r*)$\n",
    "\n",
    "If such a function can be defined, the solver is able to solve the system of equation interactively starting from a given initial condition."
   ]
  },
  {
   "cell_type": "markdown",
   "metadata": {},
   "source": [
    "## Constants\n",
    "For the numerical calculations I will need to use some constants to refer to. To structure this notebook it is favorable to concentrate the definition at a single point and refer always back to this definition. This reduces the potential error of typos when using some constants over and over again.\n",
    "\n",
    "One way to generate a global object which groups the relevant information together and allows to access them easily are classes. Such classes do not only store the relevant information but offer also some useful functionalities related to the stored information.\n",
    "\n",
    "In the following code block, the class is defined with the statement `class`. What the follows `class` statement is the name of the class. By convention class names start with a capital letter. Inside the `class` initially one function called `__init__` is defined with the `def __init__(self):` statement. This special function is always automatically executed when an instance of the class is created. Here I define some constants, which are relevant for course of this thesis. \n",
    "I also add some useful functions, e.g. the conversion from Celsius to Kelvin and vise versa. Such functions will be of mayor importance when doing the knowledge transfer gained in the 'semiconductor regime' (Kelvin is the useful scale here) to application relevant conditions (where Celsius is the usual temperature scale).\n",
    "\n"
   ]
  },
  {
   "cell_type": "code",
   "execution_count": null,
   "metadata": {},
   "outputs": [],
   "source": [
    "from scipy import constants as sciConst\n",
    "class Constant:\n",
    "    def __init__(self):\n",
    "        self.K0 = sciConst.convert_temperature(0,'C','K')\n",
    "        self.kB=sciConst.k\n",
    "        self.EPSILON_0 = sciConst.epsilon_0\n",
    "        self.E_CHARGE = sciConst.elementary_charge\n",
    "        self.h = sciConst.h\n",
    "        self.MASS_E = sciConst.electron_mass\n",
    "        self.NA= sciConst.N_A\n",
    "        self.VOL_mol = 22.4\n",
    "        self.mole_per_l = self.NA/self.VOL_mol\n",
    "        \n",
    "    def K_to_C(self, K):\n",
    "        return sciConst.convert_temperature(K, 'K', 'C')\n",
    "\n",
    "    def C_to_K(self, C):\n",
    "        return sciConst.convert_temperature(C, 'C', 'K')\n",
    "    \n",
    "    def eV_to_J(self,eV):\n",
    "        return eV*self.E_CHARGE\n",
    "    \n",
    "    def J_to_eV(self,J):\n",
    "        return J/self.E_CHARGE\n",
    "    \n",
    "    \n",
    "CONST = Constant()\n"
   ]
  },
  {
   "cell_type": "markdown",
   "metadata": {},
   "source": [
    "Once the basic constants are defined, creating also a simplified numerical representation of the investigated semiconducting material. The specific properties of the semiconductor will result in individual properties as the charge distribution. As explained in the theoretical section, the charge distribution $n$, depends on the position of the conduction band.\n",
    "Again start with setting up a numerical python lab, which will output all results \"inline\" with this document. As shown in the introduction this is done by using the magic command `%pylab inline`"
   ]
  },
  {
   "cell_type": "code",
   "execution_count": 2,
   "metadata": {},
   "outputs": [
    {
     "name": "stdout",
     "output_type": "stream",
     "text": [
      "Populating the interactive namespace from numpy and matplotlib\n"
     ]
    }
   ],
   "source": [
    "%pylab inline"
   ]
  },
  {
   "cell_type": "markdown",
   "metadata": {},
   "source": [
    "## Materials"
   ]
  },
  {
   "cell_type": "markdown",
   "metadata": {},
   "source": [
    "### Solving integrals numerically\n",
    "\n",
    "#### Introduction\n",
    "Many observables in nature can be predicted with the solution an integral of a certain function. In this section I will make a short excursion  on how to solve integrals numerically.\n",
    "\n",
    "From my experience, many students and researches excellently trained to define the set of equations describing their problems mathematically. Seconds, the evaluation of the individual equations with multiple variables imposes (in most cases) no problem. Third, it is also part of the common knowledge, that the integral of any function is equivalent to the area below the curve. A college of mine once told me, that she learn calculating the integral in school by:\n",
    "1. drawing the function for multiple points on a paper\n",
    "2. combine them with a line\n",
    "3. count the squares below the curve\n",
    "\n",
    "Nothing else is done, when solving integrals numerically.\n",
    "\n",
    "On the other side solving an integral analytically requires in many cases advanced mathematical skills and often approximation/simplifications  are introduces to be able to solve the problem. Those tasks are often hard to master for many people (I continuously fail at solving integral) and the simplifications often reduce the solution to specific boundary conditions (as for example the Boltzmann approximation).\n",
    "\n",
    "As mentioned solving integrals numerically is fairly easy, even if one might not feel very comfortable with counting squares. But even if counting is not an option, there are modern tools to solve this task very efficiently! If haven't been introduced yet, here they come!\n",
    "\n",
    "So if the elements to be integrated can evaluated for each point between the boundaries of the integral, not much is in the way to solve the integral numerically.\n",
    "Here a simple example of solving: $\\intop_{3}^{5}x{{}^5}dx$\n",
    "\n",
    "The analytical solution solution is:\n",
    "$\\left[1/6x^6\\right]_{3}^{5}=1/6*5^6-1/6*3^6\\backsimeq2482.67$\n"
   ]
  },
  {
   "cell_type": "markdown",
   "metadata": {},
   "source": [
    "#### The `quad` function\n",
    "The `quad` function from the `scipy.integrate` package will be used to integrate the given function. The `quad` needs as comma separated inputs the \n",
    "1. function to integrate\n",
    "2. the lower integration boundary\n",
    "3. the upper integration boundary\n",
    "\n",
    "The help file of `quad` says:\n",
    ">Integrate func from `a` to `b` (possibly infinite interval) using a\n",
    "    technique from the Fortran library QUADPACK.\n",
    "\n",
    "This description reveals, that the Fortran library QUADPACK is used in the background. So nothing new is shown here from the \"scientific\" point of view. I'd rather like to point out, how easy this can be applied in a Jupyter notebook. From discussion with colleagues I know, that the biggest challenge is how to technically implement the numerical solving algorithm in Python. So here it comes:"
   ]
  },
  {
   "cell_type": "code",
   "execution_count": 3,
   "metadata": {},
   "outputs": [
    {
     "name": "stdout",
     "output_type": "stream",
     "text": [
      "Populating the interactive namespace from numpy and matplotlib\n"
     ]
    }
   ],
   "source": [
    "%pylab inline"
   ]
  },
  {
   "cell_type": "code",
   "execution_count": 4,
   "metadata": {},
   "outputs": [
    {
     "name": "stdout",
     "output_type": "stream",
     "text": [
      "Numerical solution: 2482.67 +- 0.00\n",
      "Analytical solution: 2482.67\n"
     ]
    }
   ],
   "source": [
    "from scipy.integrate import quad\n",
    "\n",
    "def f(x):\n",
    "    # return x to the power 5\n",
    "    return x**5\n",
    "\n",
    "num_sol, num_error = quad(f,3,5)\n",
    "ana_sol = 1/6*(5**6-3**6)\n",
    "\n",
    "print(f'Numerical solution: {num_sol:.2f} +- {num_error:.2f}')\n",
    "print(f'Analytical solution: {ana_sol:.2f}')\n"
   ]
  },
  {
   "cell_type": "markdown",
   "metadata": {},
   "source": [
    "In this case, the numerical and the analytical solution result in the same results.\n",
    "How about a more complex problem? Let's look at the \"Normal distribution\":\n",
    "\\begin{align}\n",
    "f(x)=\\frac{1}{\\sqrt{2\\Pi}}*e^{-\\frac{x²}{2}}\n",
    "\\end{align}\n",
    "Since the probability distribution is normalized the integral from $-\\infty$ to $\\infty$ is 1:\n",
    "\\begin{align}\n",
    "\\intop_{-\\infty}^{\\infty}f(x)dx=1\n",
    "\\end{align}\n",
    "The analytical solution of this integral is already a rather advanced task, but still doable.\n",
    "The numerical results are obtained in the following cell."
   ]
  },
  {
   "cell_type": "code",
   "execution_count": 5,
   "metadata": {},
   "outputs": [
    {
     "name": "stdout",
     "output_type": "stream",
     "text": [
      "Numerical solution: 1.000000000000 +- 0.000000010178\n",
      "Analytical solution: 1.000000000000\n"
     ]
    }
   ],
   "source": [
    "def f(x):\n",
    "    return 1/(2*pi)**0.5*e**(-(x**2/2))\n",
    "\n",
    "num_sol, num_error = quad(f, -np.inf,np.inf)\n",
    "ana_sol = 1\n",
    "\n",
    "num_sol, num_error = quad(f, -inf,inf)\n",
    "ana_sol = 1\n",
    "\n",
    "print(f'Numerical solution: {num_sol:.12f} +- {num_error:.12f}')\n",
    "print(f'Analytical solution: {ana_sol:.12f}')"
   ]
  },
  {
   "cell_type": "markdown",
   "metadata": {},
   "source": [
    "Also here a numerical solution is in line with the expected result from the analytic solution.\n",
    "\n",
    "There two examples cover functions, where a analytical solution is known. In the following parts of this thesis, many analytical solutions are not known. In this case the shortcut of using a numerical solution instead of relaying on the exact solution is reasonable.\n",
    "\n",
    "#### Side-Note:\n",
    "The `quad` function does not only give back the numerical solution, but also an estimate of the absolute error in the result.\n",
    "\n",
    "The `print()` statement is used to add the results in the output of the notebook. The `print` command requires a text *string* between its parenthesis. In Python a *string* consists of multiple characters between quotation marks: e.g. `'L3TT3R5'`. Additionally another rather new feature of Python is used here. This feature is called *formatted strings*.\n",
    "*Formatted strings* are constructed with an `f` in front of the *string*: `f'L3TT3R5'`.\n",
    "\n",
    "For formatted strings variables inside curly parenthesis are then replaced with their string representation. The formatting of the representation may be given after `:`. For example `.12f` tells the formatter to represent the variable as a float with 12 digits after the decimal separator. When reading this as an interactive notebook, feels free to modify the formatting statement and check the result. \n"
   ]
  },
  {
   "cell_type": "markdown",
   "metadata": {},
   "source": [
    "### Numerical description of the semiconductor"
   ]
  },
  {
   "cell_type": "markdown",
   "metadata": {},
   "source": [
    "#### Helper functions for semiconductor calculations\n",
    "Michael Hübner (page 50) derived in his thesis a way to approximate the energetic difference between the the level of the Fermi-Level and the conduction band (in a flat band situation) depending of the temperature $T$ and concentration of defects in the bulk of the grain $n_b$ and the effective mass of electrons inside the semiconductor $m_e^*$. Both $m_e^*$ and $n_b$ are difficult to measure experimentally.\n",
    "This thesis will initially start with reasonable values found in literature to derive the required set of equations describing the transduction. \n",
    "\n",
    "For a the later deep analysis those two parameters part of a set of parameters to be screen for the analysis of their influence on the overall performance of a sensing material. \n",
    "\n",
    "Based on Michael Hübners work now possible to derive a value for the energetic distance between Fermi level and conduction band $\\Delta E_FE_C$. \n",
    "\n",
    "Since the energetic distance from the Fermi level mainly defines the occupation probability of the states in the conduction band, this term is of major importance.\n",
    "It should be pointed out, that the calculation in the thesis are based special assumption only valid for $SnO_2$. The definition is translated into a Python algorithm and used as an starting point for further calculations. Besides this function also two other \"helper functions\" are defined which will be used at multiple places in the upcoming calculations."
   ]
  },
  {
   "cell_type": "code",
   "execution_count": 31,
   "metadata": {},
   "outputs": [
    {
     "name": "stdout",
     "output_type": "stream",
     "text": [
      "0.3163543980626456\n"
     ]
    }
   ],
   "source": [
    "import scipy \n",
    "def calc_kT(T_C):\n",
    "    \"\"\"\n",
    "    Calculate the kT value for a temp. in °C\n",
    "    T_C = Temp in °C\n",
    "    \"\"\"\n",
    "    \n",
    "    kT = CONST.kB*(CONST.C_to_K(T_C))\n",
    "    return kT\n",
    "\n",
    "def calc_eff_density_of_states(T_C,mass_e_eff_factor):\n",
    "    \"\"\"\n",
    "    Calculate the eff. densitiy of states in the conduction band\n",
    "    T_C = Temp in °C\n",
    "    mass_e_eff_factor = material specific factor to calculate the effective mass from the electron mass\n",
    "    \"\"\"\n",
    "    \n",
    "    kT = calc_kT(T_C)\n",
    "    MASS_E_EFF = mass_e_eff_factor*CONST.MASS_E\n",
    "    NC = 2*(2*np.pi*MASS_E_EFF*kT/(CONST.h**2))**(3.0/2.0)\n",
    "    return NC\n",
    "\n",
    "def calc_EDCF_by_temp(T_C, ND,mass_e_eff_factor):\n",
    "    \"\"\"\n",
    "    T_C = Temperature in °C\n",
    "    \n",
    "    ND = number of donors per m³\n",
    "    ND = 9e21 # 9*10**15 cm**3 Mich Thesis Seite 50\n",
    "    \n",
    "    mass_e_eff_factor = material specific factor to calculate the effective mass from the electron mass\n",
    "    \"\"\"\n",
    "    \n",
    "        \n",
    "    kT = calc_kT(T_C)\n",
    "    \n",
    "    NC = calc_eff_density_of_states(T_C,mass_e_eff_factor)\n",
    "    \n",
    "    ED1C_eV = 0.034\n",
    "    ED2C_eV = 0.140\n",
    "    \n",
    "    a = np.exp(CONST.eV_to_J(ED1C_eV)/kT)\n",
    "    b = np.exp(CONST.eV_to_J(ED2C_eV)/kT)\n",
    "    t3 = 1.0\n",
    "    t2 = (1.0/b-0.5*NC/ND)\n",
    "    t1 = -1.0/b*NC/ND\n",
    "    c = -1.0/(2*a*b)*NC/ND\n",
    "\n",
    "    poly_params = (c,t1, t2, t3)\n",
    "\n",
    "\n",
    "    solutions=scipy.roots(poly_params)\n",
    "    EDCFs = []\n",
    "    for sol in solutions:\n",
    "        if sol.imag == 0:\n",
    "            EDCF = np.log(sol.real)\n",
    "            EDCFs.append(-EDCF*kT/CONST.E_CHARGE)\n",
    "    if len(EDCFs)>1:\n",
    "        raise Exception('Should not be...')\n",
    "    else:\n",
    "        return EDCFs[0]\n",
    "\n",
    "T_C = 300\n",
    "ND = 9e21\n",
    "mass_e_eff_factor =0.3\n",
    "\n",
    "EDCF_eV = calc_EDCF_by_temp(T_C, ND, mass_e_eff_factor)\n",
    "print(EDCF_eV)"
   ]
  },
  {
   "cell_type": "markdown",
   "metadata": {},
   "source": [
    "#### Define the smox-material class\n",
    "With the helper functions a new class for the describing the actual semiconducting material. This class should be initialized with the relevant parameters (in the scope of this thesis). Besides this the `class Material` should hold some methods to calculate relevant values as the concentration of charge carries in the conduction band for multiple positions of the conduction band.\n",
    "\n",
    "From literature the definition of the charge carrier density is known. It is the integral of the product of density of states $g_C$ in the conduction band and  occupation probability $f_F$. Typically the integral is solved analytically by introducing some simplifications. This is possible in cases, where the Boltzmann approximation is valid. In such cases the integrand can be simplified so that the integral can be solved.\n",
    "By additionally solving the integral numerically the solutions can be compared. As shown earlier in this thesis, the numerical solution of the integral by using the `quad` function is easy achieve."
   ]
  },
  {
   "cell_type": "markdown",
   "metadata": {},
   "source": [
    "#### How to derive the charge density (PDF copy, source unknown, sorry)\n",
    "![title](DensityOfStates.png)"
   ]
  },
  {
   "cell_type": "code",
   "execution_count": 77,
   "metadata": {},
   "outputs": [
    {
     "name": "stdout",
     "output_type": "stream",
     "text": [
      "For SnO2 at 300°C with a defect concentration of 9e+21 1/m³, the value of EDCF_eV is 0.3163543980626456 eV\n"
     ]
    }
   ],
   "source": [
    "from scipy.integrate import quad\n",
    "from scipy.interpolate import interp1d\n",
    "import scipy\n",
    "from functools import lru_cache\n",
    "import numpy as np\n",
    "import pandas as pd\n",
    "\n",
    "\n",
    "\n",
    "class Material:\n",
    "    def __init__(self,T_C,ND = 9e21,\n",
    "                 EPSILON = 9.86, mass_e_eff_factor = 0.3, DIFF_EF_EC_evolt = 0.3):\n",
    "        '''\n",
    "        T_C = Temperature of the material\n",
    "        ND = number of donors per m³\n",
    "        DIFF_EF_EC_evolt = E_condution - E_Fermi \n",
    "        '''\n",
    "        self.EPSILON = EPSILON\n",
    "        self.ND = ND\n",
    "        self.MASS_E_EFF = mass_e_eff_factor*CONST.MASS_E\n",
    "        self.T_C = T_C\n",
    "        self.kT = calc_kT(self.T_C)\n",
    "        self.NC = calc_eff_density_of_states(T_C,mass_e_eff_factor)\n",
    "        \n",
    "\n",
    "        if DIFF_EF_EC_evolt:\n",
    "            self.Diff_EF_EC_evolt = DIFF_EF_EC_evolt\n",
    "        else:\n",
    "            self.Diff_EF_EC_evolt = calc_EDCF_by_temp(T_C, ND, mass_e_eff_factor)\n",
    "        self.Diff_EF_EC = CONST.eV_to_J(self.Diff_EF_EC_evolt)\n",
    "\n",
    "        self.nb, self.nb_err = self.n(0)\n",
    "        self.LD = np.sqrt((self.EPSILON*CONST.EPSILON_0*self.kT)\n",
    "                          /(self.nb*(CONST.E_CHARGE**2)))\n",
    "    \n",
    "    def J_to_kT(self,J):\n",
    "        return J/self.kT\n",
    "    \n",
    "    def kT_to_J(self,E_kT):\n",
    "        return E_kT*self.kT\n",
    "    \n",
    "    def densitiy_of_states(self,E, E_c):\n",
    "        return 4*np.pi*(2*self.MASS_E_EFF)**(3.0/2.0)/CONST.h**3*(E-E_c)**0.5\n",
    "    \n",
    "    def fermic_dirac(self,E_c):\n",
    "        '''\n",
    "        Calculate the value for the Fermi-Dirac distribution for an energetic\n",
    "        position relative to the material specific conduction band E_c\n",
    "        E = E_c+Diff_EF_EC+E_Fermi\n",
    "        So the term in the Fermi-Dirac distribution E-E_Fermi will become\n",
    "        E_c+Diff_EF_EC+E_Fermi-E_Fermi = E_c+Diff_EF_EC\n",
    "        TODO: THIS SHOULD BE IN THE TEXT ABOVE SOMEWHERE\n",
    "        '''\n",
    "        f=1.0/(1+np.exp((E_c+self.Diff_EF_EC)/self.kT))\n",
    "        return f\n",
    "\n",
    "    def n_E(self,E,E_c):\n",
    "        if E<E_c:\n",
    "            n = 0\n",
    "        else:\n",
    "            n = self.densitiy_of_states(E, E_c)*self.fermic_dirac(E)\n",
    "        return n\n",
    "                                   \n",
    "    @lru_cache(maxsize=512*512*512)\n",
    "    def n(self, E_c):\n",
    "        n, n_err = quad(lambda E:self.n_E(E, E_c),E_c,E_c+self.kT*100)\n",
    "        return n, n_err\n",
    "\n",
    "    \n",
    "T_C = 300\n",
    "ND = 9e21\n",
    "mass_e_eff_factor =0.3\n",
    "\n",
    "EDCF_eV = calc_EDCF_by_temp(T_C, ND, mass_e_eff_factor)\n",
    "\n",
    "print(f'For SnO2 at {T_C}°C with a defect concentration of {ND} 1/m³, the value of EDCF_eV is {EDCF_eV} eV')    \n",
    "material = Material(T_C,DIFF_EF_EC_evolt=EDCF_eV)\n"
   ]
  },
  {
   "cell_type": "markdown",
   "metadata": {},
   "source": [
    "#### Hint:\n",
    "`@lru_cache(maxsize=512*512*512)` is a decorator for the function n(self, E_c). \n",
    "\n",
    "> By definition, a decorator is a function that takes another function and extends the behavior of the latter function without explicitly modifying it. (https://realpython.com/primer-on-python-decorators/)\n",
    "\n",
    "This Python decorator is used to speed up the calculation process. The lru_cache (\"Last Recently Used\") is used to cache the input and output of a certain function. As the description of the function says:\n",
    "\n",
    "> It can save time when an expensive or I/O bound function is periodically called with the same arguments\n",
    "\n",
    "Since in our numerical calc. we will often need to derive the charge density the `@lru_cache` is of great use here. The maxsize argument in the brackets defines the maximal size of the cache in the memory of the computer."
   ]
  },
  {
   "cell_type": "markdown",
   "metadata": {},
   "source": [
    "#### Free charge carrier conc. using the Boltzmann approximation\n",
    "Besides the full numerical solution, also the solutions derived from the Boltzmann approximations need to be defined. As described in [REFERENCE] this breaks down to the following functions:"
   ]
  },
  {
   "cell_type": "code",
   "execution_count": 78,
   "metadata": {},
   "outputs": [],
   "source": [
    "def boltzmann_acc(material, E_c):\n",
    "    return np.exp(-(E_c+material.Diff_EF_EC)/(material.kT*2))\n",
    "\n",
    "def boltzmann(self,E_c):\n",
    "    return np.exp(-(E_c+material.Diff_EF_EC)/material.kT)\n",
    "\n",
    "def densitiy_of_states(self,E, E_c):\n",
    "\n",
    "    return 4*np.pi*(2*material.MASS_E_EFF)**(3.0/2.0)/CONST.h**3*(E-E_c)**0.5\n",
    "\n",
    "def n_boltzmann(self,E_c):\n",
    "\n",
    "    return boltzmann(material,E_c)*material.NC\n",
    "\n",
    "def n_boltzmann_acc(self,E_c):\n",
    "\n",
    "    return boltzmann_acc(material,E_c)*material.NC"
   ]
  },
  {
   "cell_type": "markdown",
   "metadata": {},
   "source": [
    "#### Compare the numerical solution with the approximations\n",
    "With all the definitions in place, the different solutions can be compared. This will be done be representing the charge carrier concentration $n$ for the different solutions for multiple positions of the conduction band $E_C$ in units of $kT$."
   ]
  },
  {
   "cell_type": "code",
   "execution_count": 79,
   "metadata": {},
   "outputs": [
    {
     "data": {
      "image/png": "[encoded data removed]",
      "text/plain": [
       "<Figure size 1152x648 with 1 Axes>"
      ]
     },
     "metadata": {
      "needs_background": "light"
     },
     "output_type": "display_data"
    }
   ],
   "source": [
    "def plot_material_char(mat):\n",
    "    ns = []\n",
    "    n_boltzs = []\n",
    "    n_boltzs_acc = []\n",
    "    E_c_kts = []\n",
    "    for i in linspace(-20,20):\n",
    "        E_c = mat.kT_to_J(i)\n",
    "        E_c_kts.append(i)\n",
    "        ns.append(mat.n(E_c)[0]/mat.nb)\n",
    "        n_boltzs.append(n_boltzmann(mat, E_c)/mat.nb)\n",
    "        n_boltzs_acc.append(n_boltzmann_acc(mat, E_c)/mat.nb)\n",
    "    \n",
    "    \n",
    "    fermi_level_pos_kt = -mat.J_to_kT(mat.Diff_EF_EC)\n",
    "    \n",
    "    fig, axe = subplots(1,figsize = (16,9))\n",
    "\n",
    "    axe.plot(E_c_kts, ns, label='No approx. ')\n",
    "    axe.plot(E_c_kts, n_boltzs, '--', label='Boltzmann approx.')\n",
    "    axe.plot(E_c_kts, n_boltzs_acc, '-.', label='Accumulation-Boltzmann approx.')\n",
    "    axe.set_yscale('log')\n",
    "    axe.set_title('$n(E_C)/n(0)$ as a function of the band bending $E_C$')\n",
    "    axe.set_xlabel('Band bending $E_C$ [kT]', fontsize=20)\n",
    "    axe.set_ylabel('$\\\\frac{n(E_C)}{n(0)}$', fontsize=20)\n",
    "    axe.axvline(fermi_level_pos_kt, label='Fermi Level', alpha=0.5)\n",
    "    axe.legend()\n",
    "    axe.grid(b=True)\n",
    "    return fig \n",
    "\n",
    "fig = plot_material_char(material)"
   ]
  },
  {
   "cell_type": "markdown",
   "metadata": {},
   "source": [
    "The numerical solution and the approximations are inline with each other in their specific regions of $E_C$. The Boltzmann approximation is identical to the numerical solution starting ~3kT above the Fermi energy level. The approximation for the accumulation layer has its validity in a region where an accumulation is present. This was already shown in <cite data-cite=Barsan2011a>Conduction mechanisms in SnO2 based polycrystalline thick film gas sensors exposed to CO and H2 in different oxygen backgrounds</cite>."
   ]
  },
  {
   "cell_type": "markdown",
   "metadata": {},
   "source": [
    "### Numerical description of the semiconductor grains\n",
    "In this section we define a SMOX grain. We approximate the grain as a sphere composed out of a material we previously defined. For one grain, the Poisson equation with spherical symmetry is solved. The transfer of the findings from a material to an actual grain are important for multiple reasons. On the one side the ratio of the available surface sites to react with the semiconductor and its bulk size play an important role. Very small grains may have relatively high concentration of surface sites but lack of electrons needed for the reaction a t the surface. So a grain may get fully depleted which may have significant an influence on the overall conduction.\n",
    "On the other side, the conduction path through the grain differers depending on the free charge carrier concentration.\n",
    "Those two relevant properties can only be analyzed, if the transfer from a material to an actual grain is solved.\n",
    "\n",
    "To solve the Poisson equation, we will need to supply the solver with the initial values. Tow values need to be supplies. The goal of the solver is to find the shape of the conduction band inside the grain. This depends on the position at the surface. This value can experimentally be measured with the Kelvin Probe method.\n",
    "The second start parameter, which needs to be supplied is the slope of the curve at the surface. With these two parameters, the solver iterates from the starting condition stepwise though the grain and calculates for each step new values based on the previous iteration.\n",
    "\n",
    "This \"inital value problem\" is solved with the scipy tool solve_ivp.\n"
   ]
  },
  {
   "cell_type": "code",
   "execution_count": 80,
   "metadata": {},
   "outputs": [],
   "source": [
    "from scipy.integrate import solve_ivp\n",
    "class Grain:\n",
    "    def __init__(self,grainsize_radius,material,rPoints=100):\n",
    "        self.R = grainsize_radius\n",
    "        self.material = material\n",
    "        self.rs = self.R*(1.0-np.logspace(0,3,num=rPoints)/1e3) #calcualtion points from surface to center (not lnear spaced)\n",
    "        self.rs = linspace(self.R/1000, self.R, 1000)\n",
    "    \n",
    "  \n",
    "    def solve_with_values(self,E_init, E_dot_init):\n",
    "        r = self.rs/self.material.LD\n",
    "        E_init_kT = self.material.J_to_kT(E_init)\n",
    "        E_dot_init_kt = self.material.J_to_kT(E_dot_init)\n",
    "\n",
    "        #the solver should stop, when the slope is zero. This is reasonable since if the slope is zero, this should be the lowest point of the graph\n",
    "        #so, when we \"hit_ground\" the solver should stop, to save some computational time\n",
    "        def hit_ground(t, y): return y[1]\n",
    "        hit_ground.terminal = True\n",
    "        \n",
    "        #this is the solver\n",
    "        data = solve_ivp(self.deriv_E_E_dot,(r[-1],r[0]),  [E_init_kT,E_dot_init_kt], events=hit_ground, method = 'Radau',max_step=max(r)/1000)\n",
    "        \n",
    "        #since we start the iteration to solve the equation from the outside, the results have to be revered \n",
    "        r = data.t[::-1]\n",
    "        v = data.y[0][::-1]\n",
    "        v_dot = data.y[1][::-1]\n",
    "\n",
    "        return r,v, v_dot, data\n",
    "\n",
    "\n",
    "    def deriv_E_E_dot(self,r_, U_U_dot):\n",
    "        U = U_U_dot[0]\n",
    "        U_dot = U_U_dot[1]\n",
    "        E = self.material.kT_to_J(U)\n",
    "        n = self.material.n(E)\n",
    "        U_dot_dot = 1-n[0]/self.material.nb -2/r_*U_dot\n",
    "        return [U_dot, U_dot_dot]\n",
    "\n",
    "grain = Grain(100e-9,material)"
   ]
  },
  {
   "cell_type": "markdown",
   "metadata": {},
   "source": [
    "In the following graph an example is given, where the initial value of $V^*$ is fixed, an different values of the surface slope are used to solve the equation.\n",
    "\n",
    "In the previous cells we already initialized the `material` and `grain` object with reasonable parameters. First we initialize the grain with a material and calculate the solutions of the Poisson equation for multiple start parameters."
   ]
  },
  {
   "cell_type": "code",
   "execution_count": 21,
   "metadata": {},
   "outputs": [
    {
     "data": {
      "image/png": "[encoded data removed]",
      "text/plain": [
       "<Figure size 1152x648 with 1 Axes>"
      ]
     },
     "metadata": {
      "needs_background": "light"
     },
     "output_type": "display_data"
    }
   ],
   "source": [
    "fig, axe = subplots(figsize = (16,9))\n",
    "axe.set_ylim(-8,8)\n",
    "\n",
    "E_init = grain.material.kT_to_J(8)\n",
    "for E_dot_init_kt in [0.8,0.9,1]:\n",
    "    E_dot_init = grain.material.kT_to_J(E_dot_init_kt)\n",
    "    r,v, v_dot, data = grain.solve_with_values(E_init, E_dot_init)\n",
    "\n",
    "\n",
    "    axe.plot(r,v, label='Initial slope: E_dot_init_kt [kT/$L_D$])\n",
    "    axe.set_xlabel\n",
    "axe.set_ylabel('$E_C(r^*)$ [$k_BT$]', fontsize =22)\n",
    "axe.set_xlabel(f'Position in grain [$L_D$ = {grain.material.LD*1e9:.2f}nm], R={grain.R*1e9:.2f}nm', fontsize =22)\n",
    "leg = axe.legend()\n",
    "\n",
    "    "
   ]
  },
  {
   "cell_type": "markdown",
   "metadata": {},
   "source": [
    "From this graph it is obvious, that the initial slope has a major influence on the result.\n",
    "\n",
    "Unfortunately this value is not known. On the other side, I can relay on an equation to check my solution. We will use the derived equation (\\ref{second_derivative}) from the Poisson equation:\n",
    "\n",
    "\\begin{align}\n",
    "\\frac{d²V^{*}}{dr^{*2}}=1-n^{*}(V^{*})-\\frac{2}{r^{*}}\\frac{dV^{*}}{dr^{*}}\n",
    "\\end{align}\n",
    "\n",
    "This equation can be transformed into following form:\n",
    "\n",
    "\\begin{align}\n",
    "\\intop_{0}^{R}\\frac{d²V^{*}}{dr^{*2}}dr^*=\\left[\\frac{dV^{*}}{dr^{*}}\\right]_{0}^{R}=\\left.\\frac{dV^*}{dr^{*}}\\right|_{R}=\\intop_{0}^{R}1-n^{*}(V^{*})-\\frac{2}{r^{*}}\\frac{dV^{*}}{dr^{*}}dr^*\\label{second_derivative}\\tag{Surface slope}\n",
    "\\end{align}\n",
    "\n",
    "With this relation we can check each solution. For each starting condition the solution should should also be valid for this equation. The right side will again be evaluated numerically. The expression $n^{*}(V^{*})$ can be calculated for each $V^{*}$ with the function defined in `class material`. From the solver of the differential equation $\\frac{dV^*}{dr^{*}}$ is known inside the grain for each $r^*$. Since all the elements of the integral are known, the numerical evaluation is not difficult. Since the elements of the integral in this case are not functions, which can be calculated individually for each point, but rather a list of values, the integration is slightly different.\n",
    "For the numerical integration of a list of values $y$ corresponding to a set of $x$ values, the `numpy` function `trapz` is used:\n",
    "> numpy.trapz(y, x=None, dx=1.0, axis=-1)\n",
    ">\n",
    ">    Integrate along the given axis using the composite trapezoidal rule."
   ]
  },
  {
   "cell_type": "markdown",
   "metadata": {},
   "source": [
    "#### Example usage of `np.trapz`"
   ]
  },
  {
   "cell_type": "code",
   "execution_count": 84,
   "metadata": {},
   "outputs": [
    {
     "data": {
      "text/plain": [
       "Text(3, 0.5, 'Integral: 4.0')"
      ]
     },
     "execution_count": 84,
     "metadata": {},
     "output_type": "execute_result"
    },
    {
     "data": {
      "image/png": "[encoded data removed]",
      "text/plain": [
       "<Figure size 432x288 with 1 Axes>"
      ]
     },
     "metadata": {
      "needs_background": "light"
     },
     "output_type": "display_data"
    }
   ],
   "source": [
    "x = [0,1,1,2,3,4,5,5,6]\n",
    "y = [0,0,1,1,1,1,1,0,0]\n",
    "fig, axe = subplots()\n",
    "axe.plot(x,y)\n",
    "axe.set_xlabel('X')\n",
    "axe.set_ylabel('Y')\n",
    "numerical_integral = np.trapz(y,x)\n",
    "axe.text(3, 0.5, f'Integral: {numerical_integral}')\n"
   ]
  },
  {
   "cell_type": "markdown",
   "metadata": {},
   "source": [
    "From the latter relation between the inital slope a the surface and charge distribution on the center ($\\ref{second_derivative}$) the following boundary condition for the solution is defined:\n",
    "\\begin{align}\n",
    "\\left.\\frac{dV^*}{dr^{*}}\\right|_{R^*}-\\intop_{0}^{R^*}\\left(1-n^{*}(V^{*})-\\frac{2}{r^{*}}\\frac{dV^{*}}{dr^{*}}\\right)dr^* = 0.\n",
    "\\end{align}\n",
    "\n",
    "Tle left side of the equation can be calculated for multiple values of $\\left.\\frac{dV^*}{dr^{*}}\\right|_{R^*}$. The right value of $\\left.\\frac{dV^*}{dr^{*}}\\right|_{R^*}$ needs to be found to minimize the left side of the equation. \n",
    "Definitely similar problems have been done before, Python/SciPy has already a solution for this ready. The tools needed to solve this problems can be found in the `scipy.optimize` package. The function `minimize_scalar` will be used to minimize the left side of the equation by varying the scalar parameter $\\left.\\frac{dV^*}{dr^{*}}\\right|_{R^*}$.\n",
    "\n",
    "The following line is used to load the required function: `from scipy.optimize import minimize_scalar`\n",
    "\n",
    "To use this function, function needs to be defined, which is then minimized by changing the input parameter.\n",
    "This function, which takes the inital slope as an argument, returns the \"error\" based on the previous equation. The algorithm should then find the best initial slope parameter to have a valid solution."
   ]
  },
  {
   "cell_type": "code",
   "execution_count": 23,
   "metadata": {},
   "outputs": [],
   "source": [
    "from scipy.optimize import minimize_scalar\n",
    "\n",
    "\n",
    "def min_vdot(vdot_init, grain, vinit):\n",
    "    r,v,vdot, data = grain.solve_with_values(grain.material.kT_to_J(vinit),grain.material.kT_to_J(vdot_init))\n",
    "    #the integration stops when the slope is zero. This might not be in the center (r*=0) of the grain. So we will expand the datapoints appropriatly\n",
    "    #for numerical reasons, we will not choose r*=0, but rather a very small r*.\n",
    "    r = np.concatenate([[0.01],r], axis=0)\n",
    "    #If the slope is zero, the slope should stay zero until the center\n",
    "    vdot = np.concatenate([[0],vdot], axis=0)\n",
    "    \n",
    "    #and since the slope is zero, also the value should not change anymore\n",
    "    v = np.concatenate([[v[0]],v], axis=0)\n",
    "    \n",
    "    #for each point of the solution the element in the integral is calculated\n",
    "    integrand = [(1-grain.material.n(grain.material.kT_to_J(v_i))[0]/grain.material.nb)-2/r_i*vdot_i for r_i, v_i, vdot_i in zip(r, v, vdot)]\n",
    "    \n",
    "    #the integral is numerically calculated\n",
    "    dV = np.trapz(y=integrand,x=r)\n",
    "    \n",
    "    #The integral should be the same as the slope at the surface, the differenc is the error to be minimized\n",
    "    res = abs(dV-vdot[-1])\n",
    "    \n",
    "    #Debug output\n",
    "    #print(res, vdot[-1])\n",
    "    \n",
    "    #return the 'error' to be minimized\n",
    "    return res\n",
    "\n",
    "def find_best_v_dot_init(E_init_kT, grain):\n",
    "    #find for a given inital value E_init_kT, the correspoding E_init_dot_kT\n",
    "    bounds = sorted([E_init_kT*10, 0])\n",
    "    res = minimize_scalar(min_vdot,  bounds=bounds, tol=abs(E_init_kT/10000), method='Bounded', args=(grain, E_init_kT))\n",
    "    return res\n",
    "\n",
    "res = find_best_v_dot_init(8, grain)"
   ]
  },
  {
   "cell_type": "markdown",
   "metadata": {},
   "source": [
    "So the previous example with randomly guessed initial values can be extended with a better guess."
   ]
  },
  {
   "cell_type": "code",
   "execution_count": 87,
   "metadata": {},
   "outputs": [
    {
     "data": {
      "image/png": "[encoded data removed]",
      "text/plain": [
       "<Figure size 1152x648 with 1 Axes>"
      ]
     },
     "metadata": {
      "needs_background": "light"
     },
     "output_type": "display_data"
    }
   ],
   "source": [
    "fig, axe = subplots(figsize = (16,9))\n",
    "axe.set_ylim(-8,8)\n",
    "E_init_kT = 8\n",
    "E_init = grain.material.kT_to_J(E_init_kT)\n",
    "for E_dot_init_kT in [0.8,0.9,1]:\n",
    "    E_dot_init = grain.material.kT_to_J(E_dot_init_kT)\n",
    "    r,v, v_dot, data = grain.solve_with_values(E_init, E_dot_init)\n",
    "\n",
    "\n",
    "    axe.plot(r,v, label=E_dot_init_kT)\n",
    "    \n",
    "res = find_best_v_dot_init(E_init_kT, grain)\n",
    "E_dot_init_kT = res.x\n",
    "E_dot_init = grain.material.kT_to_J(E_dot_init_kT)\n",
    "r,v, v_dot, data = grain.solve_with_values(E_init, E_dot_init)\n",
    "\n",
    "axe.plot(r,v, '-*', label=f'{E_dot_init_kT:.2f} minimized')\n",
    "    \n",
    "axe.set_ylabel('$E_C(r^*)$ [$k_BT$]', fontsize =22)\n",
    "axe.set_xlabel(f\"\"\"Position in grain [$L_D$ = {grain.material.LD*1e9:.2f}nm],\\n\n",
    "                    R={grain.R*1e9:.2f}nm\"\"\", fontsize =22)\n",
    "axe.legend();"
   ]
  },
  {
   "cell_type": "markdown",
   "metadata": {},
   "source": [
    "### Putting the pieces together\n",
    "With a description of the semiconductor itself by the class `material` and the semiconductor grain by the class `grain` the screening of multiple parameters can start.\n",
    "For the beginning I will define one material and calculate the resulting conduction band bending for multiple surface potential. Additionally I would like to investigate the influence of different grain sizes on the sensing performance.\n",
    "\n",
    "Those results will lead in a second step to an understanding of the relation between surface reaction, resistance change and grain size. But for now lets concentrate on generating data for further analysis.\n",
    "\n",
    "As we would like to do the time consuming calculations (finding the right start conditions) only once, we will save the correct solution in a `DataFrame`. As mentioned earlier, a `DataFrame` is a data structure to organize information similar to Excel Worksheets. As in \"Excel Worksheets\" data can be stored, accessed and manipulated. A `Dataframe` is a part of the `pandas` Python library. To shorten the command for pandas I will import it and add an alias to it. The following code part import `pandas` and creates a `Dataframe`, where all our results will be stored."
   ]
  },
  {
   "cell_type": "code",
   "execution_count": 91,
   "metadata": {},
   "outputs": [],
   "source": [
    "import pandas as pd\n",
    "#The results will be saved in a DataFrame\n",
    "dF_calc = pd.DataFrame()"
   ]
  },
  {
   "cell_type": "markdown",
   "metadata": {},
   "source": [
    "Next, we need to create the numerical representation of the material."
   ]
  },
  {
   "cell_type": "code",
   "execution_count": 93,
   "metadata": {},
   "outputs": [
    {
     "name": "stdout",
     "output_type": "stream",
     "text": [
      "For SnO2 at 300°C with a defect concentration of 9e+21 1/m³, the value of EDCF_eV is 0.3163543980626456 eV\n"
     ]
    }
   ],
   "source": [
    "#define a grain with a specific material\n",
    "def create_grain(grainsize):\n",
    "    T_C = 300\n",
    "    ND = 9e21\n",
    "    mass_e_eff_factor =0.3\n",
    "\n",
    "    EDCF_eV = calc_EDCF_by_temp(T_C, ND, mass_e_eff_factor)\n",
    "\n",
    "    print(f'For SnO2 at {T_C}°C with a defect concentration of {ND} 1/m³, the value of EDCF_eV is {EDCF_eV} eV')    \n",
    "    material = Material(T_C,DIFF_EF_EC_evolt=EDCF_eV)\n",
    "    grain = Grain(grainsize_radius=grainsize,material=material)\n",
    "    return grain\n",
    "\n",
    "grain = create_grain(100e-9)\n",
    "\n",
    "\n"
   ]
  },
  {
   "cell_type": "code",
   "execution_count": null,
   "metadata": {},
   "outputs": [
    {
     "name": "stdout",
     "output_type": "stream",
     "text": [
      "For SnO2 at 300°C with a defect concentration of 9e+21 1/m³, the value of EDCF_eV is 0.3163543980626456 eV\n",
      "Solving for -8\n"
     ]
    },
    {
     "name": "stderr",
     "output_type": "stream",
     "text": [
      "/usr/lib/python3.7/site-packages/scipy/optimize/_minimize.py:760: RuntimeWarning: Method 'bounded' does not support relative tolerance in x; defaulting to absolute tolerance.\n",
      "  \"defaulting to absolute tolerance.\", RuntimeWarning)\n",
      "/usr/lib/python3.7/site-packages/ipykernel_launcher.py:54: RuntimeWarning: overflow encountered in exp\n"
     ]
    },
    {
     "name": "stdout",
     "output_type": "stream",
     "text": [
      "Solving for -4\n",
      "Solving for -2\n",
      "Solving for -1\n",
      "Solving for 0\n",
      "Solving for 1\n",
      "Solving for 2\n",
      "Solving for 4\n",
      "Solving for 8\n",
      "For SnO2 at 300°C with a defect concentration of 9e+21 1/m³, the value of EDCF_eV is 0.3163543980626456 eV\n",
      "Solving for -8\n",
      "Solving for -4\n",
      "Solving for -2\n",
      "Solving for -1\n",
      "Solving for 0\n",
      "Solving for 1\n",
      "Solving for 2\n",
      "Solving for 4\n",
      "Solving for 8\n",
      "For SnO2 at 300°C with a defect concentration of 9e+21 1/m³, the value of EDCF_eV is 0.3163543980626456 eV\n",
      "Solving for -8\n",
      "Solving for -4\n",
      "Solving for -2\n",
      "Solving for -1\n",
      "Solving for 0\n",
      "Solving for 1\n"
     ]
    }
   ],
   "source": [
    "def calcualte_conduction_band(grain):\n",
    "    dF_calc_temp = pd.DataFrame()\n",
    "    for vinit in [-8,-4,-2,-1,0,1,2,4,8]:\n",
    "        print(f'Solving for {vinit}')\n",
    "        if vinit in dF_calc.index:\n",
    "            pass\n",
    "        bounds = sorted([vinit*10, 0])\n",
    "        res = find_best_v_dot_init(vinit, grain)\n",
    "        #res = minimize_scalar(min_vdot,  bounds=bounds, tol=abs(vinit/10000), method='Bounded')\n",
    "        ser_temp = pd.Series()\n",
    "        ser_temp.name = vinit\n",
    "        ser_temp['Einit_kT'] = vinit\n",
    "        ser_temp['E_dor_init_kT'] = res.x\n",
    "        ser_temp['res'] = res.fun\n",
    "\n",
    "\n",
    "\n",
    "        r,v,vdot, data = grain.solve_with_values(grain.material.kT_to_J(vinit),grain.material.kT_to_J(res.x), )\n",
    "        r = np.concatenate([[0.01],r], axis=0)\n",
    "        v = np.concatenate([[v[0]],v], axis=0)\n",
    "        vdot = np.concatenate([[0],vdot], axis=0)\n",
    "        ser_temp['R'] = grain.R\n",
    "        ser_temp['temp'] = grain.material.T_C\n",
    "        ser_temp['v'] = v\n",
    "        ser_temp['v_dot'] = vdot\n",
    "        ser_temp['r'] = r\n",
    "        ser_temp['mass_eff'] = grain.material.MASS_E_EFF\n",
    "        ser_temp['ND'] = grain.material.ND\n",
    "        ser_temp['EPSILON'] = grain.material.EPSILON\n",
    "        ser_temp['nb'] = grain.material.nb\n",
    "        \n",
    "        n = [grain.material.n(v_J)[0] for v_J in grain.material.kT_to_J(v)]\n",
    "        ser_temp['n'] = n\n",
    "\n",
    "        dF_calc_temp = dF_calc_temp.append(ser_temp)\n",
    "    return dF_calc_temp\n",
    "    \n",
    "for grainsize in [50e-9, 100e-9, 200e-9, 400e-9]:\n",
    "    grain = create_grain(grainsize)\n",
    "    dF_calc_temp = calcualte_conduction_band(grain)\n",
    "    dF_calc = dF_calc.append(dF_calc_temp)\n",
    "    \n",
    "display(dF_calc)\n"
   ]
  },
  {
   "cell_type": "markdown",
   "metadata": {},
   "source": [
    "# Save the results"
   ]
  },
  {
   "cell_type": "code",
   "execution_count": 63,
   "metadata": {},
   "outputs": [
    {
     "data": {
      "text/html": [
       "<div>\n",
       "<style scoped>\n",
       "    .dataframe tbody tr th:only-of-type {\n",
       "        vertical-align: middle;\n",
       "    }\n",
       "\n",
       "    .dataframe tbody tr th {\n",
       "        vertical-align: top;\n",
       "    }\n",
       "\n",
       "    .dataframe thead th {\n",
       "        text-align: right;\n",
       "    }\n",
       "</style>\n",
       "<table border=\"1\" class=\"dataframe\">\n",
       "  <thead>\n",
       "    <tr style=\"text-align: right;\">\n",
       "      <th></th>\n",
       "      <th>E_dor_init_kT</th>\n",
       "      <th>Einit_kT</th>\n",
       "      <th>res</th>\n",
       "      <th>R</th>\n",
       "      <th>temp</th>\n",
       "    </tr>\n",
       "  </thead>\n",
       "  <tbody>\n",
       "    <tr>\n",
       "      <th>-8</th>\n",
       "      <td>-59.827508</td>\n",
       "      <td>-8.0</td>\n",
       "      <td>1.267668</td>\n",
       "      <td>1.000000e-07</td>\n",
       "      <td>300</td>\n",
       "    </tr>\n",
       "    <tr>\n",
       "      <th>-4</th>\n",
       "      <td>-8.793280</td>\n",
       "      <td>-4.0</td>\n",
       "      <td>0.452107</td>\n",
       "      <td>1.000000e-07</td>\n",
       "      <td>300</td>\n",
       "    </tr>\n",
       "    <tr>\n",
       "      <th>-2</th>\n",
       "      <td>-2.309865</td>\n",
       "      <td>-2.0</td>\n",
       "      <td>0.119488</td>\n",
       "      <td>1.000000e-07</td>\n",
       "      <td>300</td>\n",
       "    </tr>\n",
       "    <tr>\n",
       "      <th>-1</th>\n",
       "      <td>-0.846746</td>\n",
       "      <td>-1.0</td>\n",
       "      <td>0.083006</td>\n",
       "      <td>1.000000e-07</td>\n",
       "      <td>300</td>\n",
       "    </tr>\n",
       "    <tr>\n",
       "      <th>0</th>\n",
       "      <td>0.000000</td>\n",
       "      <td>0.0</td>\n",
       "      <td>0.000000</td>\n",
       "      <td>1.000000e-07</td>\n",
       "      <td>300</td>\n",
       "    </tr>\n",
       "    <tr>\n",
       "      <th>1</th>\n",
       "      <td>0.462643</td>\n",
       "      <td>1.0</td>\n",
       "      <td>0.041065</td>\n",
       "      <td>1.000000e-07</td>\n",
       "      <td>300</td>\n",
       "    </tr>\n",
       "    <tr>\n",
       "      <th>2</th>\n",
       "      <td>0.692803</td>\n",
       "      <td>2.0</td>\n",
       "      <td>0.055365</td>\n",
       "      <td>1.000000e-07</td>\n",
       "      <td>300</td>\n",
       "    </tr>\n",
       "    <tr>\n",
       "      <th>4</th>\n",
       "      <td>0.836355</td>\n",
       "      <td>4.0</td>\n",
       "      <td>0.126297</td>\n",
       "      <td>1.000000e-07</td>\n",
       "      <td>300</td>\n",
       "    </tr>\n",
       "    <tr>\n",
       "      <th>8</th>\n",
       "      <td>0.860993</td>\n",
       "      <td>8.0</td>\n",
       "      <td>0.171876</td>\n",
       "      <td>1.000000e-07</td>\n",
       "      <td>300</td>\n",
       "    </tr>\n",
       "  </tbody>\n",
       "</table>\n",
       "</div>"
      ],
      "text/plain": [
       "    E_dor_init_kT  Einit_kT       res             R  temp\n",
       "-8     -59.827508      -8.0  1.267668  1.000000e-07   300\n",
       "-4      -8.793280      -4.0  0.452107  1.000000e-07   300\n",
       "-2      -2.309865      -2.0  0.119488  1.000000e-07   300\n",
       "-1      -0.846746      -1.0  0.083006  1.000000e-07   300\n",
       " 0       0.000000       0.0  0.000000  1.000000e-07   300\n",
       " 1       0.462643       1.0  0.041065  1.000000e-07   300\n",
       " 2       0.692803       2.0  0.055365  1.000000e-07   300\n",
       " 4       0.836355       4.0  0.126297  1.000000e-07   300\n",
       " 8       0.860993       8.0  0.171876  1.000000e-07   300"
      ]
     },
     "execution_count": 63,
     "metadata": {},
     "output_type": "execute_result"
    }
   ],
   "source": [
    "dF_calc"
   ]
  },
  {
   "cell_type": "code",
   "execution_count": 64,
   "metadata": {},
   "outputs": [
    {
     "data": {
      "text/plain": [
       "'100.0_300_0.3163543980626456'"
      ]
     },
     "execution_count": 64,
     "metadata": {},
     "output_type": "execute_result"
    }
   ],
   "source": [
    "def export_calc_dF(calc_dF,grain):\n",
    "    DIFF_EF_EC_evolt = grain.material.Diff_EF_EC_evolt\n",
    "    R = grain.R\n",
    "    temp = grain.material.T_C\n",
    "    \n",
    "    calc_dF['temp'] = temp\n",
    "    calc_dF['R'] = R\n",
    "    calc_dF['DIFF_EF_EC_evolt'] = DIFF_EF_EC_evolt\n",
    "    \n",
    "    name = f'{R*1e9}_{temp}_{DIFF_EF_EC_evolt}'\n",
    "    path  = f'./data/{name}'\n",
    "    calc_dF.to_hdf(path, 'raw')\n",
    "    return name\n",
    "name = export_calc_dF(dF_calc, grain)\n",
    "name"
   ]
  },
  {
   "cell_type": "markdown",
   "metadata": {},
   "source": [
    "# Summary\n",
    "In this notebook the flowowing steps have been accomplished:\n",
    "\n",
    "- numerically calculate the charge density in a semiconductor\n",
    "- solve the Poisson equation for spherical grains\n",
    "- Calculate the solutions for multiple grain sizes and surface potentials\n",
    "\n",
    "Those calculations have been derived with a standard set of Python tools. By using mainly the `numpy`, `scipy`, `matplotlib` and `pandas` these results have been achieved.\n",
    "\n",
    "To avoid a to large blocks of information in one notebook I like to introduce a breakpoint here. At such breakpoints it is helpful to save all the relevant gathered data in a `DataFrame`, save it to the filesystem, and pick it up again in a fresh notebook. This keeps each notebooks close to one topic and and introduces directly structure in the data.\n",
    "\n",
    "In the next notebook this calculated date will be used derive the total resistance of a grain under different conditions. The anisotropic charge carrier distribution inside the grain has a mayor influence on the total resistance. For two extreme cases, the conduction path inside the grain  differs a lot. Those cases are:\n",
    "\n",
    "1. Accumulation layer at the surface\n",
    "2. Depletion layer at the surface\n",
    "\n",
    "In the case of 1., the current will most likely run along the highly conductive surface of the grain. In the second case, the current will need to overcome a highly resistive surface layer and then propagate through the inside of the relatively low resistive bulk of the grain.\n",
    "\n",
    "Since all information to numerically derive the effects are now pre-calcualted, the next notebook will start at this point and continue to calcualte the total resistance.[Non-PDF readers, could use this link to guide them to the next notebook.](./2.1-From_smox_grain_to_resistance.ipynb)\n"
   ]
  },
  {
   "cell_type": "markdown",
   "metadata": {},
   "source": [
    "# Load the results"
   ]
  },
  {
   "cell_type": "code",
   "execution_count": 66,
   "metadata": {},
   "outputs": [
    {
     "data": {
      "text/html": [
       "<div>\n",
       "<style scoped>\n",
       "    .dataframe tbody tr th:only-of-type {\n",
       "        vertical-align: middle;\n",
       "    }\n",
       "\n",
       "    .dataframe tbody tr th {\n",
       "        vertical-align: top;\n",
       "    }\n",
       "\n",
       "    .dataframe thead th {\n",
       "        text-align: right;\n",
       "    }\n",
       "</style>\n",
       "<table border=\"1\" class=\"dataframe\">\n",
       "  <thead>\n",
       "    <tr style=\"text-align: right;\">\n",
       "      <th></th>\n",
       "      <th>E_dor_init_kT</th>\n",
       "      <th>Einit_kT</th>\n",
       "      <th>res</th>\n",
       "      <th>R</th>\n",
       "      <th>temp</th>\n",
       "      <th>DIFF_EF_EC_evolt</th>\n",
       "    </tr>\n",
       "  </thead>\n",
       "  <tbody>\n",
       "    <tr>\n",
       "      <th>-8</th>\n",
       "      <td>-59.827508</td>\n",
       "      <td>-8.0</td>\n",
       "      <td>1.267668</td>\n",
       "      <td>1.000000e-07</td>\n",
       "      <td>300</td>\n",
       "      <td>0.316354</td>\n",
       "    </tr>\n",
       "    <tr>\n",
       "      <th>-4</th>\n",
       "      <td>-8.793280</td>\n",
       "      <td>-4.0</td>\n",
       "      <td>0.452107</td>\n",
       "      <td>1.000000e-07</td>\n",
       "      <td>300</td>\n",
       "      <td>0.316354</td>\n",
       "    </tr>\n",
       "    <tr>\n",
       "      <th>-2</th>\n",
       "      <td>-2.309865</td>\n",
       "      <td>-2.0</td>\n",
       "      <td>0.119488</td>\n",
       "      <td>1.000000e-07</td>\n",
       "      <td>300</td>\n",
       "      <td>0.316354</td>\n",
       "    </tr>\n",
       "    <tr>\n",
       "      <th>-1</th>\n",
       "      <td>-0.846746</td>\n",
       "      <td>-1.0</td>\n",
       "      <td>0.083006</td>\n",
       "      <td>1.000000e-07</td>\n",
       "      <td>300</td>\n",
       "      <td>0.316354</td>\n",
       "    </tr>\n",
       "    <tr>\n",
       "      <th>0</th>\n",
       "      <td>0.000000</td>\n",
       "      <td>0.0</td>\n",
       "      <td>0.000000</td>\n",
       "      <td>1.000000e-07</td>\n",
       "      <td>300</td>\n",
       "      <td>0.316354</td>\n",
       "    </tr>\n",
       "    <tr>\n",
       "      <th>1</th>\n",
       "      <td>0.462643</td>\n",
       "      <td>1.0</td>\n",
       "      <td>0.041065</td>\n",
       "      <td>1.000000e-07</td>\n",
       "      <td>300</td>\n",
       "      <td>0.316354</td>\n",
       "    </tr>\n",
       "    <tr>\n",
       "      <th>2</th>\n",
       "      <td>0.692803</td>\n",
       "      <td>2.0</td>\n",
       "      <td>0.055365</td>\n",
       "      <td>1.000000e-07</td>\n",
       "      <td>300</td>\n",
       "      <td>0.316354</td>\n",
       "    </tr>\n",
       "    <tr>\n",
       "      <th>4</th>\n",
       "      <td>0.836355</td>\n",
       "      <td>4.0</td>\n",
       "      <td>0.126297</td>\n",
       "      <td>1.000000e-07</td>\n",
       "      <td>300</td>\n",
       "      <td>0.316354</td>\n",
       "    </tr>\n",
       "    <tr>\n",
       "      <th>8</th>\n",
       "      <td>0.860993</td>\n",
       "      <td>8.0</td>\n",
       "      <td>0.171876</td>\n",
       "      <td>1.000000e-07</td>\n",
       "      <td>300</td>\n",
       "      <td>0.316354</td>\n",
       "    </tr>\n",
       "  </tbody>\n",
       "</table>\n",
       "</div>"
      ],
      "text/plain": [
       "    E_dor_init_kT  Einit_kT       res             R  temp  DIFF_EF_EC_evolt\n",
       "-8     -59.827508      -8.0  1.267668  1.000000e-07   300          0.316354\n",
       "-4      -8.793280      -4.0  0.452107  1.000000e-07   300          0.316354\n",
       "-2      -2.309865      -2.0  0.119488  1.000000e-07   300          0.316354\n",
       "-1      -0.846746      -1.0  0.083006  1.000000e-07   300          0.316354\n",
       " 0       0.000000       0.0  0.000000  1.000000e-07   300          0.316354\n",
       " 1       0.462643       1.0  0.041065  1.000000e-07   300          0.316354\n",
       " 2       0.692803       2.0  0.055365  1.000000e-07   300          0.316354\n",
       " 4       0.836355       4.0  0.126297  1.000000e-07   300          0.316354\n",
       " 8       0.860993       8.0  0.171876  1.000000e-07   300          0.316354"
      ]
     },
     "metadata": {},
     "output_type": "display_data"
    },
    {
     "name": "stdout",
     "output_type": "stream",
     "text": [
      "1e-07 300.0 0.3163543980626456\n"
     ]
    }
   ],
   "source": [
    "def import_calc_dF(name):\n",
    "    path  = f'./data/{name}'\n",
    "    dF = pd.read_hdf(path)\n",
    "    display(dF)\n",
    "    grain_size = dF.iloc[0]['R']\n",
    "    DIFF_EF_EC_evolt = dF.iloc[0]['DIFF_EF_EC_evolt']\n",
    "    temp = dF.iloc[0]['temp']\n",
    "    print(grain_size, temp,DIFF_EF_EC_evolt)\n",
    "    material = Material(T_C=temp,DIFF_EF_EC_evolt=DIFF_EF_EC_evolt)\n",
    "    grain = Grain(grain_size,material)\n",
    "    return grain, dF\n",
    "    \n",
    "\n",
    "grain2, dF_calc2 = import_calc_dF(name)\n"
   ]
  },
  {
   "cell_type": "code",
   "execution_count": 67,
   "metadata": {},
   "outputs": [
    {
     "data": {
      "text/html": [
       "<div>\n",
       "<style scoped>\n",
       "    .dataframe tbody tr th:only-of-type {\n",
       "        vertical-align: middle;\n",
       "    }\n",
       "\n",
       "    .dataframe tbody tr th {\n",
       "        vertical-align: top;\n",
       "    }\n",
       "\n",
       "    .dataframe thead th {\n",
       "        text-align: right;\n",
       "    }\n",
       "</style>\n",
       "<table border=\"1\" class=\"dataframe\">\n",
       "  <thead>\n",
       "    <tr style=\"text-align: right;\">\n",
       "      <th></th>\n",
       "      <th>E_dor_init_kT</th>\n",
       "      <th>Einit_kT</th>\n",
       "      <th>res</th>\n",
       "      <th>R</th>\n",
       "      <th>temp</th>\n",
       "      <th>DIFF_EF_EC_evolt</th>\n",
       "      <th>eV_init</th>\n",
       "    </tr>\n",
       "  </thead>\n",
       "  <tbody>\n",
       "    <tr>\n",
       "      <th>-8</th>\n",
       "      <td>-59.827508</td>\n",
       "      <td>-8.0</td>\n",
       "      <td>1.267668</td>\n",
       "      <td>1.000000e-07</td>\n",
       "      <td>300</td>\n",
       "      <td>0.316354</td>\n",
       "      <td>-0.395122</td>\n",
       "    </tr>\n",
       "    <tr>\n",
       "      <th>-4</th>\n",
       "      <td>-8.793280</td>\n",
       "      <td>-4.0</td>\n",
       "      <td>0.452107</td>\n",
       "      <td>1.000000e-07</td>\n",
       "      <td>300</td>\n",
       "      <td>0.316354</td>\n",
       "      <td>-0.197561</td>\n",
       "    </tr>\n",
       "    <tr>\n",
       "      <th>-2</th>\n",
       "      <td>-2.309865</td>\n",
       "      <td>-2.0</td>\n",
       "      <td>0.119488</td>\n",
       "      <td>1.000000e-07</td>\n",
       "      <td>300</td>\n",
       "      <td>0.316354</td>\n",
       "      <td>-0.098780</td>\n",
       "    </tr>\n",
       "    <tr>\n",
       "      <th>-1</th>\n",
       "      <td>-0.846746</td>\n",
       "      <td>-1.0</td>\n",
       "      <td>0.083006</td>\n",
       "      <td>1.000000e-07</td>\n",
       "      <td>300</td>\n",
       "      <td>0.316354</td>\n",
       "      <td>-0.049390</td>\n",
       "    </tr>\n",
       "    <tr>\n",
       "      <th>0</th>\n",
       "      <td>0.000000</td>\n",
       "      <td>0.0</td>\n",
       "      <td>0.000000</td>\n",
       "      <td>1.000000e-07</td>\n",
       "      <td>300</td>\n",
       "      <td>0.316354</td>\n",
       "      <td>0.000000</td>\n",
       "    </tr>\n",
       "    <tr>\n",
       "      <th>1</th>\n",
       "      <td>0.462643</td>\n",
       "      <td>1.0</td>\n",
       "      <td>0.041065</td>\n",
       "      <td>1.000000e-07</td>\n",
       "      <td>300</td>\n",
       "      <td>0.316354</td>\n",
       "      <td>0.049390</td>\n",
       "    </tr>\n",
       "    <tr>\n",
       "      <th>2</th>\n",
       "      <td>0.692803</td>\n",
       "      <td>2.0</td>\n",
       "      <td>0.055365</td>\n",
       "      <td>1.000000e-07</td>\n",
       "      <td>300</td>\n",
       "      <td>0.316354</td>\n",
       "      <td>0.098780</td>\n",
       "    </tr>\n",
       "    <tr>\n",
       "      <th>4</th>\n",
       "      <td>0.836355</td>\n",
       "      <td>4.0</td>\n",
       "      <td>0.126297</td>\n",
       "      <td>1.000000e-07</td>\n",
       "      <td>300</td>\n",
       "      <td>0.316354</td>\n",
       "      <td>0.197561</td>\n",
       "    </tr>\n",
       "    <tr>\n",
       "      <th>8</th>\n",
       "      <td>0.860993</td>\n",
       "      <td>8.0</td>\n",
       "      <td>0.171876</td>\n",
       "      <td>1.000000e-07</td>\n",
       "      <td>300</td>\n",
       "      <td>0.316354</td>\n",
       "      <td>0.395122</td>\n",
       "    </tr>\n",
       "  </tbody>\n",
       "</table>\n",
       "</div>"
      ],
      "text/plain": [
       "    E_dor_init_kT  Einit_kT       res             R  temp  DIFF_EF_EC_evolt  \\\n",
       "-8     -59.827508      -8.0  1.267668  1.000000e-07   300          0.316354   \n",
       "-4      -8.793280      -4.0  0.452107  1.000000e-07   300          0.316354   \n",
       "-2      -2.309865      -2.0  0.119488  1.000000e-07   300          0.316354   \n",
       "-1      -0.846746      -1.0  0.083006  1.000000e-07   300          0.316354   \n",
       " 0       0.000000       0.0  0.000000  1.000000e-07   300          0.316354   \n",
       " 1       0.462643       1.0  0.041065  1.000000e-07   300          0.316354   \n",
       " 2       0.692803       2.0  0.055365  1.000000e-07   300          0.316354   \n",
       " 4       0.836355       4.0  0.126297  1.000000e-07   300          0.316354   \n",
       " 8       0.860993       8.0  0.171876  1.000000e-07   300          0.316354   \n",
       "\n",
       "     eV_init  \n",
       "-8 -0.395122  \n",
       "-4 -0.197561  \n",
       "-2 -0.098780  \n",
       "-1 -0.049390  \n",
       " 0  0.000000  \n",
       " 1  0.049390  \n",
       " 2  0.098780  \n",
       " 4  0.197561  \n",
       " 8  0.395122  "
      ]
     },
     "metadata": {},
     "output_type": "display_data"
    },
    {
     "data": {
      "text/plain": [
       "'Solutions resulting from minizing the error.'"
      ]
     },
     "execution_count": 67,
     "metadata": {},
     "output_type": "execute_result"
    },
    {
     "data": {
      "image/png": "[encoded data removed]",
      "text/plain": [
       "<Figure size 1152x648 with 1 Axes>"
      ]
     },
     "metadata": {
      "needs_background": "light"
     },
     "output_type": "display_data"
    }
   ],
   "source": [
    "fig, axe= subplots(figsize = (16,9))\n",
    "temp_grain = grain2\n",
    "dF_calc_temp = dF_calc2\n",
    "axe.axhline(-temp_grain.material.J_to_kT(temp_grain.material.Diff_EF_EC),linestyle='--',color='r', label='Fermi Level')\n",
    "axe.set_ylim(-10,10)\n",
    "\n",
    "for vinit, ser_temp in dF_calc_temp.iterrows():\n",
    "    vinit = ser_temp['Einit_kT']\n",
    "    v_dot_init = ser_temp['E_dor_init_kT']\n",
    "    resid = ser_temp['res'] \n",
    "    \n",
    "\n",
    "    r,v,vdot, data = temp_grain.solve_with_values(temp_grain.material.kT_to_J(vinit),temp_grain.material.kT_to_J(v_dot_init), )\n",
    "    r = np.concatenate([[0.01],r], axis=0)\n",
    "    v = np.concatenate([[v[0]],v], axis=0)\n",
    "    vdot = np.concatenate([[0],vdot], axis=0)\n",
    "\n",
    "\n",
    "    axe.plot(r,v, '-', label = \"\")\n",
    "    axe.set_ylabel('$E_C(r)$ [$k_BT$]', fontsize =22)\n",
    "    axe.set_xlabel(f'Position in grain [$L_D$ = {temp_grain.material.LD*1e9:.2f}nm], R={temp_grain.R*1e9:.2f}nm', fontsize =22)\n",
    "axe.legend()\n",
    "axe.grid(b=True)\n",
    "dF_calc['eV_init'] = dF_calc['Einit_kT'].apply(temp_grain.material.kT_to_J).apply(CONST.J_to_eV)\n",
    "display(dF_calc.sort_index())\n",
    "\"Solutions resulting from minizing the error.\""
   ]
  },
  {
   "cell_type": "markdown",
   "metadata": {},
   "source": [
    "This graph shows how a surface potential is shielded by the remaining ionized donors. In the case of on deletion layer ( $E_{C_{Surface}}>0 )$), the total number of charges shielding the surface potential is rather small compared to the amount of charges in an accumulation layer ( $E_{C_{Surface}}<0 )$). The result of such an asymmetry is visible in the graph. The width of the accumulation layer is by far smaller then the width of the depleted are."
   ]
  },
  {
   "cell_type": "markdown",
   "metadata": {},
   "source": [
    "# From charge distribution to resistance"
   ]
  },
  {
   "cell_type": "markdown",
   "metadata": {},
   "source": [
    "With the previous tools and calculation it is now possible to assign each point inside the grain a certain charge density. From this charge density a specific resistivity can be assinged to this area.\n",
    "First the ratio of $\\frac{n(r)}{n_b}$ inside the grain will be represented for the different starting conditions regarding $E_{C_{Surface}}$.\n",
    "To evaluate the $n(r)$ at arbitrary points r inside the grain, one additional step is needed. To calculate values between the points, where already solution exist, the additional value can be retrieved by interpolating between the neighbors. This process is generally called interpolation. Again, SciPy and Python offer here also a easy to use and robust solution.\n",
    "`from scipy import interpolate` adds the `interpolate` module into the kernel. The `interp1d` function of this module is described ([here](https://docs.scipy.org/doc/scipy/reference/generated/scipy.interpolate.interp1d.htm)) as follows:\n",
    ">Interpolate a 1-D function.\n",
    ">\n",
    ">x and y are arrays of values used to approximate some function f: y = f(x). This class returns a function whose call method uses interpolation to find the value of new points.\n",
    "\n",
    "This is how the function will be used for our needs. First we select one of the initial parameters for $E_{init}$ and $E_{dot_{init}}$ to recalculate the solution of the Poisson equation with these correct start parameters. In a second step we use `interp1d` to create a function which uses an interpolation algorithm to find the right value for any position inside the grain."
   ]
  },
  {
   "cell_type": "code",
   "execution_count": null,
   "metadata": {},
   "outputs": [],
   "source": [
    "from scipy import interpolate\n",
    "\n",
    "#get some solutions\n",
    "\n",
    "def get_interpolation_from_solution(ser):\n",
    "    edot_init_kt = ser['E_dor_init_kT']\n",
    "    e_init_kt = ser['Einit_kT']\n",
    "    r,v,vdot, data = grain.solve_with_values(temp_grain.material.kT_to_J(e_init_kt),temp_grain.material.kT_to_J(edot_init_kt), )\n",
    "    r = np.concatenate([[0.0],r], axis=0)\n",
    "    v = np.concatenate([[v[0]],v], axis=0)\n",
    "    vdot = np.concatenate([[0],vdot], axis=0)\n",
    "\n",
    "    #create a interpolation function to get values between calculated ones\n",
    "    f = interpolate.interp1d(r*grain.material.LD, grain.material.kT_to_J(v))\n",
    "    return f\n",
    "\n",
    "    \n",
    "ser = dF_calc.iloc[1]\n",
    "f = get_interpolation_from_solution(ser)\n",
    "#try one position\n",
    "pos = 80*1e-9\n",
    "c = grain.material.n(float(f(pos)))[0]/grain.material.nb\n",
    "\n",
    "print(f\"\"\"For a inital E_init of {e_init_kt:.2f}kT, the free charge carriers density\\n\n",
    "      in the conduction band at {pos*1e9:.2f}nm from the center in utits of nb is: {c:.2f}\"\"\")\n"
   ]
  },
  {
   "cell_type": "markdown",
   "metadata": {},
   "source": [
    "This means in the accumulation layer there are a the specific position 5.39 times more free charge carriers available as in the center. This results directly in a lower resistivity of the same factor.\n",
    "Instead of just calculating just individual values, the graphical representation is in this case more helpful."
   ]
  },
  {
   "cell_type": "code",
   "execution_count": null,
   "metadata": {},
   "outputs": [],
   "source": [
    "           \n",
    "def pos_to_r(xi,yi,grain, d):\n",
    "    dx = 2*grain.R/d.shape[0]\n",
    "    cx = d.shape[0]//2\n",
    "    cy = d.shape[1]//2\n",
    "    ri = ((xi-cx)**2+(yi-cy)**2)**0.5\n",
    "    return(ri*dx)\n",
    "\n",
    "\n",
    "def create_numerical_grain_matrix( grain, ser,n=100,):\n",
    "    condus = []\n",
    "    f = get_interpolation_from_solution(ser)\n",
    "    nx = ny = n\n",
    "    d_v = np.zeros((2*nx+1,2*ny+1))\n",
    "    d_roh = np.zeros((2*nx+1,2*ny+1))\n",
    "    d_cond = np.zeros((2*nx+1,2*ny+1))\n",
    "    \n",
    "    d_mask = np.zeros((2*nx+1,2*ny+1))\n",
    "    \n",
    "    cx = d_v.shape[0]//2\n",
    "    cy = d_v.shape[1]//2\n",
    "\n",
    "\n",
    "    for xi in range(d_roh.shape[0]):\n",
    "        for yi in range(d_roh.shape[1]):\n",
    "            r = float(pos_to_r(xi,yi,grain, d_roh))\n",
    "            try:\n",
    "                n = grain.material.n(float(f(r)))[0]/grain.material.nb\n",
    "                condu = n\n",
    "                d_roh[xi, yi] = 1/condu\n",
    "                d_cond[xi, yi] = condu\n",
    "                d_mask[xi,yi] = 1\n",
    "                condus.append(condu)\n",
    "\n",
    "            except ValueError:\n",
    "                #outside the grain\n",
    "                d_roh[xi, yi] = 50000\n",
    "                d_cond[xi, yi] = 0\n",
    "                d_mask[xi,yi] = 0\n",
    "    return d_v, d_cond, d_mask\n",
    "\n",
    "def plot_numerical_grain(axe, grain, ser, n=100):\n",
    "    d_v, d_cond,d_mask = create_numerical_grain_matrix( grain, ser,n=n)\n",
    "    d_cond_plot = d_cond.copy()\n",
    "    d_cond_plot[np.where(d_mask==0)]=None\n",
    "    im = axe.imshow(np.log(d_cond_plot), interpolation='bicubic',extent=(-grain.R*1e9, grain.R*1e9, -grain.R*1e9, grain.R*1e9),cmap='hot')\n",
    "    axe.set_ylabel('x [nm]')\n",
    "    axe.set_xlabel('y [nm]')\n",
    "    return d\n",
    "\n",
    "fig, axes = subplots(3,3, figsize = (16,9))\n",
    "for ax_i, (vinit, ser) in enumerate(dF_calc.iterrows()):\n",
    "    axe = fig.axes[ax_i]\n",
    "    plot_numerical_grain(axe, grain, ser)\n",
    "    axe.set_title(r'$E_{C_{Surface}}=$'+f'{vinit}kT')\n",
    "                  \n",
    "fig.tight_layout()\n",
    "    \n",
    "\n",
    "\n"
   ]
  },
  {
   "cell_type": "code",
   "execution_count": null,
   "metadata": {},
   "outputs": [],
   "source": [
    "from scipy import signal\n",
    "\n",
    "\n",
    "def initaliz_d_v(d_v):\n",
    "    d_v[:,0] = -1000\n",
    "    d_v[:,-1] = +1000\n",
    "    d_v = d_v*d_mask\n",
    "    return d_v\n",
    "\n",
    "def solve_relaxation(d_v, d_cond, d_mask):\n",
    "\n",
    "    for i in range(10000):\n",
    "\n",
    "        conv = [[0,1,0],[1,0,1],[0,1,0]]\n",
    "        numerator = signal.convolve2d(d_v*d_cond, conv, boundary='fill', mode='same', fillvalue=0)\n",
    "        denominator = signal.convolve2d(d_cond, conv, boundary='fill', mode='same', fillvalue=0)\n",
    "        d_v_new = (numerator/denominator)*d_mask\n",
    "        d_v_new = np.nan_to_num(d_v_new,0)\n",
    "\n",
    "        d_v_prev = d_v.copy()\n",
    "        d_v = d_v_new.copy()\n",
    "        d_v = initaliz_d_v(d_v)\n",
    "    return d_v, d_cond, d_mask\n",
    "\n",
    "def plot_num_grain(d_v, d_cond, d_mask):\n",
    "    fig, axes =subplots(1,3)\n",
    "    d_v_plot = d_v.copy()\n",
    "    d_v_plot[np.where(d_mask==0)]=None\n",
    "\n",
    "    axes[0].imshow(d_mask)\n",
    "    axes[1].imshow(d_cond)\n",
    "    axes[2].imshow(d_v_plot,interpolation= 'nearest')\n",
    "    \n",
    "def plot_voltage_1d(d_v):\n",
    "    fig, axe = subplots()\n",
    "    center = d_v[d_v.shape[0]//2,:]\n",
    "    axe.plot(center)\n",
    "\n",
    "def calc_current_center(d_v, d_cond, d_mask):\n",
    "    center_pos = d_v.shape[0]//2\n",
    "    center_current = (d_v[:,center_pos+1]-d_v[:,center_pos-1])*d_cond[:,center_pos]\n",
    "    \n",
    "    r = np.array([float(pos_to_r(xi,l,grain, d_v)) for xi in range(len(center_current))])\n",
    "    \n",
    "    center_current_tot = np.sum(center_current*r)\n",
    "    return center_current_tot, center_current, r\n",
    "\n",
    "def plot_center_current(r, center_current):\n",
    "    fig, axe = subplots()\n",
    "    axe.plot(r*1e9,center_current)\n",
    "    return\n",
    "\n",
    "#vinit, current = calc_current(d_v, d_cond, d_mask)"
   ]
  },
  {
   "cell_type": "code",
   "execution_count": null,
   "metadata": {},
   "outputs": [],
   "source": []
  },
  {
   "cell_type": "code",
   "execution_count": null,
   "metadata": {},
   "outputs": [],
   "source": [
    "fig, axe = subplots()\n",
    "axe.plot(d_v[d_v.shape[0]//2,:])"
   ]
  },
  {
   "cell_type": "code",
   "execution_count": null,
   "metadata": {},
   "outputs": [],
   "source": [
    "\n",
    "\n",
    "def initaliz_d_v(d_v):\n",
    "    d_v[:,0] = -1000\n",
    "    d_v[:,-1] = +1000\n",
    "    d_v = d_v*d_mask\n",
    "    return d_v\n",
    "\n",
    "for vinit, ser in dF_calc.iterrows():\n",
    "    vinit = ser.name\n",
    "    print(vinit)\n",
    "    d_v, d_cond, d_mask = create_numerical_grain_matrix( grain, ser,n=50,)\n",
    "    d_v = initaliz_d_v(d_v)\n",
    "\n",
    "    d_v, d_cond, d_mask = solve_relaxation(d_v, d_cond, d_mask)\n",
    "    \n",
    "    center_current_tot, center_current, r = calc_current_center(d_v, d_cond, d_mask)\n",
    "    \n",
    "    plot_num_grain(d_v, d_cond, d_mask)\n",
    "    plot_voltage_1d(d_v)\n",
    "    plot_center_current(r, center_current)\n",
    "        \n",
    "    \n",
    "    dF_calc.loc[vinit, 'current'] = center_current_tot"
   ]
  },
  {
   "cell_type": "code",
   "execution_count": null,
   "metadata": {},
   "outputs": [],
   "source": [
    "fig, axe = subplots()\n",
    "axe.plot(1/dF_calc['current'])\n",
    "axe.set_yscale('log')"
   ]
  },
  {
   "cell_type": "code",
   "execution_count": null,
   "metadata": {},
   "outputs": [],
   "source": [
    "fig, axe = subplots()\n",
    "axe.plot(1/dF_calc['current'])\n",
    "axe.set_yscale('log')"
   ]
  },
  {
   "cell_type": "code",
   "execution_count": null,
   "metadata": {},
   "outputs": [],
   "source": [
    "list(zip(r,zz))"
   ]
  },
  {
   "cell_type": "code",
   "execution_count": null,
   "metadata": {},
   "outputs": [],
   "source": [
    "from scipy import signal\n",
    "\n",
    "def calc_current(d_v, d_cond, d_mask):\n",
    "\n",
    "    for i in range(10000):\n",
    "\n",
    "        c = [[0,1,0],[1,0,1],[0,1,0]]\n",
    "        z = signal.convolve2d(d_v*d_cond, c, boundary='fill', mode='same', fillvalue=0)\n",
    "        n = signal.convolve2d(d_cond, c, boundary='fill', mode='same', fillvalue=0)\n",
    "        d_v_new = (z/n)*d_mask\n",
    "        d_v_new = np.nan_to_num(d_v_new,0)\n",
    "\n",
    "\n",
    "\n",
    "\n",
    "        d_v_prev = d_v.copy()\n",
    "        d_v = d_v_new.copy()\n",
    "        d_v = initaliz_d_v(d_v)\n",
    "\n",
    "    print((d_v-d_v_prev).sum())\n",
    "    fig, axes =subplots(1,3)\n",
    "\n",
    "    d_v_plot = d_v.copy()\n",
    "    d_v_plot[np.where(d_mask==0)]=None\n",
    "\n",
    "    axes[0].imshow(d_mask)\n",
    "    axes[1].imshow(d_roh)\n",
    "    axes[2].imshow(d_v_plot,interpolation= 'nearest')\n",
    "\n",
    "    fig, axe = subplots()\n",
    "    center = d_v[d_v.shape[0]//2,:]\n",
    "    axe.plot(center)\n",
    "\n",
    "    l = d_v.shape[0]//2\n",
    "    zz = (d_v[:,l+1]-d_v[:,l-1])*d_cond[:,l]\n",
    "    r = np.array([float(pos_to_r(xi,l,grain, z)) for xi in range(len(zz))])\n",
    "    print(vinit, np.sum(zz*r)*1e9)\n",
    "    fig, axe = subplots()\n",
    "    axe.plot(r*1e9,zz)\n",
    "    return vinit, np.sum(zz*r)*1e9\n",
    "vinit, current = calc_current(d_v, d_cond, d_mask)"
   ]
  },
  {
   "cell_type": "code",
   "execution_count": null,
   "metadata": {},
   "outputs": [],
   "source": [
    "8 15.849051335712266\n",
    "-8 2935778.4102546293"
   ]
  },
  {
   "cell_type": "code",
   "execution_count": null,
   "metadata": {},
   "outputs": [],
   "source": []
  },
  {
   "cell_type": "code",
   "execution_count": null,
   "metadata": {},
   "outputs": [],
   "source": [
    "fig, axe = subplots()\n",
    "axe.plot(j_slice)"
   ]
  },
  {
   "cell_type": "code",
   "execution_count": null,
   "metadata": {},
   "outputs": [],
   "source": [
    "c = [[0,0,0],[-1,0,1],[0,0,0]]\n",
    "z = signal.convolve2d(d_v, c, boundary='fill', mode='same', fillvalue=0)\n",
    "z = z*d_cond\n",
    "fig, axe = subplots( sharex=True)\n",
    "\n",
    "z[np.where(d_mask==0)]=None\n",
    "axe.imshow(z)\n",
    "\n",
    "fig, axe = subplots()\n",
    "slaps = []\n",
    "poss = []\n",
    "for l in range(z.shape[0]):\n",
    "    try:\n",
    "        zz = (d_v[:,l+1]-d_v[:,l-1])*d_cond[:,l]\n",
    "        r = [float(pos_to_r(xi,l,grain, z)) for xi in range(len(zz))]\n",
    "        j_slice = np.abs(np.nan_to_num(zz,0))\n",
    "        s = np.trapz(j_slice*r, r)\n",
    "        #s = np.sum(np.nan_to_num(tot_j_slice,0))\n",
    "        slaps.append(s)\n",
    "        poss.append(l)\n",
    "    except:\n",
    "        pass\n",
    "axe.plot(poss,slaps/min(slaps), 'ro')\n",
    "print(slaps[])"
   ]
  },
  {
   "cell_type": "code",
   "execution_count": null,
   "metadata": {},
   "outputs": [],
   "source": [
    "r"
   ]
  },
  {
   "cell_type": "code",
   "execution_count": null,
   "metadata": {},
   "outputs": [],
   "source": [
    "fig, axe = subplots()\n",
    "zz = (d_v[0:z.shape[0]//2,49]-d_v[0:z.shape[0]//2,51])*d_cond[0:z.shape[0]//2,49]\n",
    "zz = np.abs(zz)\n",
    "axe.plot(r,zz)\n",
    "#axe.plot(r,z)\n",
    "print(np.trapz(zz*2*pi,r))"
   ]
  },
  {
   "cell_type": "code",
   "execution_count": null,
   "metadata": {},
   "outputs": [],
   "source": []
  },
  {
   "cell_type": "markdown",
   "metadata": {},
   "source": [
    "# Bibliography section"
   ]
  },
  {
   "cell_type": "markdown",
   "metadata": {},
   "source": [
    "%%latex\n",
    "\\bibliographystyle{alphadin}\n",
    "\\bibliography{ipython}"
   ]
  }
 ],
 "metadata": {
  "kernelspec": {
   "display_name": "Python 3",
   "language": "python",
   "name": "python3"
  },
  "language_info": {
   "codemirror_mode": {
    "name": "ipython",
    "version": 3
   },
   "file_extension": ".py",
   "mimetype": "text/x-python",
   "name": "python",
   "nbconvert_exporter": "python",
   "pygments_lexer": "ipython3",
   "version": "3.7.4"
  },
  "title": "Numerical calculations of SMOx based gas sensors with Python"
 },
 "nbformat": 4,
 "nbformat_minor": 4
}
