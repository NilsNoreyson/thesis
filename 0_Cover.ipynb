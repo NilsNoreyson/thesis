{
 "cells": [
  {
   "cell_type": "raw",
   "metadata": {},
   "source": [
    "%%latex\n",
    "\n",
    "\\begin{center}\n",
    "\n",
    "\\thispagestyle{empty}\n",
    "\\vspace{4\\baselineskip}\n",
    "\n",
    "\\textbf{Dissertation}\\\\\n",
    "\n",
    "der Mathematisch – Naturwissenschaftlichen Fakultät\\\\\n",
    "der Eberhard Karls Universität Tübingen\\\\\n",
    "zur Erlangung des Grades eines\\\\\n",
    "Doktors der Naturwissenschaften\\\\\n",
    "(Dr. rer. nat.)\\\\\n",
    "\n",
    "\n",
    "\n",
    "\\vspace{7\\baselineskip}\n",
    "vorgelegt von\\\\\n",
    "Peter Bonanati\\\\\n",
    "\n",
    "\\vspace{2\\baselineskip}\n",
    "Tübingen\\\\\n",
    "2020\n",
    "\\end{center}\n",
    "\n",
    "\\clearpage"
   ]
  },
  {
   "cell_type": "raw",
   "metadata": {},
   "source": [
    "%%latex\n",
    "\\thispagestyle{empty}\n",
    "\\clearpage\n",
    "\\begin{sloppypar}\n",
    "\\textcolor[rgb]{1,1,1}{ }\n",
    "\\end{sloppypar}\n",
    "\\vfill\n",
    "\\begin{tabular}{l r} \n",
    "Tag der mündlichen Prüfung: & xx.xx.2020 \\\\ \n",
    " & \\\\\n",
    "Dekan: & Prof. Dr. Wolfgang Rosenstiel \\\\\n",
    " & \\\\\n",
    "1. Berichterstatter: & Prof. Dr. Udo Weimar\\\\ \n",
    "2. Berichterstatter: & Prof. Dr. Reinhold Fink\n",
    "\\end{tabular}\n"
   ]
  }
 ],
 "metadata": {
  "kernelspec": {
   "display_name": "Python 3",
   "language": "python",
   "name": "python3"
  },
  "language_info": {
   "codemirror_mode": {
    "name": "ipython",
    "version": 3
   },
   "file_extension": ".py",
   "mimetype": "text/x-python",
   "name": "python",
   "nbconvert_exporter": "python",
   "pygments_lexer": "ipython3",
   "version": "3.8.1"
  },
  "title": "A parametrized numerical model to simulate the semiconductor influence of thick film metal oxide gas sensors"
 },
 "nbformat": 4,
 "nbformat_minor": 4
}
