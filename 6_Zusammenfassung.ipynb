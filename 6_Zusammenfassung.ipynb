{
 "cells": [
  {
   "cell_type": "markdown",
   "metadata": {},
   "source": [
    "Das Ziel der vorliegenden Arbeit kann thematisch in zwei Bereiche aufgeteilt werden.\n",
    "\n",
    "Zum einen wird beschrieben, wie Gassensoren, welche auf halbleitenden Metalloxiden basieren, durch numerische Verfahren simuliert werden können. Am Beispiel von $SnO_2$ werden die notwendigen Zusammenhänge zur Beschreibung des Halbleiters hergeleitet. Aus den hergeleiteten Gleichungssystemen wird in einem zweiten Schritt der Sensor als solcher numerisch simuliert. In einem dritten Schritt werden die Ergebnisse der Simulation mit realen Daten verglichen. Durch das Abgleichen der Simulationen mit den experimentellen Daten lassen sich zusätzliche Rückschlüsse über die Sensoreigenschaften ableiten, die kaum direkt meßbar sind.\n",
    "\n",
    "Parallel dazu legt der zweite Bereich einen Schwerpunkt drauf, wie die Programmiersprache Python als effizientes Werkzeug für die wissenschaftliche Arbeit genutzt werden kann. Aufbauend auf Python wird das interaktive Entwicklungswerkzeug „Jupyter\" vorgestellt. Anhand von vielen Beispielen kann diese Arbeit als Einführung in Python und „Jupyter“ genutzt werden. Aufgeteilt in drei übergeordneten Abschnitten wird demonstriert, wie selbst mit wenigen Vorkenntnissen folgende grundlegende Methoden implementiert werden können:\n",
    "\n",
    "1. Lösen von Integralen sowie  differentiellen Gleichungssystemen\n",
    "2. Erstellen von numerischen Modellen zur Simulation von physikalischen und chemischen Prozessen\n",
    "3. Daten gestütztes Analysieren von realen Prozesse („Data-Mining“)\n",
    "\n",
    "In dieser Arbeit soll somit demonstriert werden, wie man:\n",
    "\n",
    "- wissenschaftliche Herleitung von Zusammenhängen\n",
    "- experimentelle Daten und deren (interaktive) Darstellung\n",
    "- sowie die zugrundeliegenden Algorithmen \n",
    "\n",
    "in einem einzigen Dokument vereinen kann. Eine solche gebündelte Darstellungsform kann dazu beitragen, das kollaborative Arbeiten in der Wissenschaft stark zu vereinfachen.\n",
    "\n"
   ]
  },
  {
   "cell_type": "raw",
   "metadata": {},
   "source": [
    "\n"
   ]
  }
 ],
 "metadata": {
  "kernelspec": {
   "display_name": "Python 3",
   "language": "python",
   "name": "python3"
  },
  "language_info": {
   "codemirror_mode": {
    "name": "ipython",
    "version": 3
   },
   "file_extension": ".py",
   "mimetype": "text/x-python",
   "name": "python",
   "nbconvert_exporter": "python",
   "pygments_lexer": "ipython3",
   "version": "3.8.1"
  },
  "title": "Zusammenfassung"
 },
 "nbformat": 4,
 "nbformat_minor": 4
}
