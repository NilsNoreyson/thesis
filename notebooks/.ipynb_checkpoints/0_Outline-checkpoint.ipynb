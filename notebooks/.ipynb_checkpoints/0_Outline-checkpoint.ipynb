{
 "cells": [
  {
   "cell_type": "markdown",
   "metadata": {},
   "source": [
    "%%latex\n",
    "\\setcounter{section}{-1}"
   ]
  },
  {
   "cell_type": "markdown",
   "metadata": {},
   "source": [
    "# Outline\n",
    "1. Introduction \n",
    "    - Why a notebook?\n",
    "2. Semiconductor SMOX and the Poisson equation.\n",
    "    - Introduction of SMOX\n",
    "    - Solving the Poisson equation\n",
    "        - Assumptions \n",
    "        - Limits\n",
    "        - State of the art comparison\n",
    "    - From grain to sensor.\n",
    "    - Simulation for resistance vs. surface sates\n",
    "        - Bled(er) it.\n",
    "3. Taking advantage of semiconductor<->temperature<->surface reaction trinity\n",
    "    - Background:\n",
    "        - State of the art surface understanding\n",
    "        - Combining it with numerical calculations\n",
    "        - Experimental results\n",
    "        - Resignation and outlook\n",
    "    - Action Time\n",
    "        - My journey in temperature modulation\n",
    "        - Self-adapted temperature modulation:\n",
    "            - Concept\n",
    "                - Publication <cite data-cite=\"Martinelli2012\"> (Self-adapted temperature modulation in metal-oxide semiconductor gas sensors, 2012)</cite>              \n",
    "                - Wavelets <cite data-dite=\"Shao2007\">(Automatic baseline correction by wavelet transform for quantitative open-path fourier transform infrared spectroscopy) </cite>\n",
    "            - Implementation (Gernot fragen)\n",
    "                - Esp32 based HIFI-Audio and Mic impementraion based on TTGO\n",
    "                - In house dev\n",
    "                - Current prototype\n",
    "            - Experimatal results\n",
    "        -Who understands this stuff? Let's ask ANN(A).\n",
    "            - Link to introduction ANN (Coursera sponsoring)\n",
    "            - Implementation (Tensorflow)\n",
    "            - Apply to data\n",
    "            - Results\n",
    "        - Do we get an explenation about what is going on here?\n",
    "            Nope.\n",
    "        - Live results in the field.\n",
    "4. Homework\n",
    "    - Train a neuronal network with self adapted temp. modulated data from real enviromental data\n",
    "        - Describe experimantal setup\n",
    "            - Our device data (X)\n",
    "            - Tübingen city reference stations for $NO_2$, $CO$ and $O_3$ (Y)\n",
    "        - Build model\n",
    "        - Train with train data\n",
    "        - Test with test data + live plot\n",
    "5. Outlook (personal perspective)\n",
    "    - Welcome communicator.\n",
    "        - user labeled data by microphone eqipped sensor board\n",
    "        - Analysis of input and output of human food processing represented in \"gas space\"\n",
    "            - Project Teflon\n",
    "    - Invitation to EigenART\n",
    "    \n",
    "\n",
    "            \n",
    "            \n",
    "            \n",
    "     \n",
    "    \n"
   ]
  },
  {
   "cell_type": "markdown",
   "metadata": {},
   "source": [
    "# Bibliography section"
   ]
  },
  {
   "cell_type": "markdown",
   "metadata": {},
   "source": [
    "%%latex\n",
    "\\bibliographystyle{alphadin}\n",
    "\\bibliography{ipython}"
   ]
  }
 ],
 "metadata": {
  "kernelspec": {
   "display_name": "Python 3",
   "language": "python",
   "name": "python3"
  },
  "language_info": {
   "codemirror_mode": {
    "name": "ipython",
    "version": 3
   },
   "file_extension": ".py",
   "mimetype": "text/x-python",
   "name": "python",
   "nbconvert_exporter": "python",
   "pygments_lexer": "ipython3",
   "version": "3.7.4"
  },
  "title": "Numerical calculations of SMOx based gas sensors with Python"
 },
 "nbformat": 4,
 "nbformat_minor": 4
}
