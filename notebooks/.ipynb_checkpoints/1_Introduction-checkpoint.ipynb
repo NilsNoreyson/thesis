{
 "cells": [
  {
   "cell_type": "markdown",
   "metadata": {},
   "source": [
    "%%latex\n",
    "\\tableofcontents \n",
    "\\setcounter{section}{0}"
   ]
  },
  {
   "cell_type": "markdown",
   "metadata": {},
   "source": [
    "# Introduction\n",
    "\n",
    "## Motivation\n",
    "\n",
    "\n",
    "When I first started working in the field of metal-oxide semiconducting gas sensors, I still had the wish to finish my time at university with a degree of eduction in math and physics. But while having spend 4 month in a school and experiencing the joy of teaching, I also felt a strong urge to continue learning and explore the possibilities science and research would allow me.\n",
    "Long story short, I ended up starting my Phd. in the \"Institute of Theoretical and Physical Chemistry\" at the University of Tübingen. Lucky as I was I directly got the possibility of working on a project with an industrial partner about gas sensors. This allowed me to investigate the sate-of-the-art of industrialized sensor production. Besides the benefits of learning to give regular presentations and reports,  working in teams and funding for interesting research activities, it also imposed some new problems needed to be solved.\n",
    "The biggest of challenges has been the continuous increase of sensor date in always shorter intervals.\n",
    "Luck as I was, I was not the only one facing problems with the increasing amount of data needed to be analyzed. Aside from the conventional way of wiring applications/programs, the need was rather on having efficient tool sets to reduce time consuming parts of the data analysis. Especially those which could theoretically be done by an algorithm. At this point my very basic knowledge in the area of programming and the need to solve urgent tasks, created the need for efficient solutions with a steep learning curve.\n",
    "Until then my, and of some others in the lab, standard procedure of working with our data was:\n",
    "\n",
    "* first to extract relevant features at well defined time-points to reduce the initial amount to a reasonable quantity of data points\n",
    "* in a second step a unified representation of the extracted features had to be created\n",
    "* analysis of the data and taking further steps\n",
    "\n",
    "When Working with a limited amount of samples, manually doing these steps was acceptable. With the industrial cooperation gaining speed, the number of samples increased also rapidly. Soon we reached the point where the pre-processing of the data would easily consume a large amount of time. And that without even having started with the analysis. Luckily I was not the only one facing such problems and a project from the Python community gained more and more interest. Articles like <cite data-cite=\"Unpingco2014\">(Python for signal processing: Featuring IPython notebooks)</cite> pointed me to a new way of dealing with data and using the Python programming language. Regarding the fact, that Python was already a well estblished programming language, the introduction of the \"IPtyhon notebook ecosystem\" was making the use of Python for in an scientific workflow very attractive.\n",
    "As mentioned in this article: <cite data-cite=\"Osipov2016\">(The Rise of Data Science Notebooks, 2016)</cite> (\"but what they do offer is an environment for exploration, collaboration, and visualization.\"), I also realized the large potential for my research field. Not only that I got  efficient tools for calculations, analysis and representations, but the new tools have been build with the focus of easy reporting results. Such an environment around the so called notebooks was the ideal piece, which I experienced as a missing block in the scientific work I was after.\n",
    "Besides my work for our industrial partner I also did fundamental research about semiconducting metaloxide gas sensors. On the basis of the great works on gas sensors, my focus was on one the numerically calculation of the gas sensors semiconducting properties. Typically a model of a gas sensor is developed and compared with experimental results. The pees review system assures, that the publications published in the journals are well written, documented the on a solid and proven basis. Unfortunately the transfer from the presented model in the publication to other model and a direct comparison of the results experimental data aired on other sensors is often not done. One of the main obstacles for the average experimental oriented researcher is the lack of the programming knowledge to implement algorithm based on the presented work.\n",
    "\n",
    "With the results I gained while my Phd. thesis I had the experience, that others understood the value of my work but could not transfer it to their particular problem. At this point I decided to orient myself back to my educational roots and use the powerful ecosystem around the IPython notebooks and write my thesis with the large focus on suppling a introduction to this excellent toolbox.\n",
    "\n",
    "The presented results will allow more people to gain insides in the semiconductors influence on the sensing properties. More than this I hope this thesis will also be a useful introduction into Python, specially IPython notebooks, for scientific work. \n",
    "\n",
    "These hopes are not unfunded.In my time working at the \"Eberhard Karls University of Tübingen\" i was also assigned to give multiple lectures. One lecture branch has been the introduction to data mining. Often the lack of programming knowledge and the limited amount of time did not allow a usage of Python as a supporting programming language. In these cases classical tools like Excel of Origin have been used to mine data examples for hidden facts. Most attendees have been very fast and understood the general concept of data mining. Just the lack of a the minimal requirement to translate the concept into machine understandable instructions stopped them from using them. When enough time was available, a short introduction into programming with Python gained a lot of interest and was generally seen as a positive experience. \n",
    "This thesis is therefore structured in such a way, that one the one side I will present my research results from the past years in a condensed form and on the other side uses this the opportunity to introduce and explain the importance of applying programming tools in the common work flow of scientific work. Since the potential of \"outsourcing\" repetitive tasks to machine executed scripts and invest more time in our ceativity and intelligence is huge. My hope is to bring with this thesis not only a deeper insight in the understanding of SMOX based gas sensors, but also help others to start a interesting journey into the wide area of data mining and machine learning with python.\n",
    "\n",
    "I typically finish my introductions to Python by letting the students run their first commands. Typically for other introductions found around the globe, this is a program which outputs \"Hello World\". \n",
    "For Python I prefer to execute some other commands with boils almost down to the philosophical essence on how \"instructions\" should be.\n"
   ]
  },
  {
   "cell_type": "code",
   "execution_count": 1,
   "metadata": {},
   "outputs": [
    {
     "name": "stdout",
     "output_type": "stream",
     "text": [
      "The Zen of Python, by Tim Peters\n",
      "\n",
      "Beautiful is better than ugly.\n",
      "Explicit is better than implicit.\n",
      "Simple is better than complex.\n",
      "Complex is better than complicated.\n",
      "Flat is better than nested.\n",
      "Sparse is better than dense.\n",
      "Readability counts.\n",
      "Special cases aren't special enough to break the rules.\n",
      "Although practicality beats purity.\n",
      "Errors should never pass silently.\n",
      "Unless explicitly silenced.\n",
      "In the face of ambiguity, refuse the temptation to guess.\n",
      "There should be one-- and preferably only one --obvious way to do it.\n",
      "Although that way may not be obvious at first unless you're Dutch.\n",
      "Now is better than never.\n",
      "Although never is often better than *right* now.\n",
      "If the implementation is hard to explain, it's a bad idea.\n",
      "If the implementation is easy to explain, it may be a good idea.\n",
      "Namespaces are one honking great idea -- let's do more of those!\n"
     ]
    }
   ],
   "source": [
    "import this"
   ]
  },
  {
   "cell_type": "markdown",
   "metadata": {},
   "source": [
    "## SMOX based gas sensors\n",
    "This section list a collection of high quality publications which will broadcast all relevant information about semiconductor based gas sensors directly into your brain! In the course of this thesis many of those aspects will be explained, analyzed in discussed in required detail at the relevant places. So reading these publications now is not necessary to follow this thesis. This section is therefore a good point to come back if a more detailed view on the subject is desired. Especially when this thesis is used to apply the presented concepts to individual research topics.\n",
    "\n",
    "When solving numerical problems it typical to introduction some assumptions, which are only valid under specific boundary conditions. These assumptions simplify the problem to a level where a numerical calculation is possible, but will reduce the validity of the results only to a small subset of all possible situations.\n",
    "The calculations in this thesis are also packed with assumptions and boundary conditions. My intention is to supply enough information to understand the relevance of the assumption and it's implications. With my presented work I do not claim to calculate all aspects of SMOX gas sensors, but present a tool which helps to understand specific aspects.\n",
    "The way of presenting this knowledge should lead/motivate others to adapt the presented work to individual other cases with completely different boundary conditions. A general understanding of gas sensors will only be gained to a certain level, but with time, work and data this understanding will definitely grow."
   ]
  },
  {
   "cell_type": "markdown",
   "metadata": {},
   "source": [
    "\n",
    "##  Notebooks\n",
    "![Juypter](../media/icons/jupyter.png)\n",
    "\"The Zen of Python\" might not always be the primary directive of each developer, but the Python community consists most probably of many people how would consider the latter points as important. So did also the inventors of the IPython and Jupyter. A quick search will reveal multiple sources in the world wide web giving a detailed picture about what Notebooks are and how Jupyter in connected with them. Here I will not try to give an general overview about this tool and rather stick to the phrase \"Learning by doing.\". By explaining topic related parts this notebooks will guide an interested reader to the point where:\n",
    "\n",
    "* understanding the fundamental instructions of Python\n",
    "* using the basic functionality of the Notebooks\n",
    "* fundamental understanding of SMOX gas based Sensors\n",
    "\n",
    "is gained.\n",
    "It is worth mentioning, that the intention of such notebooks is to merge the essential tools of scientific work flows together. Data acquisition, preparation, analysis, representation and documentation should available in one place. The strength of not just sharing final conclusions in a nicely formatted way, but also being able to share the full stack of steps necessary to reach the final conclusion is essentially the strength of the Jupyter notebooks. This feature is already changing the way how scientific results are shared/published and was intentionally designed this way.<cite data-cite=\"Randles2017\">(Using the Jupyter Notebook as a Tool for Open Science: An Empirical Study,2017)</cite>\n",
    "\n",
    "<!--- ![](../media/pics/buytheticket.jpg) -->\n",
    "\n"
   ]
  },
  {
   "cell_type": "markdown",
   "metadata": {},
   "source": [
    "### Installation guide\n",
    "The easiest way to get started would be to use the Anaconda distribution. Anaconda bundles multiple different tools and installs them i nthe operation system. Anaconda will take care of cross dependecies and handle the update process of the software. This is not the only way to get started with Jupyter Notebooks but surely an very fast and easy one. [HERE](../media/presentations/InstallAnaconda/Anaconda-Python.pdf) is additionally a presentation I use for my lectures to guide students into the world of Python and [here one example](../media/presentations/InstallAnaconda/PythonÜbung.zip) of it's usage.\n"
   ]
  },
  {
   "cell_type": "markdown",
   "metadata": {},
   "source": [
    "### Example Notebook - Sneak preview\n",
    "Besides the first example \"import this\", here is a very basic example which should prepare exited reader on whats coming next."
   ]
  },
  {
   "cell_type": "markdown",
   "metadata": {},
   "source": [
    "#### \"Simple is better than complex.\"\n",
    "\n",
    "The Jupyter environment is equipped with \"magic commands\", which are not part of the base programming language (i.e. Python), but rather a helper instruction to simplify common tasks. Magic commands always start with \"%\" and are followed with an instruction. I will demonstrate in this example the use of the %pylab instruction. This modifies the current programming space to be a lab nicely equipped for scientific work flows. For instance a chemistry lab is equipped with a balance, a water tab and a fire extinguisher, and in this case a \"pylab\" is equipped with data handing, plotting and multiple other tools. So let's setup a \"pylab\" and run some lines of code."
   ]
  },
  {
   "cell_type": "code",
   "execution_count": 5,
   "metadata": {},
   "outputs": [
    {
     "name": "stdout",
     "output_type": "stream",
     "text": [
      "Populating the interactive namespace from numpy and matplotlib\n"
     ]
    },
    {
     "data": {
      "image/png": "[encoded data removed]",
      "text/plain": [
       "<Figure size 432x288 with 1 Axes>"
      ]
     },
     "metadata": {
      "needs_background": "light"
     },
     "output_type": "display_data"
    }
   ],
   "source": [
    "%pylab inline\n",
    "x = linspace(start=-50, stop=50, num=5000)\n",
    "y = x**3\n",
    "fig = plt.plot(x,y,'b')"
   ]
  },
  {
   "cell_type": "markdown",
   "metadata": {},
   "source": [
    "The additional \"inline\" instruction in `%pylab` configures the plotting environment to represent the graphics inside this text. The following line generates a 5000 linear distributed points in the interval \\[-50,50) and y is just the third power of each point.\n",
    "`plt.` is a submodule defined by the magic command `%pylab` which handels data plotting in a very simple way. \n",
    "`plt.plot(x,y,'r-')` for example plots x vs. y with a red line. The thesis is done in the notebook to offer the reader the possibility to directly work with newly gained knowledge.\n",
    "Therefore the upper block is a good opportunity to do the fist steps in Python. For instance change the line format to 'b' (blue). Or to 'b-.'. Change the exponent from 3 to 3.1.\n",
    "To do so:\n",
    "\n",
    "* click on the code box\n",
    "* edit the field\n",
    "* Add the following line `plt.title('The power law')`\n",
    "* go back with CTRL-Z to correct your mistakes\n",
    "* hit CTRL-ENTER to execute the code\n"
   ]
  },
  {
   "cell_type": "markdown",
   "metadata": {},
   "source": [
    "# Conclusion\n",
    "Since the motivation for this \"interactive\" thesis should be clear now, I would like to come in the next section now to my actual research topic:\n",
    "\"Numerical calculation of semiconducting metal oxide (SMOX) based gas sensors\".\n",
    "In the [next chapter](../notebooks/2-SMOX-sensor-calculation.ipynb) I will demonstrate how theoretical numerical calculations for chemical sensors are used to better understand experimental results. In the [following chapter](../notebooks/3-Applying_theorie-to-practice.ipynb) I will demonstrate how such knowledge could be used to improve the performance of a sensor regarding it's sensitivity and selectivity.\n",
    "\n",
    "[Follow this link to come to the next section.](../notebooks/2-SMOX-sensor-calculation.ipynb)"
   ]
  },
  {
   "cell_type": "markdown",
   "metadata": {},
   "source": [
    "# Notice\n",
    "This notebook was not intended to be used as a printed hard copy or as a PDF. The provided PDF servers just as an low level representation of the original work. It should give potentially interested readers an easy entry point to Python(any other programming language) supported science.\n",
    "Many of the implemented features in these notebooks like interactive widgets, animated data representations and live code examples will not work in the PDF-version. Only a static snapshot of the mutable representation can be represented outside the notebook.\n",
    "On the one side the reduction of printed pages and the benefits of interacting with the presented work in a notebook should motivate the reader to use the notebook.\n",
    "Nevertheless the integrated function to export the notebook to a Latex based PDF results in a very nice static publication. So please keep in mind, that the PDF-verison may not be able to represent all the features of the notebook as intended and some links might not work as expected. You are strongly encouraged to switch to the Jupyter presentation of this work and experience the full potential of such notebooks.\n"
   ]
  },
  {
   "cell_type": "markdown",
   "metadata": {},
   "source": [
    "# Bibliography section"
   ]
  },
  {
   "cell_type": "markdown",
   "metadata": {},
   "source": [
    "%%latex\n",
    "\\bibliographystyle{alphadin}\n",
    "\\bibliography{ipython}"
   ]
  }
 ],
 "metadata": {
  "kernelspec": {
   "display_name": "Python 3",
   "language": "python",
   "name": "python3"
  },
  "language_info": {
   "codemirror_mode": {
    "name": "ipython",
    "version": 3
   },
   "file_extension": ".py",
   "mimetype": "text/x-python",
   "name": "python",
   "nbconvert_exporter": "python",
   "pygments_lexer": "ipython3",
   "version": "3.7.4"
  },
  "title": "Numerical calculations of SMOx based gas sensors with Python"
 },
 "nbformat": 4,
 "nbformat_minor": 4
}
