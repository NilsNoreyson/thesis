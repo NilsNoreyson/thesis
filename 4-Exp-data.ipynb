{
 "cells": [
  {
   "cell_type": "markdown",
   "metadata": {},
   "source": [
    "%%latex\n",
    "\\tableofcontents \n",
    "\\setcounter{section}{0}"
   ]
  },
  {
   "cell_type": "markdown",
   "metadata": {},
   "source": [
    "# Bibliography section"
   ]
  },
  {
   "cell_type": "markdown",
   "metadata": {},
   "source": [
    "%%latex\n",
    "\\bibliographystyle{alphadin}\n",
    "\\bibliography{ipython}"
   ]
  },
  {
   "cell_type": "code",
   "execution_count": 129,
   "metadata": {},
   "outputs": [],
   "source": [
    "from part2 import *\n",
    "\n",
    "def create_grain_from_data(dF):\n",
    "    if type(dF)==pd.Series:\n",
    "        dF = pd.DataFrame([dF])\n",
    "        \n",
    "    if len(dF['temp'].unique())==1:\n",
    "        T_C = dF['temp'].unique()[0]\n",
    "    else:\n",
    "        raise Exception('Multiple paramters for one grain are invalid.')\n",
    "    \n",
    "    if len(dF['ND'].unique())==1:\n",
    "        ND = dF['ND'].unique()[0]\n",
    "    else:\n",
    "        raise Exception('Multiple paramters for one grain are invalid.')\n",
    "    \n",
    "    if len(dF['mass_eff'].unique())==1:\n",
    "        mass_e_eff_factor = dF['mass_eff'].unique()[0]/CONST.MASS_E \n",
    "    else:\n",
    "        raise Exception('Multiple paramters for one grain are invalid.')\n",
    "    \n",
    "    if len(dF['R'].unique())==1:\n",
    "        grainsize_radius = dF['R'].unique()[0]\n",
    "    else:\n",
    "        raise Exception('Multiple paramters for one grain are invalid.')\n",
    "        \n",
    "\n",
    "    \n",
    "\n",
    "    material = Material(T_C,ND)\n",
    "    grain = Grain(grainsize_radius=grainsize_radius,material=material)\n",
    "    \n",
    "    return grain\n"
   ]
  },
  {
   "cell_type": "markdown",
   "metadata": {},
   "source": [
    "## Data from the publication"
   ]
  },
  {
   "cell_type": "markdown",
   "metadata": {},
   "source": [
    "![test](media/rawdata450_1000.jpg)"
   ]
  },
  {
   "cell_type": "markdown",
   "metadata": {},
   "source": [
    "# Import the experimental results"
   ]
  },
  {
   "cell_type": "code",
   "execution_count": 130,
   "metadata": {},
   "outputs": [],
   "source": [
    "calc_dF = pd.read_hdf('numerical_sol_2.h5','raw')\n",
    "\n",
    "dF_450 = pd.read_excel('Kelvin_Data.xlsx', sheet_name='ipc450').sort_values(by='dV')\n",
    "dF_1000 = pd.read_excel('Kelvin_Data.xlsx', sheet_name='ipc1000').sort_values(by='dV')\n",
    "\n",
    "gs = calc_dF.groupby(['R','ND'])"
   ]
  },
  {
   "cell_type": "code",
   "execution_count": 131,
   "metadata": {},
   "outputs": [
    {
     "name": "stdout",
     "output_type": "stream",
     "text": [
      "Populating the interactive namespace from numpy and matplotlib\n"
     ]
    },
    {
     "name": "stderr",
     "output_type": "stream",
     "text": [
      "/usr/lib/python3.8/site-packages/IPython/core/magics/pylab.py:159: UserWarning: pylab import has clobbered these variables: ['interp', 'axes']\n",
      "`%matplotlib` prevents importing * from pylab and numpy\n",
      "  warn(\"pylab import has clobbered these variables: %s\"  % clobbered +\n"
     ]
    }
   ],
   "source": [
    "%pylab qt5\n",
    "%matplotlib qt5"
   ]
  },
  {
   "cell_type": "code",
   "execution_count": 132,
   "metadata": {},
   "outputs": [],
   "source": [
    "from scipy.optimize import curve_fit\n",
    "\n"
   ]
  },
  {
   "cell_type": "code",
   "execution_count": 133,
   "metadata": {},
   "outputs": [
    {
     "data": {
      "text/plain": [
       "(10, 1000000000.0)"
      ]
     },
     "execution_count": 133,
     "metadata": {},
     "output_type": "execute_result"
    },
    {
     "data": {
      "image/png": "[encoded data removed]",
      "text/plain": [
       "<Figure size 432x288 with 1 Axes>"
      ]
     },
     "metadata": {
      "needs_background": "light"
     },
     "output_type": "display_data"
    }
   ],
   "source": [
    "fig, axe = subplots()\n",
    "axe.scatter(dF_450['dV'],dF_450['res'])\n",
    "axe.set_yscale('log')\n",
    "axe.set_xlim(0.2,-1.2)\n",
    "axe.set_ylim(10,1e9)"
   ]
  },
  {
   "cell_type": "code",
   "execution_count": 134,
   "metadata": {},
   "outputs": [],
   "source": [
    "sizes = {'IPC 1000':[100e-9, 50e-9], 'IPC 450':[6.25e-9, 12.5e-9]}\n",
    "sizes = {'IPC 1000':[50e-9], 'IPC 450':[6.25e-9]}"
   ]
  },
  {
   "cell_type": "code",
   "execution_count": 136,
   "metadata": {},
   "outputs": [
    {
     "name": "stdout",
     "output_type": "stream",
     "text": [
      "Populating the interactive namespace from numpy and matplotlib\n"
     ]
    },
    {
     "name": "stderr",
     "output_type": "stream",
     "text": [
      "/usr/lib/python3.8/site-packages/IPython/core/magics/pylab.py:159: UserWarning: pylab import has clobbered these variables: ['interp', 'axes']\n",
      "`%matplotlib` prevents importing * from pylab and numpy\n",
      "  warn(\"pylab import has clobbered these variables: %s\"  % clobbered +\n"
     ]
    },
    {
     "data": {
      "text/plain": [
       "(5e-08, 1e+22)         5.093919\n",
       "(5e-08, 1e+21)        12.950139\n",
       "(5e-08, 1e+23)       322.816574\n",
       "(5e-08, 1e+24)    504637.193166\n",
       "dtype: float64"
      ]
     },
     "metadata": {},
     "output_type": "display_data"
    },
    {
     "data": {
      "text/plain": [
       "(6.25e-09, 1e+21)       10.118508\n",
       "(6.25e-09, 1e+22)       18.067190\n",
       "(6.25e-09, 1e+23)      732.871140\n",
       "(6.25e-09, 1e+24)    29427.948572\n",
       "dtype: float64"
      ]
     },
     "metadata": {},
     "output_type": "display_data"
    },
    {
     "data": {
      "image/png": "[encoded data removed]",
      "text/plain": [
       "<Figure size 1152x360 with 2 Axes>"
      ]
     },
     "metadata": {
      "needs_background": "light"
     },
     "output_type": "display_data"
    }
   ],
   "source": [
    "%pylab inline\n",
    "from scipy.optimize import curve_fit\n",
    "from scipy.interpolate import interp1d\n",
    "import pandas as pd\n",
    "\n",
    "\n",
    "def fit_func(x, a, b, c,d,e):\n",
    "    return a * np.exp(b* x**2+c* x+d + e*x**3)\n",
    "\n",
    "rescaled = True\n",
    "\n",
    "fig, axes = subplots(1,2, figsize=(16,5))\n",
    "for ax_i, (sens, dF) in enumerate([('IPC 1000',dF_1000),('IPC 450',dF_450)]):\n",
    "    axe = fig.axes[ax_i]\n",
    "    axe.set_title(sens)\n",
    "    \n",
    "    \n",
    "    around_0_indx = dF['dV'].abs().sort_values().index[0:5]\n",
    "    x_fit = dF.loc[around_0_indx, 'dV']\n",
    "    y_fit = dF.loc[around_0_indx, 'res']\n",
    "        \n",
    "    def fit_func(x, a, b):\n",
    "        return a * np.exp(-b * x)\n",
    "\n",
    "    g_fit_params,_ = curve_fit(fit_func, x_fit, y_fit, sigma=1/y_fit)\n",
    "\n",
    "    res_flatband = fit_func(0, *g_fit_params)\n",
    "    \n",
    "    \n",
    "    if rescaled:\n",
    "        y = dF['res']/res_flatband\n",
    "        axe.set_ylim((1e-4,1e3))\n",
    "    else:\n",
    "        y = dF['res']\n",
    "        axe.set_ylim((10,10e6))\n",
    "        \n",
    "    axe.scatter(dF['dV'],y, s=100)\n",
    "    \n",
    "    if rescaled:\n",
    "        axe.scatter(0, 1, s=100, label = 'Resistance Nitrogen', c='r')\n",
    "    else:\n",
    "        axe.scatter(0, res_flatband, s=100, label = 'Resistance Nitrogen', c='r')\n",
    "    \n",
    "    axe.set_xlim((0.2,-1.2))\n",
    "    axe.set_yscale('log')\n",
    "    \n",
    "    diff_dF = pd.DataFrame(index = dF['dV'])\n",
    "    \n",
    "    calc_dF_sizes = calc_dF.copy()\n",
    "    calc_dF_sizes = calc_dF_sizes[calc_dF_sizes['R'].isin(sizes[sens])]\n",
    "    gs = calc_dF_sizes.groupby(['R','ND'])\n",
    "    \n",
    "    if rescaled:\n",
    "        for (R,ND), calc_dF_grainsize in gs:\n",
    "            #diff_dF[f'{R}_{ND}'] = None\n",
    "            diff_dF[(R,ND)] = None\n",
    "            grain = create_grain_from_data(calc_dF_grainsize)\n",
    "            flat_band = calc_dF_grainsize[calc_dF_grainsize['Einit_kT']==0].iloc[0]['current']\n",
    "            \n",
    "            res = flat_band/calc_dF_grainsize['current']\n",
    "            v = calc_dF_grainsize['Einit_kT']*CONST.J_to_eV(grain.material.kT)\n",
    "            #axe.plot(v,res, 'o', alpha=0.1)\n",
    "\n",
    "            interp = interp1d(v, res, kind='cubic', bounds_error=False)\n",
    "            y_from_num = interp(dF['dV'])\n",
    "            \n",
    "            axe.plot(dF['dV'],y_from_num, 'o', alpha=0.1)\n",
    "            \n",
    "            \n",
    "            diff_dF.loc[:,(R,ND)] = ((y_from_num-y.values)/y.values)**2\n",
    "    \n",
    "        m = diff_dF.abs().sum().idxmin()\n",
    "    \n",
    "    \n",
    "        for (R,ND), calc_dF_grainsize in gs:\n",
    "            if (R,ND)==diff_dF.abs().sum().sort_values().index[0]:\n",
    "                linestyle= 'k-'\n",
    "            elif (R,ND)==diff_dF.abs().sum().sort_values().index[1]:\n",
    "                linestyle= 'r--'\n",
    "                continue\n",
    "            else:\n",
    "                continue\n",
    "            \n",
    "            grain = create_grain_from_data(calc_dF_grainsize)\n",
    "            flat_band = calc_dF_grainsize[calc_dF_grainsize['Einit_kT']==0].iloc[0]['current']\n",
    "            \n",
    "            res = flat_band/calc_dF_grainsize['current']\n",
    "            v = calc_dF_grainsize['Einit_kT']*CONST.J_to_eV(grain.material.kT)\n",
    "            #axe.plot(v,res, 'o', alpha=0.1)\n",
    "\n",
    "            interp = interp1d(v, res, kind='cubic', bounds_error=False)\n",
    "            y_from_num = interp(dF['dV'])\n",
    "            \n",
    "            #axe.plot(dF['dV'],y_from_num, 'o', alpha=0.1)\n",
    "            axe.plot(v,res, linestyle, linewidth=5,alpha=0.5)\n",
    "            \n",
    "            \n",
    "            #diff_dF.loc[:,(R,ND)] = ((y_from_num-y.values)/y.values)**2\n",
    "    \n",
    "        display(diff_dF.abs().sum().sort_values())\n",
    "    \n",
    "    axe.set_title(f'{sens}, {m}')\n",
    "    \n",
    "\n",
    "            \n",
    "            \n",
    "        \n",
    "       \n",
    "    \n",
    "\n",
    "    \n"
   ]
  },
  {
   "cell_type": "markdown",
   "metadata": {},
   "source": [
    "![test](media/WF450und1000.jpg)"
   ]
  },
  {
   "cell_type": "code",
   "execution_count": 9,
   "metadata": {},
   "outputs": [],
   "source": []
  }
 ],
 "metadata": {
  "kernelspec": {
   "display_name": "Python 3",
   "language": "python",
   "name": "python3"
  },
  "language_info": {
   "codemirror_mode": {
    "name": "ipython",
    "version": 3
   },
   "file_extension": ".py",
   "mimetype": "text/x-python",
   "name": "python",
   "nbconvert_exporter": "python",
   "pygments_lexer": "ipython3",
   "version": "3.8.1"
  },
  "title": "Comparing numerical results with experimental data"
 },
 "nbformat": 4,
 "nbformat_minor": 4
}
