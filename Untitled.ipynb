{
 "cells": [
  {
   "cell_type": "markdown",
   "metadata": {},
   "source": [
    "%%latex\n",
    "\\tableofcontents \n",
    "\\setcounter{section}{0}\n"
   ]
  },
  {
   "cell_type": "markdown",
   "metadata": {},
   "source": [
    "# Introduction\n",
    "\n",
    "## Motivation\n",
    "\n",
    "In the beginning of my academical career I was aiming an educational degree i math and physics. While studying at the University of Tübingen I was also worked as a research assistant in the Institute of Physical Chemistry.\n",
    "In the course of my studies I was allowed to spend 4 month in a school to gain first experiences in teaching physics and math to students between 12 and 20 years. Even though it was a great experience and I enjoyed it a lot to bring new ideas and concepts to the students, I also felt a strong urge to continue learning and explore. At this time the possibilities I saw in focusing on scientific research and development seemed more attractive to me. My reasoning was, that I might be able to combine my preference for teaching and research rather at the university than a college.\n",
    "Long story short, after some years I ended up doing my Phd. in the \"Institute of Theoretical and Physical Chemistry\" at the University of Tübingen. Lucky as I was I directly got the possibility to work in a project with an industrial partner. The focus was on building a new state of the art gas sensors. Besides the benefits of working in a great teams, having enough financial support for research activities and learning to present and report my results on a regular basis,  it also imposed some new problems needed to be solved.\n",
    "One of the biggest challenges was the continuous increase of experimental data in always shorter intervals. With the increasing industrialization and automatization of sensor production and testing, the quantity of high quality data increased dramatically.\n",
    "\n",
    "Luck as I was, I was not the only one facing problems with the increasing amount of data needed to be processed and analyzed. In the beginning of each analysis, the specific task was not fully defined. It was rather an exploratory research to gain an idea about possible hidden opportunities. In this case the the traditional way of creating well defined software algorithms for a specific tasks did not fit too well.\n",
    "\n",
    "I rather had the need for efficient tools to reduce time consuming parts regarding the data analysis, which had been performed manually until now.  I was looking for a platform to combine multiple of these tools efficiently.  So at this point of my career with my very basic knowledge in the area of programming/coding and the need to solve urgent tasks, I was looking for an efficient solutions with a steep learning curve.\n",
    "\n",
    "Until then my standard procedure (and some others in our lab) of working with data was mainly based on manual feature extraction and analysis.\n",
    "When Working with a limited amount of samples, manually doing these steps was acceptable and efficient. With the industrial cooperation accelerated, the number of samples increased also rapidly. Soon we reached the point where the pre-processing of the data would easily consume a large amount of time. And that without even having started with a deeper analysis. Luckily I was not the only one facing such problems and a project from the Python community gained more and more interest. Articles like <cite data-cite=\"Unpingco2014\">(Python for signal processing: Featuring IPython notebooks)</cite> pointed me to a new way of dealing with data and indicated, that the Python programming language might be very helpful. Regarding the fact, that Python was already a well established programming language, the introduction of the \"IPtyhon notebook ecosystem\" was making the use of Python for in an scientific work flow very attractive.\n",
    "As mentioned in this article: <cite data-cite=\"Osipov2016\">(The Rise of Data Science Notebooks, 2016)</cite>\n",
    "\n",
    ">\"... what they do offer is an environment for exploration, collaboration, and visualization.\"\n",
    "\n",
    "I also realized the large potential for my working field. By learning Python I got efficient tools for calculations, analysis and representations. Additionally the new tools have been build specially with the focus on the goal to easy report result including the way they have been gained. The environment around the so called \"Juypter notebooks\" was the ideal piece, which I experienced as a missing block in the scientific work I was doing.\n",
    "\n",
    "Besides my work for our industrial partner I also did fundamental research about semiconducting metaloxide gas sensors. Based on great research done before my time on gas sensors, my focus was now on numerical calculations of the gas sensors. Typically a theoretical model of a gas sensor is developed and the predictions are compared with experimental results. When publishing the results the peer review system assures, that the publications are well written, documented the on a solid and proven basis. But when reading such papers, I had the experience, many of them presented excellent ideas, but unfortunately practical instructions on how to implement the presented models were often not given.\n",
    "\n",
    "The work of rebuilding the model and recalculating the results was therefore often not possible in a reasonable amount of time. In my experience this limits the direct comparison of new model with experimental data from other sensors. It is also worth to mention, that in my experience the average experimental oriented researcher does not have the required programming knowledge to easily implement algorithm based on the presented work. But I am confident, that if an algorithm was given in an appropriate way, most research would benefit from the presented code.\n",
    "\n",
    "With the results I gained while my Phd. thesis, I was facing the same problem. Others understood the value of my work but could not transfer it to their particular problem.  At this point my graphical representation in the form of presentations, my detailed description and the corresponding algorithms of my work had been three separated parts. An appropriated way of representing those results in unified matter did not exists yet. Facing this problem more and more, I decided not to ignore it anymore. I made the choice to try to combine representation, description and algorithm in one unified way.\n",
    "\n",
    "I decided to orient myself back to my \"educational roots\" and use the powerful ecosystem around the \"Jupyter notebooks\" to calculate, represent and describe the results for my thesis for this task. This is why my thesis is written with the large focus on suppling a introduction to this excellent toolbox.\n",
    "\n",
    "This work will (hopefully) allow more people to gain insides in the sensing properties of semi conducting metal oxide sensors (SMOX).Additionally this thesis is intended to be a useful introduction into Python, specially IPython notebooks, for scientific work. \n",
    "\n",
    "These hopes are not unfunded. In my time working at the \"Eberhard Karls University of Tübingen\" i was also assigned to give multiple lectures and classes. One lecture branch has been the introduction to data mining. Often the lack of programming knowledge and the limited amount of lecture time did not allow a usage of Python as a supporting programming language. In these cases classical tools like Excel or Origin have been used to analyze example datasets for hidden facts. Most attendees have been very fast and understood the general concept of data mining. Simply not being able to translate the general concept into machine understandable instructions stopped them from using more advanced tools.\n",
    "\n",
    "In cases, where enough time was available, a short introduction into programming with Python gained a lot of interest and was generally seen as a positive experience. With just a short introduction already many advanced tasks can be performed, which would often even have been possible with the \"traditional\" tools.\n",
    "\n",
    "This thesis is therefore structured in such a way, that I will present my research results from the past years in a condensed form. Additionally I will use this opportunity to introduce and explain the importance of applying programming tools in the common work flow of scientific work. \n",
    "\n",
    "The potential of \"outsourcing\" repetitive tasks to machine executable scripts is huge. By focusing on investing more time in creativity and intelligence solutions, the overall quality of the results will increase. My hope is to bring with this thesis not only a deeper insight in the understanding of SMOX based gas sensors, but also help others to start a interesting journey into the wide area of data mining and machine learning with python.\n",
    "\n",
    "The thesis is structured in three major \"work packages\", each of them dealing with discrete elements of a typical scientific tasks. In a condensed form the following areas will be covered:\n",
    "\n",
    "1. Solving differential equations and integral numerically\n",
    "2. Using numerical models for simulation\n",
    "3. Fitting numerical results with experimental data\n",
    "\n",
    "\n",
    "I typically finish my introductions to Python by letting the students run their first commands. For other introductions found around the globe, this is a program which outputs \"Hello World.\". \n",
    "For Python I prefer to execute an other commands with boils almost down to the philosophical essence on how \"instructions\" should be.\n",
    "In a \"Jupyter notebook\", the next cell represents a \"code block\" and can be executed along the text of the document. The output of the executed code is then visible along with the text of the document.\n"
   ]
  },
  {
   "cell_type": "markdown",
   "metadata": {},
   "source": [
    "%%latex\n",
    "\\newpage\n",
    "This page is intentionally left blank."
   ]
  }
 ],
 "metadata": {
  "kernelspec": {
   "display_name": "Python 3",
   "language": "python",
   "name": "python3"
  },
  "language_info": {
   "codemirror_mode": {
    "name": "ipython",
    "version": 3
   },
   "file_extension": ".py",
   "mimetype": "text/x-python",
   "name": "python",
   "nbconvert_exporter": "python",
   "pygments_lexer": "ipython3",
   "version": "3.8.1"
  }
 },
 "nbformat": 4,
 "nbformat_minor": 4
}
