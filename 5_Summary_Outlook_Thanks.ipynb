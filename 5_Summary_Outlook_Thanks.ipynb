{
 "cells": [
  {
   "cell_type": "markdown",
   "metadata": {},
   "source": [
    "%%latex\n",
    "\n",
    "\\setcounter{section}{0}\n",
    "\\setcounter{page}{97}"
   ]
  },
  {
   "cell_type": "markdown",
   "metadata": {},
   "source": [
    "# Summary\n",
    "In this work a numerical model to simulate the conduction mechanism in a SMOX based gas sensor was developed. Based on freely available tools around the \"Jupyter Notebook\" programming environment the following steps have been demonstrated:\n",
    "\n",
    "- solving differential equations\n",
    "- integrals\n",
    "- numerical simulation by using relaxation algorithms based on convolution operations\n",
    "- fitting numerical results to experimental data\n",
    "\n",
    "The results from the numerical model match with experimental data. Additionally this work combines the necessary elements for further research in one unified document. The chosen representation form of the \"Jupyter notebook\" unifies the explanatory descriptions, development of algorithms, data import and analysis and graphical representation. With this advantage further research about the transduction mechanism of SMOX sensors can easily be based on this work."
   ]
  },
  {
   "cell_type": "markdown",
   "metadata": {},
   "source": [
    "# Outlook\n",
    "For a better understanding of the mechanism involved in the sensing process of SMOX gas sensors, the chemical surface reactions will need to be included in this model. For now, this numerical model is able to predict otherwise not measurable properties from simultaneous work function and resistance measurements. This includes:\n",
    "\n",
    "- the concentration of surface charges involved in the sensing process\n",
    "- the influence of temperature changes on the semiconductor\n",
    "\n",
    "Typically the changes in resistance of such a SMOX sensor is used as a signal. Often this one dimensional information of resistance changes is not enough for a detailed characterize of the chemical interaction. Nevertheless the change in resistance is a direct consequence of the changed surface potential. And again, the surface potential changes are triggered by chemical reactions at the surface. Very simplified, the information in the measured resistance (output) is the \"encrypted\" information of the surface reaction (input). For the \"decryption\" of this hidden information the output and input needs to analyzed.\n",
    "\n",
    "To increase the amount of input and output data points, the temperature of the sensor can be modulated. A modulation of the operation temperature while measuring the resulting resistance changes is one of the modern ways to operate gas sensors. Typically the correlation between resistance (output) and chemical surface reaction (input) is analyzed with machine learning based algorithms.\n",
    "With the presented model, the implications on the semiconductor can be predicted and the resistance changes resulting from the semiconductor can be estimated. Hence the additional changes in the resistance should result from the altered surface chemistry. The numerical model may be one possibility to better understand the correlation and fine tune the operation modes.\n",
    "\n"
   ]
  },
  {
   "cell_type": "markdown",
   "metadata": {},
   "source": [
    "%%latex\n",
    "\\newpage\n",
    "\\newpage"
   ]
  },
  {
   "cell_type": "markdown",
   "metadata": {},
   "source": [
    "\"\n",
    "Danksagung\n",
    "\n",
    " \n",
    "\n",
    " \n",
    "\n",
    "Erstens, letztens und allezeit möchte ich der großen Quelle von allem, was in diesem Buch enthalten ist, von allem, was Leben ist und Leben gibt, Dank sagen. Zweitens möchte ich meinen spirituellen Lehrern und Lehrerinnen danken einschließlich der Heiligen und Weisen aller Religionen.\n",
    "\n",
    " \n",
    "\n",
    "Drittens ist mir klar, daß wir alle eine ganze Reihe von Menschen nennen könnten, die unser Leben auf so bedeutsame und tiefgehende Weise berührt haben, daß sie sich einer Kategorisierung oder Beschreibung entziehen: Menschen, die ihre Weisheit mit uns teilten, uns ihre Wahrheit erzählten, mit unendlicher Geduld unsere Fehler und Schwächen ertrugen und uns in allen Höhen und Tiefen zur Seite standen; die das Beste in uns sahen, das zu sehen war. Menschen, die in ihrer Akzeptanz unserer Person wie auch in ihrer Weigerung, jene Teile von uns zu akzeptieren, die wir, wie sie wußten, nicht wirklich wählten, uns zu unserem Wachstum veranlaßten; dazu brachten, irgendwie größer zu werden.\n",
    "\n",
    " \n",
    "\n",
    "Zu den Menschen, die - neben meinen Eltern - in diesem Sinn für mich da waren, gehören Samantha Gorski, Tara-Jenelle Walsch, Wayne Davis, Bryan Walsch, Martha Wright, der verstorbene Ben Wills jr., Roland Chambers, Dan Higgs, C. Berry Carter IL, Ellen Moyer, Anne Blackwell, Dawn Dancing Free, Ed Keller, Lyman W. (Bill) Griswold, Elisabeth Kübler-Ross und der liebe, liebe Terry Cole Witthaker.\n",
    "\n",
    " \n",
    "\n",
    "Zu den genannten Personen möchte ich auch meine ehemaligen Lebensgefährtinnen rechnen, deren Privatsphäre ich respektiere und sie deshalb nicht mit Namen nenne, deren Beitrag zu meinem Leben ich jedoch zutiefst verinnerliche und zu würdigen weiß.\n",
    "\n",
    " \n",
    "\n",
    "Ich bin aus ganzem Herzen dankbar für die Geschenke, die ich von ihnen allen erhalten habe. Und mir wird besonders warm ums Herz beim Gedanken an meine Helferin, Gattin und Partnerin, Nancy Fleming Walsch, eine Frau von außerordentlicher Weisheit, Liebe und enormem Mitgefühl, die mir zeigte, daß meine höchsten Gedanken über Beziehungen nicht Phantasie zu bleiben brauchen, sondern zu wahrgewordenen Träumen werden können. Viertens schließlich möchte ich einigen Menschen meine Anerkennung aussprechen, denen ich niemals begegnet bin, aber deren Leben und Arbeit mich so stark beeinflußt haben, daß ihnen an dieser Stelle mein tiefster Dank gilt für die Momente des außerordentlichen Vergnügens, der Einsichten in die menschlichen Bedingungen und der reinen, einfachen Lebensgefühligkeit (eine Wortschöpfung von mir!), die sie mir geschenkt haben.\n",
    "\n",
    " \n",
    "\n",
    "Wissen Sie, wie es ist, wenn Ihnen jemand einen Geschmack, einen herrlichen Moment von dem vermittelt hat, was wirklich wahr im Leben ist ? In meinem Fall waren dies meist Künstler der einen oder anderen Art. Ich werde durch die Kunst inspiriert, in ihre Bereiche ziehe ich mich in Momenten der Besinnung zurück, und in ihr finde ich das am schönsten ausgedrückt, was wir Gott nennen. Und daher möchte ich mich bedanken bei John Denver, dessen Songs meine Seele berühren und mich mit einer neuen Hoffnung auf das, was das Leben sein könnte, erfüllen; Richard Bach, dessen Bücher in mein Leben hineinreichen, als wären sie meine eigenen, da sie soviel von meiner persönlichen Erfahrung beschreiben; Barbra Streisand, deren regieführende, schauspielerische und musikalische hohe Kunst mich immer wieder ergreift und mein Herz fühlen und nicht nur wissen läßt, was wahr ist; und dem verstorbenen Robert Heinlein, dessen visionäre Romane in einer Weise Fragen aufwarfen und Antworten umrissen, wie sich ihnen kein anderer auch nur anzunähern wagte.\"\n",
    "\n",
    "Gespäche mit Gott, NEALE DONALD WALSCH,1997"
   ]
  }
 ],
 "metadata": {
  "kernelspec": {
   "display_name": "Python 3",
   "language": "python",
   "name": "python3"
  },
  "language_info": {
   "codemirror_mode": {
    "name": "ipython",
    "version": 3
   },
   "file_extension": ".py",
   "mimetype": "text/x-python",
   "name": "python",
   "nbconvert_exporter": "python",
   "pygments_lexer": "ipython3",
   "version": "3.8.1"
  },
  "title": "Summary & Outlook"
 },
 "nbformat": 4,
 "nbformat_minor": 4
}
