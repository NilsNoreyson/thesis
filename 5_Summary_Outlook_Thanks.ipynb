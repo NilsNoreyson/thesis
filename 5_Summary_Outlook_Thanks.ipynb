{
 "cells": [
  {
   "cell_type": "markdown",
   "metadata": {},
   "source": [
    "%%latex\n",
    "\n",
    "\\setcounter{section}{0}\n",
    "\\setcounter{page}{95}"
   ]
  },
  {
   "cell_type": "markdown",
   "metadata": {},
   "source": [
    "# Summary\n",
    "In this work a numerical model to simulate the conduction mechanism in a SMOX based gas sensor was developed. Based on freely available tools around the \"Jupyter Notebook\" programming environment the needed steps have been demonstrated:\n",
    "\n",
    "- solving differential equations\n",
    "- integrals\n",
    "- numerical simulation by using relaxation algorithms based on convolution operations\n",
    "- fitting numerical results to experimental data\n",
    "\n",
    "The results from the numerical model match with experimental data. Additionally this work combines the necessary elements for further research in one unified document. The chosen representation form of the \"Jupyter notebook\" unifies the explanatory descriptions, development of algorithms, data import and analysis and graphical representation. With this advantage upcoming research about the transduction mechanism of SMOX sensors can easily be based on this work."
   ]
  },
  {
   "cell_type": "markdown",
   "metadata": {},
   "source": [
    "# Outlock\n",
    "For a better understanding of the mechanism involved in the sensing process of SMOX gas sensors, the chemical surface reactions will need to be included in this model. For now, this numerical model is able to predict otherwise not measurable properties from simultaneous work function and resistance measurements. This includes:\n",
    "\n",
    "- the concentration of surface charges involved in the sensing process\n",
    "- the influence of temperature changes on the semiconductor\n",
    "\n",
    "Typically the changes in resistance of such a SMOX sensor is used as a signal. Often this one dimensional output of resistance changes are is not enough to characterize chemical interaction. Nevertheless the change in resistance is direct consequence of the changed surface potential. And again, the surface potential changes are triggered by chemical reactions at the surface. Very simplified, the information in the measured resistance (output) is the information of the surface reaction (input) \"encrypts\" in a complicated way. For the \"decryption\" of this hidden information the output and input needs to analyzed.\n",
    "\n",
    "To increase the amount of input and output data points, the temperature of the sensor can be modulated. A modulation of the operation temperature and the measurement of the resulting resistance changes is one of the modern ways to operate gas sensors. Typically the correlation between resistance (output) and chemical surface reaction (input) is analyzed with machine learning based algorithms.\n",
    "With the presented model, the implications on the semiconductor can be predicted and the resistance changes resulting from the semicondutor can be estimated. Hence the additional changes in the resistance should result from the altered surface chemistry. The numerical model may be one possibility to better understand the correlation and fine tune the operation mode.\n",
    "\n"
   ]
  },
  {
   "cell_type": "raw",
   "metadata": {},
   "source": [
    "%%latex\n",
    "\\newpage\n",
    "\\begin{center}\n",
    "\\huge\n",
    "\\textbf{Danksagung}\\\\\n",
    "\\vspace{7\\baselineskip}a\n",
    "An Nicolae, Ute, Udo, Sandu, Leo, Arne, André, Sven, Alex, Inci, Anna, Ugur, Tamara, Matthias, Steffi, Frank, Roman, Lukas, Jens, Wolfram, Diana, Martin, Stefan, Fussel, Christian, Peter, Bob, Serge, Johnny, Mama, Papa, Oma, Johannes, Andrea, Heide, Phillip, Paul, Jan, Maria, Franz \\\\\n",
    "und Anton, Pina, Isi und Gott\n",
    "\\end{center}\n"
   ]
  }
 ],
 "metadata": {
  "kernelspec": {
   "display_name": "Python 3",
   "language": "python",
   "name": "python3"
  },
  "language_info": {
   "codemirror_mode": {
    "name": "ipython",
    "version": 3
   },
   "file_extension": ".py",
   "mimetype": "text/x-python",
   "name": "python",
   "nbconvert_exporter": "python",
   "pygments_lexer": "ipython3",
   "version": "3.8.1"
  },
  "title": "Summary & Outlook"
 },
 "nbformat": 4,
 "nbformat_minor": 4
}
