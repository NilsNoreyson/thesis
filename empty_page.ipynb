{
 "cells": [
  {
   "cell_type": "markdown",
   "metadata": {},
   "source": [
    "%%latex\n",
    "\\newpage\n",
    "This page is intentionally left blank."
   ]
  },
  {
   "cell_type": "raw",
   "metadata": {},
   "source": [
    "%%latex\n",
    "\\newpage\n",
    "\\begin{center}\n",
    "\\huge\n",
    "\\textbf{Danksagung}\\\\\n",
    "\\vspace{7\\baselineskip}a\n",
    "An Nicolae, Ute, Udo, Sandu, Leo, Arne, André, Sven, Alex, Inci, Anna, Ugur, Tamara, Matthias, Steffi, Frank, Roman, Lukas, Jens, Wolfram, Diana, Martin, Stefan, Fussel, Christian, Peter, Bob, Serge, Johnny, Mama, Papa, Oma, Johannes, Andrea, Heide, Phillip, Paul, Jan, Maria, Franz \\\\\n",
    "und Anton, Pina, Isi und Gott\n",
    "\\end{center}\n"
   ]
  }
 ],
 "metadata": {
  "kernelspec": {
   "display_name": "Python 3",
   "language": "python",
   "name": "python3"
  },
  "language_info": {
   "codemirror_mode": {
    "name": "ipython",
    "version": 3
   },
   "file_extension": ".py",
   "mimetype": "text/x-python",
   "name": "python",
   "nbconvert_exporter": "python",
   "pygments_lexer": "ipython3",
   "version": "3.8.1"
  }
 },
 "nbformat": 4,
 "nbformat_minor": 4
}
