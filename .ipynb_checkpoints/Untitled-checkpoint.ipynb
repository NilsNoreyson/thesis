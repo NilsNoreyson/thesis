{
 "cells": [
  {
   "cell_type": "code",
   "execution_count": 1,
   "metadata": {},
   "outputs": [
    {
     "name": "stdout",
     "output_type": "stream",
     "text": [
      "Using matplotlib backend: Qt5Agg\n",
      "Populating the interactive namespace from numpy and matplotlib\n"
     ]
    }
   ],
   "source": [
    "%pylab\n",
    "import pandas\n",
    "\n",
    "#create some x values\n",
    "x = linspace(start=0,stop=5,num = 10)\n",
    "\n",
    "#the y values will the the square of the x values\n",
    "y = x**2\n",
    "\n",
    "#Put them in a Dataframe and reference this new Dataframe with the variable `dF`\n",
    "dF = pandas.DataFrame({'x':x, 'y':y})"
   ]
  },
  {
   "cell_type": "markdown",
   "metadata": {},
   "source": [
    "This simple example of a Dataframe should demonstrate the basic concept of Dataframes. Once data is in the `DataFrame` format, the are infinit ways to transform/slice/merge/... it, to bring it into the desired shape. Along this thesis, some of the functionalities of Dataframes will be used and explained. \n",
    "Since the Jupyter environment is still \"under construction\", the transfer from Juypter to PDF for notebooks does not work to well until now. This does not mean, that is is not possible, it is just not yet implemented in the default/vanilla environment. This is way I want to highlight the small tweak that is at this point still needed to have a comparable output in Juypter notebooks and printed PDFs.\n",
    "To bypass this obstacle the default behavior of pandas needs to be altered ( similar to this post: [Latex-Tables Monkey Patch](https://stackoverflow.com/a/24167756)). This following patch brings DataFrames in the appropriate shape to by nicely represented in both representations."
   ]
  },
  {
   "cell_type": "markdown",
   "metadata": {},
   "source": [
    "### Before the patch"
   ]
  },
  {
   "cell_type": "markdown",
   "metadata": {},
   "source": [
    "### The patch"
   ]
  },
  {
   "cell_type": "code",
   "execution_count": 2,
   "metadata": {},
   "outputs": [],
   "source": [
    "import pandas\n",
    "pandas.set_option('display.notebook_repr_html', True)\n",
    "\n",
    "pandas.set_option('display.notebook_repr_html', True)\n",
    "\n",
    "def _repr_latex_(self):\n",
    "    return r\"\"\"\n",
    "    \\begin{center}\n",
    "    {%s}\n",
    "    \\end{center}\n",
    "    \"\"\" % self.to_latex()\n",
    "\n",
    "pandas.DataFrame._repr_latex_ = _repr_latex_  # monkey patch pandas DataFrame"
   ]
  },
  {
   "cell_type": "markdown",
   "metadata": {},
   "source": [
    "### Pretty tables after the patch"
   ]
  },
  {
   "cell_type": "code",
   "execution_count": 3,
   "metadata": {},
   "outputs": [
    {
     "data": {
      "text/html": [
       "<div>\n",
       "<style scoped>\n",
       "    .dataframe tbody tr th:only-of-type {\n",
       "        vertical-align: middle;\n",
       "    }\n",
       "\n",
       "    .dataframe tbody tr th {\n",
       "        vertical-align: top;\n",
       "    }\n",
       "\n",
       "    .dataframe thead th {\n",
       "        text-align: right;\n",
       "    }\n",
       "</style>\n",
       "<table border=\"1\" class=\"dataframe\">\n",
       "  <thead>\n",
       "    <tr style=\"text-align: right;\">\n",
       "      <th></th>\n",
       "      <th>x</th>\n",
       "      <th>y</th>\n",
       "    </tr>\n",
       "  </thead>\n",
       "  <tbody>\n",
       "    <tr>\n",
       "      <th>0</th>\n",
       "      <td>0.000000</td>\n",
       "      <td>0.000000</td>\n",
       "    </tr>\n",
       "    <tr>\n",
       "      <th>1</th>\n",
       "      <td>0.555556</td>\n",
       "      <td>0.308642</td>\n",
       "    </tr>\n",
       "    <tr>\n",
       "      <th>2</th>\n",
       "      <td>1.111111</td>\n",
       "      <td>1.234568</td>\n",
       "    </tr>\n",
       "    <tr>\n",
       "      <th>3</th>\n",
       "      <td>1.666667</td>\n",
       "      <td>2.777778</td>\n",
       "    </tr>\n",
       "    <tr>\n",
       "      <th>4</th>\n",
       "      <td>2.222222</td>\n",
       "      <td>4.938272</td>\n",
       "    </tr>\n",
       "    <tr>\n",
       "      <th>5</th>\n",
       "      <td>2.777778</td>\n",
       "      <td>7.716049</td>\n",
       "    </tr>\n",
       "    <tr>\n",
       "      <th>6</th>\n",
       "      <td>3.333333</td>\n",
       "      <td>11.111111</td>\n",
       "    </tr>\n",
       "    <tr>\n",
       "      <th>7</th>\n",
       "      <td>3.888889</td>\n",
       "      <td>15.123457</td>\n",
       "    </tr>\n",
       "    <tr>\n",
       "      <th>8</th>\n",
       "      <td>4.444444</td>\n",
       "      <td>19.753086</td>\n",
       "    </tr>\n",
       "    <tr>\n",
       "      <th>9</th>\n",
       "      <td>5.000000</td>\n",
       "      <td>25.000000</td>\n",
       "    </tr>\n",
       "  </tbody>\n",
       "</table>\n",
       "</div>"
      ],
      "text/latex": [
       "\n",
       "    \\begin{center}\n",
       "    {\\begin{tabular}{lrr}\n",
       "\\toprule\n",
       "{} &         x &          y \\\\\n",
       "\\midrule\n",
       "0 &  0.000000 &   0.000000 \\\\\n",
       "1 &  0.555556 &   0.308642 \\\\\n",
       "2 &  1.111111 &   1.234568 \\\\\n",
       "3 &  1.666667 &   2.777778 \\\\\n",
       "4 &  2.222222 &   4.938272 \\\\\n",
       "5 &  2.777778 &   7.716049 \\\\\n",
       "6 &  3.333333 &  11.111111 \\\\\n",
       "7 &  3.888889 &  15.123457 \\\\\n",
       "8 &  4.444444 &  19.753086 \\\\\n",
       "9 &  5.000000 &  25.000000 \\\\\n",
       "\\bottomrule\n",
       "\\end{tabular}\n",
       "}\n",
       "    \\end{center}\n",
       "    "
      ],
      "text/plain": [
       "          x          y\n",
       "0  0.000000   0.000000\n",
       "1  0.555556   0.308642\n",
       "2  1.111111   1.234568\n",
       "3  1.666667   2.777778\n",
       "4  2.222222   4.938272\n",
       "5  2.777778   7.716049\n",
       "6  3.333333  11.111111\n",
       "7  3.888889  15.123457\n",
       "8  4.444444  19.753086\n",
       "9  5.000000  25.000000"
      ]
     },
     "metadata": {},
     "output_type": "display_data"
    },
    {
     "data": {
      "text/plain": [
       "'ok'"
      ]
     },
     "execution_count": 3,
     "metadata": {},
     "output_type": "execute_result"
    }
   ],
   "source": [
    "\n",
    "display(dF)\n",
    "\"ok\""
   ]
  },
  {
   "cell_type": "markdown",
   "metadata": {},
   "source": [
    "### Not so pretty table\n",
    "And here the representation outwith the tweaks. In the notebook the output will look very similar to the above output. In the PDF version of this thesis, those two output will differ, unless a newer version of Jupyter fixed this issue.\n"
   ]
  },
  {
   "cell_type": "markdown",
   "metadata": {},
   "source": [
    "Will this ever by cool again?"
   ]
  }
 ],
 "metadata": {
  "kernelspec": {
   "display_name": "Python 3",
   "language": "python",
   "name": "python3"
  },
  "language_info": {
   "codemirror_mode": {
    "name": "ipython",
    "version": 3
   },
   "file_extension": ".py",
   "mimetype": "text/x-python",
   "name": "python",
   "nbconvert_exporter": "python",
   "pygments_lexer": "ipython3",
   "version": "3.7.4"
  }
 },
 "nbformat": 4,
 "nbformat_minor": 4
}
