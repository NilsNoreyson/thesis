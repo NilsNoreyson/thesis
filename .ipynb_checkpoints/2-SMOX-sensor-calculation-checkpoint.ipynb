{
 "cells": [
  {
   "cell_type": "markdown",
   "metadata": {},
   "source": [
    "%%latex\n",
    "\\tableofcontents \n",
    "\\setcounter{section}{0}"
   ]
  },
  {
   "cell_type": "markdown",
   "metadata": {},
   "source": [
    "# Abstract\n",
    "\n",
    "The investigation of thick film semiconducting metaloxide gas sensors (SMOX) offers for a scientist many secrets to reveal. Hidden in the mystery of semiconductors most process are not available by simple measuring techniques. The general procedure of investigating a material follows the following lines:\n",
    "\n",
    "A measuring technique is applied and based on the state-of-the-art understanding of the transduction mechanism the results are interpreted. The risk of getting to wrong conclusions are fairly high since the amount of assumption in the logical conclusion-path are quit high.\n",
    "\n",
    "A major key figure measured is often the resistance of the sensor. Therefore one important elements in this logical path of conclusion is how electrical properties of the semiconductor result in a resistance. Further more the how (relative) changes of the properties result in changes in the resistance. With this knowledge other processes related i.e. to chemical surface reaction my be understood better. "
   ]
  },
  {
   "cell_type": "markdown",
   "metadata": {},
   "source": [
    "# General Aspects of $SnO_2$ based gas sensors\n",
    "\n",
    "\n",
    "\n",
    "## Common preparation routes of $SnO_{2}$ materials \n",
    "\n",
    "### SOl gel\n",
    "\n",
    "#### Morphologies and shape\n",
    "\n",
    "### Flame spray pyrolysis\n",
    "\n",
    "\n",
    "\n",
    "#### Morphologies and shape\n",
    "\n",
    "## Bulk properties of the SnO_{2}\n",
    "\n",
    "## Work function\n",
    "\n",
    "### Kelvin Probe \n",
    "\n",
    "## Surface reactions\n",
    "\n",
    "## Modelling for the transduction and reaction\n",
    "\n",
    "### General principle of measurement \n",
    "\n",
    "### Schottky approximation\n",
    "\n",
    "### Boltzmann Approximation\n",
    "\n",
    "### Effective density of states N_{C}\n",
    "\n",
    "### Current models, State of the art\n"
   ]
  },
  {
   "cell_type": "markdown",
   "metadata": {},
   "source": [
    "# Motivation\n",
    "The research on semiconducting metal oxide gas sensors was focusing in the past mostly on scenarios, where oxygen is the most dominant reactive, gaseous, species in the proximity of the sensor. The adsorbed oxygen at the surface of the semiconductor lead to an interaction with the charges inside the thick film grains. Due to the trapping of the charge carrier by oxygen, a depletion layer is formed in the surface region of the semiconductor. Based on this depletion layer assumption, many investigations have successfully lead to a deep understanding of the sensing mechanism. \n",
    "\n",
    "Nevertheless, the assumption the existence of an depletion layer is not always valid. Recent experimental results have shown, that even under atmospheric conditions which are common in real live, the dominant impact of oxygen may be gone. It could be shown, that under conditions of 50% r.h. and low concentrations of CO (>1 ppm) in synthetic air, the depletion layer was gone and a accumulation layer manifested. The results are shown in Figure \n",
    "\n",
    "![Nitrogen switch](media/pics/external_plots/nitroline_switch_julia.jpg)\n",
    "\n",
    "With the absence of the depletion layer also most simplifications are not valid anymore. Mainly the validity of the Schottky and Boltzmann approximation are not given anymore. Facing those facts the equations to describe the transduction mechanism for a specific electrical band configurations needed a more general descriptions, which includes a depletion and accumulation layer controlled transduction mechanism.\n",
    "\n",
    "To describe such a semiconductor the set of differential equations is available in literature. Since the previously used simplifications for such problems are not valid in the generalized case, finding an analytically solution exceeded by far my intellectual capabilities.This is why a I chose to go a different. Find a numerical solution for the problem by using computational power\n",
    "\n",
    "While working in the field of SMOX allready some years, I was used to describe transduction processes by assigning different parts of an analytical solution to properties of the sensor. With a numerical solution this is not possible anymore and this was certainly a drawback of this method. But on the other side the relation between an effect and a intrinsic property can be studied also in detail, when numerically solving the equations for multiple values of the intrinsic property. The influence of may be studied and an insight about the principles can be gained. Therefore the goal was first to break the problem of describing a SMOX sensor into smaller parts discreet parts and second trying to solve each of it individually.\n",
    "\n",
    "In the upcoming chapters I will describe the different part and how they have been simplified, solved individually and combined again. Each part will also hold a section where experimental data is compared with the numerically gained results."
   ]
  },
  {
   "cell_type": "markdown",
   "metadata": {},
   "source": [
    "# Numerical calculation"
   ]
  },
  {
   "cell_type": "markdown",
   "metadata": {},
   "source": [
    "## Introduction\n",
    "\n",
    "To elaborate the modeling of sensing, different equations, many of which are described in [sec:current models] such as the shape dependent Poisson equation or the combination between the Poisson equation, the electro-neutrality equation and the geometry dependent electrical current path, must be solved. In most cases, this is an extensive mathematical effort and therefore, the numerical computing environments Python will be used to derive numerical solutions for equations, which cannot be solved analytically, as shown below. Depending on the grains size the charge trapping at the surface has different impact on the potential and charge distribution inside the grain. For large grains compared to their Debye length ($L_D$), a charge transfer at the surface may be leave the bulk unaffected. In contrast to large grains, relative small grains may be affected through the whole grain (Figure [fig:Potential-for-spheriacal,small_1ld]). \n",
    "\n",
    "To understand the influence of a the charge transfer at the surface the resulting potential distribution which propagates inside the grain is from main importance. With this knowledge the free charge carrier concentration and a position dependent resistivity can be defined. \n",
    "\n",
    "When investigating the total resistance of one grain, the pathway through the grain plays a major role. The total resistance may vary a lot based on the an-isotropic resistivity distribution. \n",
    "\n",
    "In the simplest case of symmetric contacts on opposite sites, a graphical representation of the results from a numerical simulation of one grain with a small depletion layer is shown in (Figure 3). The resulting total resistance of one grain as a function of the surface potential can then be used as an approximation for the resistance of a full multi-grain - sensor. (Figure [fig:grain_simulation_small_depl]). The relation between surface potential change and resistance change may also be obtained experimentally as described in the previous paragraph with the Kelvin-Probe-Method (REF).By comparing the Kelvin-Probe-Data with the results from the numerical simulation a better understanding of the influence of the grain size on the performance can be gained. The fitting of the numerical parameters of the simulation to experimental data or generally fitting of data with an appropriate function can easily be performed in the presented environment. "
   ]
  },
  {
   "cell_type": "markdown",
   "metadata": {},
   "source": [
    "## Semiconductor properties of the SMOX grains\n",
    "\n",
    "The advantages of industrialized production techniques are inline with general advantages of the SMOX-based sensor technologie. Both are:\n",
    "\n",
    "• upscalable\n",
    "\n",
    "• highly reproducible \n",
    "\n",
    "• low cost\n",
    "\n",
    "Besides the benefits for the industrialization of such a material, also the resulting morphological are beneficial for a good sensor performance. The typical spherical grains with a narrow size distribution result in high surface to volume ration. Besides the high surface area, the high number of grain-grain contacts have a positive effect on the sensitivity of the sensor, due to the high number of back to back Schottky barriers. As described in [sec:current models]such barriers are of major importance for the sensing properties.\n",
    "\n",
    "In the literature other geometries claim exceptional performances for multiple other shapes. As from hollow spheres to nano-rods, often the mechanism which explains the measured increase in performance is not explained. Since the aim is to gain a fundamental understanding of the shape influence while staying close to a industrialize material such exotic shapes I will keep the focus in this work on spherical grains, which are commonly used in commercial products. Nevertheless the techniques described in my work should be transferable to arbitrary and more complex shapes. \n",
    "\n",
    "Besides the shape also the defect concentration and stochastic composition varies a lot with the preparation process. One additional goal of this thesis is to gain a better understanding about the relation of these two properties and the sensor performance.\n"
   ]
  },
  {
   "cell_type": "markdown",
   "metadata": {},
   "source": [
    "## Choice of geometric model\n",
    "\n",
    "Both favorable preparation methods mentioned in the latter paragraph have been investigated under a REM (Figure [fig:REM_grain_SMOX]). The SMOX grains can be well approximated as spherical grains. The typical diameters of the grains are from 5nm to 200nm. The benefit by choosing of such a shape with a the rotational symmetry is the reduction of the complexity for the numerical calculation. Therefore the approximation of the SMOX particles as spheres was chosen. The second benefit of choosing materials prepared by rather standardized preparation routes is the availability of multiple different materials form varying laboratories around the world. These materials may vary in sizes and defect concentration but are often similar in shape. This fact is favorable when the numerical results are compared and validated with experimental data. \n",
    "\n",
    "[Picture of a typical SMOX-Sensor with the grains visible](WHAT!)\n",
    "\n",
    "Other available materials with more specialized shapes as hallow spheres or fibers do exist, but will not be investigated in the research. In the first place the complex numerical description of such geometries will increase the calculation duration. Also the limited availability and variety in parameters as diameter, doping level, band gap, material composition are not favorable for to check the numerical model with experimental data."
   ]
  },
  {
   "cell_type": "markdown",
   "metadata": {},
   "source": [
    "## Poisson's equation\n",
    "\n",
    "Reactions at the surface (see [sec:Surface-reactions]) result in a charge transfer between the bulk of a grain and the surface. This modification of the charge density distribution inside the grain causes again a change in resistivity . By moving charges to/away from the surface, electrical potentials through the grain are generated. The electrical potential at the surface and therefore the work function of the semiconductor changes (see [subsec:Work-function]). \n",
    "\n",
    "Previous studies have shown, that a direct relation between surface potential, surface charge and resistance exists. The latter studies initially define certain approximations which have been adapted and reasonable for the investigated cases, but do not allow a predictions outside the boundaries of the pre-assumption. Also the direct impact of size and geometric on the transduction is not taken fully into consideration. In order to have a more general model of the SMOX materials and to include the geometric effects, the charge distribution has to be solved in a more general way.\n",
    "\n",
    "Identical to the previous studies the relation between surface potential and charge distribution has to be solved initially. This relation is defined by the Poisson-Law: \n",
    "\n",
    "\\begin{align}\n",
    "\\nabla\\phi=-\\frac{\\rho}{\\epsilon\\epsilon_{0}} \\label{eq1}\\tag{Poisson}\n",
    "\\end{align}\n",
    "\n",
    "$\\phi$=electrical potential, $\\rho$=free charge density, $\\epsilon$=vacuum permittivity, $\\epsilon_{0}$=relative permittivity.\n",
    "\n",
    "TODO TEM analysis of the crystal quality of one grain indicate a high crystalline quality. Therefore one can assume that $\\epsilon$ does not vary inside the grain. The charge destiny $\\rho$ on the other side is directly influenced by the charge transfer. Since the transfer of charges to the surface influences the work function and the energetic position of the conduction band, $\\rho$ is a function of $\\phi$. $\\phi$ again depends on the position in the grain. At the surface $\\phi(r=r_{S})$ corresponds to the surface potential $\\phi_s$, while in the center $\\phi(r=0)=\\phi_b$ may have a different value. The exact shape of $\\phi(r)$ is gained from solving the Poisson equation $(\\ref{eq1})$.\n",
    "\n",
    "It will be assumed, that the reactions take place a the surface of the crystal and bulk diffusion will be neglected. Even if there are reports of oxygen bulk diffusion for certain materials (Quelle), this is not the general behavior and does not apply apply for $SnO_{2}$. Since all surface sites will be accessible by the gas, the solution of [eq:poisson_eq]should have a rotational symmetry. In the case of multiple grains with grain-grain contacts this assumptions needs to be validated again.\n",
    "\n",
    "In case of an rotational symmetric shape of a SMOX grain, equation [eq:poisson_eq]can be expressed as a ordinary differential equation of only the radius:\n",
    "\n",
    "$(\\frac{1}{r²})\\frac{d}{dr}\\frac{r²d\\phi(r)}{dr}=-\\frac{\\rho(r)}{\\epsilon\\epsilon_{0}}$\n",
    "\n",
    "Description of the coordinate system of one spherical symmetric SMOX grain...."
   ]
  },
  {
   "cell_type": "markdown",
   "metadata": {},
   "source": [
    "## Charge density\n",
    "\n",
    "As mentioned, the scope of my work was to investigate the transduction mechanism. Specially including the phenomena of a switch from a depletion- to accumulation layer controlled transduction mechanism. The previously shown conduction mechanism switch an experiment is shown, where such a switch occurs under application relevant environmental conditions (50% r.h. and ~3 ppm CO). The findings are described in detail in <cite data-cite=\"Barsan2015\">\"Conduction mechanism switch for SnO2 based sensors during operation in application relevant conditions; implications for modeling of sensing\"</cite>.\n",
    "\n",
    "\n",
    "To summarize the findings it can be said, that the resistance drops below the level obtained under inert conditions in nitrogen, which means that the material is getting more conductive that it is initially. The root cause of the higher conductivity is the increased number of free charge carrier in the conduction band. In contrast to a depletion layer controlled transduction mechanism a accumulation layer is formed while charges are pushed into the conduction band. \n",
    "\n",
    "In cases of depletion layer controlled transduction the Schottky-Approximation as described in the beginning was proven to be a effective way to describe and simplify the Poisson equation. In the case of a accumulation layer the assumption of a fully depleted space charge layer is not valid anymore. \n",
    "\n",
    "It should be mentioned, that a common second approximation often used together with Schottky's approximation is Boltzmann's approximation. The Boltzmann approximation is valid if the energetic difference between the energy E and the Fermi level energy $E_{Fermi}$ is high enough:\n",
    "\\begin{align}\n",
    "E-E_{Fermi}\\gg3k_{B}T\n",
    "\\end{align}\n",
    "Then the Fermi-Dirac distibution $f(E)$ can be expressed with the Boltzmann distribution b(E):\n",
    "\n",
    "\\begin{align}\n",
    "f(E)=\\frac{1}{exp(\\frac{E-E_{Fermi}}{k_{B}T})+1}\\xrightarrow{Boltzmann\\,Conditions}b(E)=exp(-\\frac{(E-E_{Fermi})}{k_{B}T})\n",
    "\\end{align}\n",
    "\n",
    "Based on the findings, that the flat band situation is reached in application relevant conditions, the Boltzmann approximation i not valid anymore. Operando Kelvin Probe (see: [subsec:Kelvin-Probe]) experiments indicate, that the surface potential may drop up to 1eV below the nitrogen level <cite data-cite=\"Barsan2015\">\"Conduction mechanism switch for SnO2 based sensors during operation in application relevant conditions; implications for modeling of sensing\"</cite>. The typical difference $E_{Conduction}-E_{Fermi}$ is between 50meV and 300meV. It is reasonable to expect, that the conduction band may even cross the Fermi level and therefore also the conditions necessary for the Boltzmann approximation do not exist. In the upcomming calculations I will calculate and show relative error, when using the Boltzmann approximation for a relevant range of energy bendings of the conduction band. \n",
    "\n",
    "<cite data-cite=\"Barsan2011a\">{Conduction mechanisms in SnO2 based polycrystalline thick film gas sensors exposed to CO and H2 in different oxygen backgrounds}</cite> and its validity for the case of an accumulation layer will be shown in the upcoming calculations.\n",
    "\n",
    "To unify all transduction mechanisms into on numerical calculation the Fermi-Dirac distribution, without further simplification, is used to calculate the charge distributions. \n",
    "\n",
    "We will begin by rewrite the Fermi-Dirac equation to a suitable format, which will reflect the the occupation probability at energies relative to the initial conduction band position $E_C$:\n",
    "\n",
    "Ferimi-Dirac:\n",
    "\\begin{align}\n",
    "f(E)=\\frac{1}{exp(\\frac{E-E_{Fermi}}{k_{B}T})+1}=\\frac{1}{exp(\\frac{E-E_{C}+E_{C}-E_{Fermi}}{k_{B}T})+1}=\\frac{1}{exp(\\frac{E_{C}-E_{Fermi}}{k_{B}T})*exp(\\frac{E-E_{C}}{k_{B}T})+1}\n",
    "\\end{align}\n",
    "\n",
    "The density of states is given by [#Sze2007]for and electron in the conduction band with the effective mass m^{*}as followed: DERIVE NUMERICALLY!\n",
    "\n",
    "\\begin{align}\n",
    "N_{E_{C}}\\left(E\\right)=\\frac{\\sqrt{2}}{\\Pi^{^{2}}}\\frac{\\sqrt{E-E_{C}}}{\\hbar^{3}}m^{*^{\\frac{3}{2}}}=4\\Pi*\\frac{\\left(2*m^{*}\\right)^{\\frac{3}{2}}}{h^{3}}*\\sqrt{E-E_{C}}\n",
    "\\end{align}\n",
    "\n",
    "With the occupation probability $f(E)$ and the density of states $N(E)$ the number of charges in the conduction band can be calculated:\n",
    "\\begin{align}\n",
    "n\\left(E_{C}\\right)=\\intop_{E_{C}}^{inf}N_{E_{C}}\\left(E\\right)*f\\left(E\\right)dE\n",
    "\\end{align}\n",
    "\n",
    "Typically this equation is simplified to the following form. Such an analytical equation is useful for further alaytical calculations but is not  necessary for our numerical approach:\n",
    "\n",
    "\\begin{align}\n",
    "n(E_{C})=N_{C}exp\\left(\\frac{E_{F}-E_{C}}{k_{B}T}\\right)\\label{n}\\tag{$n(E_C)$}\n",
    "\\end{align}\n",
    "\n",
    "with $N_{C}=2\\left(\\frac{2\\Pi m_{e}^{*}k_{B}T}{h²}\\right)^{\\frac{3}{2}}$, the effective density of states in the conduction band.\n",
    "It is worth-wise to mention, that this simplification is only valid if also the Boltzmann approximation is valid. \n",
    "\n",
    "Equation [eq:integral_n] was solved numerically and compared with the results obtained with the common approximations( $m_{e}^{*}=0.3m_{e}$ for $SnO_{2}$ <cite data-cite=\"Batzill2005\">(The surface and materials science of tin oxide)</cite> was chosen .\n",
    "\n",
    "Previous publications prove, that above a operation temperature of 300°C, all donors are ionized and available as free charge carriers in the conduction band <cite data-cite=\"Barsan2015\">\"Conduction mechanism switch for SnO2 based sensors during operation in application relevant conditions; implications for modeling of sensing\"</cite>. If some of those electrons are trapped at the surface due to surface reaction, a positive charge remains localized in the crystal at the donors position. Additionally the energetic position of the conduction band increases with electron trapped at the surface. Out of the combination of conduction band shift $E=E_{C}-E_{C_{b}}$ and equation \\ref{n}, one can calculate now the free charge carrier density $\\rho$ from Poisson's equation.\n",
    "\n",
    "In the case of an unaffected bulk, $n(E_{C_{b}})\\equiv n_{b}$ is the density of electrons in the conduction band. In case of a charge transfer to/from the surface, the number of electrons in the conduction band will change. The relation between the density of charges in the conduction band $n(E_{C})$ and the shifted, new energetic position of the conduction band $E_{C}$ is fixed by equation \\ref{n}. The difference between $n_{b}$ and $n(E_{C})$ is the density of the positive, ionized donors remaining in the crystal. Those remaining donors are the cause of the electrical screening of the surface potential. The decay of the energetic conduction band position from the surface energy back to the 'bulk position' depends directly on that number. With this relation a energy dependent charge density can be formulated as followed:\n",
    "\n",
    "\\begin{align}\n",
    "\\frac{\\rho(E)}{e}=n(E_{C_b})-n(E) = n_{b}-n(E)\n",
    "\\end{align}\n",
    "\n",
    "Equation \\ref{n} becomes then:\n",
    "\n",
    "\\begin{align}\n",
    "\\left(\\frac{1}{r²}\\right)\\frac{d}{dr}\\frac{r²d\\phi}{dr}=-\\frac{\\rho\\left(E\\left(r\\right)\\right)}{\\epsilon\\epsilon_{0}}=-\\frac{e\\left(n\\left(E_{C_{b}}\\right)-n\\left(E\\right)\\right)}{\\epsilon\\epsilon_{0}}=-\\frac{e\\left(n_{b}-n\\left(E\\right)\\right)}{\\epsilon\\epsilon_{0}}\n",
    "\\end{align}\n",
    "\n",
    "With $E=V*e=(\\Phi_{0}-\\Phi)*e$\n",
    "\n",
    "“In discussions of semiconductos, it is useful to define a \"band bending\" function $V$ such that $eV$ is related to the potential energy of an electron”<cite data-cite=\"S.RoyMorrison1977\"> The Chemical Physics of Surfaces, Morrison, 1977</cite>::\n",
    "\n",
    "$V=\\phi_{b}-\\phi,\\;E=V*e$"
   ]
  },
  {
   "cell_type": "code",
   "execution_count": null,
   "metadata": {},
   "outputs": [],
   "source": [
    "With this relation equation [eq:poisson_sperical_n_int] becomes:\n",
    "\n",
    "\\left(\\frac{1}{r\\text{\\texttwosuperior}}\\right)\\frac{d}{dr}\\frac{r\\text{\\texttwosuperior}dV}{dr}=\\frac{e\\left(n_{b}-n\\left(E\\right)\\right)}{\\epsilon\\epsilon_{0}}\n",
    "\n",
    "and equation [eq:effective_density_states] transform to:\n",
    "\n",
    "n\\left(V\\right)=\\intop_{eV}^{inf}N_{eV}\\left(eV\\right)*f\\left(eV\\right)edV\n",
    "\n",
    "For the numerical calculation it is favorable to remove as much possible the material characteristics properties and work with unit less parameters. Therefore the the position in the grain will be expressed as a ratio of the Debye length :\n",
    "\n",
    "L_{D}=\\sqrt{\\frac{\\epsilon\\epsilon_{0}k_{B}T}{n_{b}e^{2}}}\n",
    "\n",
    "r^{*}=\\frac{r}{L_{D}}, \\frac{dr^{*}}{dr}=\\frac{1}{L_{D}}\\longrightarrow dr=dr^{*}*L_{D}\n",
    "\n",
    "V^{*}=\\frac{eV}{k_{B}T}, \\frac{dV^{*}}{dV}=\\frac{e}{k_{B}T}\\longrightarrow dV=dV^{*}*\\frac{k_{B}T}{e}\n",
    "\n",
    "n^{*}(V^{*})=\\frac{n(V)}{n_{b}}\n",
    "\n",
    "By substituting those unit-less parameters in [eq:poisson_sperical_n_int_V] one obtains the a unit-less Poisson equation suitable for the numerical calculations (see [sec:Substitution-Unitless]):\n",
    "\n",
    "\\frac{1}{r^{*2}}\\frac{d}{dr^{*}}\\frac{r\\text{\\texttwosuperior}dV^{*}}{dr^{*}}=1-n^{*}(V^{*})"
   ]
  },
  {
   "cell_type": "markdown",
   "metadata": {},
   "source": [
    "# Bibliography section"
   ]
  },
  {
   "cell_type": "markdown",
   "metadata": {},
   "source": [
    "%%latex\n",
    "\\bibliographystyle{alphadin}\n",
    "\\bibliography{ipython}"
   ]
  }
 ],
 "metadata": {
  "kernelspec": {
   "display_name": "Python 3",
   "language": "python",
   "name": "python3"
  },
  "language_info": {
   "codemirror_mode": {
    "name": "ipython",
    "version": 3
   },
   "file_extension": ".py",
   "mimetype": "text/x-python",
   "name": "python",
   "nbconvert_exporter": "python",
   "pygments_lexer": "ipython3",
   "version": "3.7.4"
  },
  "title": "Numerical calculations of SMOx based gas sensors with Python"
 },
 "nbformat": 4,
 "nbformat_minor": 4
}
