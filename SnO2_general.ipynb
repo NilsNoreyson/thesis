{
 "cells": [
  {
   "cell_type": "markdown",
   "metadata": {},
   "source": [
    "%%latex\n",
    "\\tableofcontents \n",
    "\\setcounter{section}{1}\n"
   ]
  },
  {
   "cell_type": "markdown",
   "metadata": {},
   "source": [
    "# General aspects of gas sensors\n",
    "\n",
    "\n",
    "\n",
    "## Common preparation routes of $SnO_{2}$ materials \n",
    "\n",
    "## SOl gel\n",
    "\n",
    "\n",
    "\n",
    "### Morphologies and shape\n",
    "\n",
    "### Flame spray pyrolysis\n",
    "\n",
    "\n",
    "\n",
    "### Morphologies and shape\n",
    "\n",
    "## Bulk properties of the $SnO_{2}$\n",
    "\n",
    "## Work function\n",
    "\n",
    "### Kelvin Probe \n",
    "\n",
    "## Surface reactions\n",
    "\n",
    "## Modelling for the transduction and reaction\n",
    "\n",
    "### General principle of measurement \n",
    "\n",
    "### Schottky approximation\n",
    "\n",
    "### Boltzmann Approximation\n",
    "\n",
    "### Effective density of states $N_{C}$\n",
    "\n",
    "### Current models, State of the art\n"
   ]
  },
  {
   "cell_type": "markdown",
   "metadata": {},
   "source": [
    "# Bibliography section"
   ]
  },
  {
   "cell_type": "markdown",
   "metadata": {},
   "source": [
    "%%latex\n",
    "\\bibliographystyle{alphadin}\n",
    "\\bibliography{ipython}"
   ]
  }
 ],
 "metadata": {
  "authors": [
   {
    "name": "Peter Bonanati"
   }
  ],
  "kernelspec": {
   "display_name": "Python 3",
   "language": "python",
   "name": "python3"
  },
  "language_info": {
   "codemirror_mode": {
    "name": "ipython",
    "version": 3
   },
   "file_extension": ".py",
   "mimetype": "text/x-python",
   "name": "python",
   "nbconvert_exporter": "python",
   "pygments_lexer": "ipython3",
   "version": "3.7.4"
  },
  "title": "General aspects of gas sensors"
 },
 "nbformat": 4,
 "nbformat_minor": 4
}
